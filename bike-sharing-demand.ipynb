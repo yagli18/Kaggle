{
 "cells": [
  {
   "cell_type": "code",
   "execution_count": 1,
   "id": "d9d498c5",
   "metadata": {
    "_cell_guid": "b1076dfc-b9ad-4769-8c92-a6c4dae69d19",
    "_uuid": "8f2839f25d086af736a60e9eeb907d3b93b6e0e5",
    "execution": {
     "iopub.execute_input": "2022-08-31T05:30:56.893736Z",
     "iopub.status.busy": "2022-08-31T05:30:56.893299Z",
     "iopub.status.idle": "2022-08-31T05:30:56.907223Z",
     "shell.execute_reply": "2022-08-31T05:30:56.905528Z"
    },
    "papermill": {
     "duration": 0.023965,
     "end_time": "2022-08-31T05:30:56.909415",
     "exception": false,
     "start_time": "2022-08-31T05:30:56.885450",
     "status": "completed"
    },
    "tags": []
   },
   "outputs": [
    {
     "name": "stdout",
     "output_type": "stream",
     "text": [
      "/kaggle/input/bike-sharing-demand/sampleSubmission.csv\n",
      "/kaggle/input/bike-sharing-demand/train.csv\n",
      "/kaggle/input/bike-sharing-demand/test.csv\n"
     ]
    }
   ],
   "source": [
    "# This Python 3 environment comes with many helpful analytics libraries installed\n",
    "# It is defined by the kaggle/python Docker image: https://github.com/kaggle/docker-python\n",
    "# For example, here's several helpful packages to load\n",
    "\n",
    "import numpy as np # linear algebra\n",
    "import pandas as pd # data processing, CSV file I/O (e.g. pd.read_csv)\n",
    "\n",
    "# Input data files are available in the read-only \"../input/\" directory\n",
    "# For example, running this (by clicking run or pressing Shift+Enter) will list all files under the input directory\n",
    "\n",
    "import os\n",
    "for dirname, _, filenames in os.walk('/kaggle/input'):\n",
    "    for filename in filenames:\n",
    "        print(os.path.join(dirname, filename))\n",
    "\n",
    "# You can write up to 20GB to the current directory (/kaggle/working/) that gets preserved as output when you create a version using \"Save & Run All\" \n",
    "# You can also write temporary files to /kaggle/temp/, but they won't be saved outside of the current session"
   ]
  },
  {
   "cell_type": "code",
   "execution_count": 2,
   "id": "e7e04092",
   "metadata": {
    "execution": {
     "iopub.execute_input": "2022-08-31T05:30:56.922320Z",
     "iopub.status.busy": "2022-08-31T05:30:56.922022Z",
     "iopub.status.idle": "2022-08-31T05:30:59.046035Z",
     "shell.execute_reply": "2022-08-31T05:30:59.045296Z"
    },
    "papermill": {
     "duration": 2.132877,
     "end_time": "2022-08-31T05:30:59.048132",
     "exception": false,
     "start_time": "2022-08-31T05:30:56.915255",
     "status": "completed"
    },
    "tags": []
   },
   "outputs": [],
   "source": [
    "import pandas as pd\n",
    "import numpy as np\n",
    "import matplotlib.pyplot as plt\n",
    "%matplotlib inline\n",
    "import seaborn as sns\n",
    "import plotly.express as px\n",
    "import plotly.graph_objs as go\n",
    "from plotly.subplots import make_subplots\n",
    "import xgboost as xgb"
   ]
  },
  {
   "cell_type": "code",
   "execution_count": 3,
   "id": "d0b6f43f",
   "metadata": {
    "execution": {
     "iopub.execute_input": "2022-08-31T05:30:59.063842Z",
     "iopub.status.busy": "2022-08-31T05:30:59.063383Z",
     "iopub.status.idle": "2022-08-31T05:30:59.266013Z",
     "shell.execute_reply": "2022-08-31T05:30:59.265218Z"
    },
    "papermill": {
     "duration": 0.213086,
     "end_time": "2022-08-31T05:30:59.268077",
     "exception": false,
     "start_time": "2022-08-31T05:30:59.054991",
     "status": "completed"
    },
    "tags": []
   },
   "outputs": [],
   "source": [
    "from sklearn.linear_model import LinearRegression\n",
    "from sklearn.linear_model import Ridge,Lasso\n",
    "from sklearn.linear_model import ElasticNet\n",
    "from sklearn.neighbors import KNeighborsRegressor\n",
    "from sklearn.ensemble import GradientBoostingRegressor\n",
    "from sklearn.tree import ExtraTreeRegressor\n",
    "from sklearn.tree import DecisionTreeRegressor\n",
    "from xgboost import XGBRegressor\n",
    "from sklearn.model_selection import train_test_split\n",
    "from sklearn.metrics import mean_squared_error,r2_score,mean_absolute_error"
   ]
  },
  {
   "cell_type": "code",
   "execution_count": 4,
   "id": "adbad7d2",
   "metadata": {
    "execution": {
     "iopub.execute_input": "2022-08-31T05:30:59.280374Z",
     "iopub.status.busy": "2022-08-31T05:30:59.280102Z",
     "iopub.status.idle": "2022-08-31T05:30:59.288465Z",
     "shell.execute_reply": "2022-08-31T05:30:59.287839Z"
    },
    "papermill": {
     "duration": 0.016261,
     "end_time": "2022-08-31T05:30:59.290049",
     "exception": false,
     "start_time": "2022-08-31T05:30:59.273788",
     "status": "completed"
    },
    "tags": []
   },
   "outputs": [],
   "source": [
    "def algo_test(x,y):\n",
    "        L=LinearRegression()\n",
    "        R=Ridge()\n",
    "        Lass=Lasso()\n",
    "        E=ElasticNet()\n",
    "        ETR=ExtraTreeRegressor()\n",
    "        GBR=GradientBoostingRegressor()\n",
    "        kn=KNeighborsRegressor()\n",
    "        dt=DecisionTreeRegressor()\n",
    "        xgb=XGBRegressor()\n",
    "        \n",
    "        algos=[L,R,Lass,E,ETR,GBR,kn,dt,xgb]\n",
    "        algo_names=['Linear','Ridge','Lasso','ElasticNet','Extra Tree','Gradient Boosting','KNeighborsRegressor','Decision Tree','XGBRegressor']\n",
    "        \n",
    "        x_train, x_test, y_train, y_test=train_test_split(x,y,test_size=.2,random_state=42)\n",
    "        \n",
    "        r_squared= []\n",
    "        rmse= []\n",
    "        mae= []\n",
    "        \n",
    "        result=pd.DataFrame(columns=['R_Squared','RMSE','MAE'],index=algo_names)\n",
    "        \n",
    "        for algo in algos:\n",
    "            p=algo.fit(x_train,y_train).predict(x_test)\n",
    "            r_squared.append(r2_score(y_test,p))\n",
    "            rmse.append(mean_squared_error(y_test,p)**.5)\n",
    "            mae.append(mean_absolute_error(y_test,p))\n",
    "        \n",
    "        result.R_Squared=r_squared\n",
    "        result.RMSE=rmse\n",
    "        result.MAE=mae\n",
    "        \n",
    "        rtable=result.sort_values('R_Squared',ascending=False)\n",
    "        return rtable"
   ]
  },
  {
   "cell_type": "code",
   "execution_count": 5,
   "id": "8c5c079c",
   "metadata": {
    "execution": {
     "iopub.execute_input": "2022-08-31T05:30:59.302203Z",
     "iopub.status.busy": "2022-08-31T05:30:59.301805Z",
     "iopub.status.idle": "2022-08-31T05:30:59.358355Z",
     "shell.execute_reply": "2022-08-31T05:30:59.357752Z"
    },
    "papermill": {
     "duration": 0.064731,
     "end_time": "2022-08-31T05:30:59.360145",
     "exception": false,
     "start_time": "2022-08-31T05:30:59.295414",
     "status": "completed"
    },
    "tags": []
   },
   "outputs": [],
   "source": [
    "path = '/kaggle/input/bike-sharing-demand/'\n",
    "\n",
    "train = pd.read_csv(path + 'train.csv')\n",
    "test = pd.read_csv(path + 'test.csv')\n",
    "submission = pd.read_csv(path + 'sampleSubmission.csv')"
   ]
  },
  {
   "cell_type": "markdown",
   "id": "5eebcbdd",
   "metadata": {
    "papermill": {
     "duration": 0.005091,
     "end_time": "2022-08-31T05:30:59.370903",
     "exception": false,
     "start_time": "2022-08-31T05:30:59.365812",
     "status": "completed"
    },
    "tags": []
   },
   "source": [
    "## Feature Engineering"
   ]
  },
  {
   "cell_type": "code",
   "execution_count": 6,
   "id": "cb629304",
   "metadata": {
    "execution": {
     "iopub.execute_input": "2022-08-31T05:30:59.382933Z",
     "iopub.status.busy": "2022-08-31T05:30:59.382446Z",
     "iopub.status.idle": "2022-08-31T05:30:59.398501Z",
     "shell.execute_reply": "2022-08-31T05:30:59.397207Z"
    },
    "papermill": {
     "duration": 0.024293,
     "end_time": "2022-08-31T05:30:59.400367",
     "exception": false,
     "start_time": "2022-08-31T05:30:59.376074",
     "status": "completed"
    },
    "tags": []
   },
   "outputs": [
    {
     "data": {
      "text/plain": [
       "1    7192\n",
       "2    2834\n",
       "3     859\n",
       "4       1\n",
       "Name: weather, dtype: int64"
      ]
     },
     "execution_count": 6,
     "metadata": {},
     "output_type": "execute_result"
    }
   ],
   "source": [
    "train.weather.value_counts() # delete 4 from train data"
   ]
  },
  {
   "cell_type": "code",
   "execution_count": 7,
   "id": "2fc49efe",
   "metadata": {
    "execution": {
     "iopub.execute_input": "2022-08-31T05:30:59.412881Z",
     "iopub.status.busy": "2022-08-31T05:30:59.412597Z",
     "iopub.status.idle": "2022-08-31T05:30:59.419425Z",
     "shell.execute_reply": "2022-08-31T05:30:59.418622Z"
    },
    "papermill": {
     "duration": 0.015056,
     "end_time": "2022-08-31T05:30:59.421152",
     "exception": false,
     "start_time": "2022-08-31T05:30:59.406096",
     "status": "completed"
    },
    "tags": []
   },
   "outputs": [
    {
     "data": {
      "text/plain": [
       "1    4221\n",
       "2    1710\n",
       "3     560\n",
       "4       2\n",
       "Name: weather, dtype: int64"
      ]
     },
     "execution_count": 7,
     "metadata": {},
     "output_type": "execute_result"
    }
   ],
   "source": [
    "test.weather.value_counts() # delete 4 from train data"
   ]
  },
  {
   "cell_type": "code",
   "execution_count": 8,
   "id": "7fb4b192",
   "metadata": {
    "execution": {
     "iopub.execute_input": "2022-08-31T05:30:59.434276Z",
     "iopub.status.busy": "2022-08-31T05:30:59.433775Z",
     "iopub.status.idle": "2022-08-31T05:30:59.441122Z",
     "shell.execute_reply": "2022-08-31T05:30:59.440511Z"
    },
    "papermill": {
     "duration": 0.016054,
     "end_time": "2022-08-31T05:30:59.442993",
     "exception": false,
     "start_time": "2022-08-31T05:30:59.426939",
     "status": "completed"
    },
    "tags": []
   },
   "outputs": [],
   "source": [
    "train = train[train['weather'] != 4]"
   ]
  },
  {
   "cell_type": "code",
   "execution_count": 9,
   "id": "1b18903d",
   "metadata": {
    "execution": {
     "iopub.execute_input": "2022-08-31T05:30:59.456043Z",
     "iopub.status.busy": "2022-08-31T05:30:59.455556Z",
     "iopub.status.idle": "2022-08-31T05:30:59.476152Z",
     "shell.execute_reply": "2022-08-31T05:30:59.474974Z"
    },
    "papermill": {
     "duration": 0.028946,
     "end_time": "2022-08-31T05:30:59.477791",
     "exception": false,
     "start_time": "2022-08-31T05:30:59.448845",
     "status": "completed"
    },
    "tags": []
   },
   "outputs": [
    {
     "data": {
      "text/html": [
       "<div>\n",
       "<style scoped>\n",
       "    .dataframe tbody tr th:only-of-type {\n",
       "        vertical-align: middle;\n",
       "    }\n",
       "\n",
       "    .dataframe tbody tr th {\n",
       "        vertical-align: top;\n",
       "    }\n",
       "\n",
       "    .dataframe thead th {\n",
       "        text-align: right;\n",
       "    }\n",
       "</style>\n",
       "<table border=\"1\" class=\"dataframe\">\n",
       "  <thead>\n",
       "    <tr style=\"text-align: right;\">\n",
       "      <th></th>\n",
       "      <th>datetime</th>\n",
       "      <th>season</th>\n",
       "      <th>holiday</th>\n",
       "      <th>workingday</th>\n",
       "      <th>weather</th>\n",
       "      <th>temp</th>\n",
       "      <th>atemp</th>\n",
       "      <th>humidity</th>\n",
       "      <th>windspeed</th>\n",
       "      <th>casual</th>\n",
       "      <th>registered</th>\n",
       "      <th>count</th>\n",
       "    </tr>\n",
       "  </thead>\n",
       "  <tbody>\n",
       "    <tr>\n",
       "      <th>0</th>\n",
       "      <td>2011-01-01 00:00:00</td>\n",
       "      <td>1</td>\n",
       "      <td>0</td>\n",
       "      <td>0</td>\n",
       "      <td>1</td>\n",
       "      <td>9.84</td>\n",
       "      <td>14.395</td>\n",
       "      <td>81</td>\n",
       "      <td>0.0</td>\n",
       "      <td>3.0</td>\n",
       "      <td>13.0</td>\n",
       "      <td>16.0</td>\n",
       "    </tr>\n",
       "    <tr>\n",
       "      <th>1</th>\n",
       "      <td>2011-01-01 01:00:00</td>\n",
       "      <td>1</td>\n",
       "      <td>0</td>\n",
       "      <td>0</td>\n",
       "      <td>1</td>\n",
       "      <td>9.02</td>\n",
       "      <td>13.635</td>\n",
       "      <td>80</td>\n",
       "      <td>0.0</td>\n",
       "      <td>8.0</td>\n",
       "      <td>32.0</td>\n",
       "      <td>40.0</td>\n",
       "    </tr>\n",
       "    <tr>\n",
       "      <th>2</th>\n",
       "      <td>2011-01-01 02:00:00</td>\n",
       "      <td>1</td>\n",
       "      <td>0</td>\n",
       "      <td>0</td>\n",
       "      <td>1</td>\n",
       "      <td>9.02</td>\n",
       "      <td>13.635</td>\n",
       "      <td>80</td>\n",
       "      <td>0.0</td>\n",
       "      <td>5.0</td>\n",
       "      <td>27.0</td>\n",
       "      <td>32.0</td>\n",
       "    </tr>\n",
       "    <tr>\n",
       "      <th>3</th>\n",
       "      <td>2011-01-01 03:00:00</td>\n",
       "      <td>1</td>\n",
       "      <td>0</td>\n",
       "      <td>0</td>\n",
       "      <td>1</td>\n",
       "      <td>9.84</td>\n",
       "      <td>14.395</td>\n",
       "      <td>75</td>\n",
       "      <td>0.0</td>\n",
       "      <td>3.0</td>\n",
       "      <td>10.0</td>\n",
       "      <td>13.0</td>\n",
       "    </tr>\n",
       "    <tr>\n",
       "      <th>4</th>\n",
       "      <td>2011-01-01 04:00:00</td>\n",
       "      <td>1</td>\n",
       "      <td>0</td>\n",
       "      <td>0</td>\n",
       "      <td>1</td>\n",
       "      <td>9.84</td>\n",
       "      <td>14.395</td>\n",
       "      <td>75</td>\n",
       "      <td>0.0</td>\n",
       "      <td>0.0</td>\n",
       "      <td>1.0</td>\n",
       "      <td>1.0</td>\n",
       "    </tr>\n",
       "  </tbody>\n",
       "</table>\n",
       "</div>"
      ],
      "text/plain": [
       "              datetime  season  holiday  workingday  weather  temp   atemp  \\\n",
       "0  2011-01-01 00:00:00       1        0           0        1  9.84  14.395   \n",
       "1  2011-01-01 01:00:00       1        0           0        1  9.02  13.635   \n",
       "2  2011-01-01 02:00:00       1        0           0        1  9.02  13.635   \n",
       "3  2011-01-01 03:00:00       1        0           0        1  9.84  14.395   \n",
       "4  2011-01-01 04:00:00       1        0           0        1  9.84  14.395   \n",
       "\n",
       "   humidity  windspeed  casual  registered  count  \n",
       "0        81        0.0     3.0        13.0   16.0  \n",
       "1        80        0.0     8.0        32.0   40.0  \n",
       "2        80        0.0     5.0        27.0   32.0  \n",
       "3        75        0.0     3.0        10.0   13.0  \n",
       "4        75        0.0     0.0         1.0    1.0  "
      ]
     },
     "execution_count": 9,
     "metadata": {},
     "output_type": "execute_result"
    }
   ],
   "source": [
    "all_data = pd.concat([train, test], ignore_index = True)\n",
    "all_data.head()"
   ]
  },
  {
   "cell_type": "code",
   "execution_count": 10,
   "id": "7df5bac5",
   "metadata": {
    "execution": {
     "iopub.execute_input": "2022-08-31T05:30:59.490567Z",
     "iopub.status.busy": "2022-08-31T05:30:59.490259Z",
     "iopub.status.idle": "2022-08-31T05:30:59.512290Z",
     "shell.execute_reply": "2022-08-31T05:30:59.511668Z"
    },
    "papermill": {
     "duration": 0.030717,
     "end_time": "2022-08-31T05:30:59.514280",
     "exception": false,
     "start_time": "2022-08-31T05:30:59.483563",
     "status": "completed"
    },
    "tags": []
   },
   "outputs": [],
   "source": [
    "all_data['datetime'] = pd.to_datetime(all_data['datetime']) #type casting\n",
    "all_data['year'] = all_data['datetime'].dt.year\n",
    "all_data['month'] = all_data['datetime'].dt.month\n",
    "all_data['hour'] = all_data['datetime'].dt.hour\n",
    "all_data['weekday'] = all_data['datetime'].dt.weekday\n",
    "all_data = all_data.drop(['datetime', 'casual', 'registered', 'windspeed', 'month'], axis = 1)"
   ]
  },
  {
   "cell_type": "code",
   "execution_count": 11,
   "id": "75c54732",
   "metadata": {
    "execution": {
     "iopub.execute_input": "2022-08-31T05:30:59.528023Z",
     "iopub.status.busy": "2022-08-31T05:30:59.527713Z",
     "iopub.status.idle": "2022-08-31T05:30:59.534023Z",
     "shell.execute_reply": "2022-08-31T05:30:59.532987Z"
    },
    "papermill": {
     "duration": 0.015542,
     "end_time": "2022-08-31T05:30:59.535768",
     "exception": false,
     "start_time": "2022-08-31T05:30:59.520226",
     "status": "completed"
    },
    "tags": []
   },
   "outputs": [],
   "source": [
    "X_train = all_data[~pd.isnull(all_data['count'])]\n",
    "X_test = all_data[pd.isnull(all_data['count'])]"
   ]
  },
  {
   "cell_type": "code",
   "execution_count": 12,
   "id": "9dc02c0a",
   "metadata": {
    "execution": {
     "iopub.execute_input": "2022-08-31T05:30:59.549271Z",
     "iopub.status.busy": "2022-08-31T05:30:59.548581Z",
     "iopub.status.idle": "2022-08-31T05:30:59.554768Z",
     "shell.execute_reply": "2022-08-31T05:30:59.553747Z"
    },
    "papermill": {
     "duration": 0.014835,
     "end_time": "2022-08-31T05:30:59.556608",
     "exception": false,
     "start_time": "2022-08-31T05:30:59.541773",
     "status": "completed"
    },
    "tags": []
   },
   "outputs": [],
   "source": [
    "X_train = X_train.drop(['count'], axis = 1)\n",
    "X_test = X_test.drop(['count'], axis = 1)"
   ]
  },
  {
   "cell_type": "code",
   "execution_count": 13,
   "id": "cbdb60e7",
   "metadata": {
    "execution": {
     "iopub.execute_input": "2022-08-31T05:30:59.569535Z",
     "iopub.status.busy": "2022-08-31T05:30:59.569247Z",
     "iopub.status.idle": "2022-08-31T05:30:59.573398Z",
     "shell.execute_reply": "2022-08-31T05:30:59.572483Z"
    },
    "papermill": {
     "duration": 0.012782,
     "end_time": "2022-08-31T05:30:59.575210",
     "exception": false,
     "start_time": "2022-08-31T05:30:59.562428",
     "status": "completed"
    },
    "tags": []
   },
   "outputs": [],
   "source": [
    "y = train['count']"
   ]
  },
  {
   "cell_type": "markdown",
   "id": "352e704c",
   "metadata": {
    "papermill": {
     "duration": 0.005544,
     "end_time": "2022-08-31T05:30:59.586602",
     "exception": false,
     "start_time": "2022-08-31T05:30:59.581058",
     "status": "completed"
    },
    "tags": []
   },
   "source": [
    "## Data Visualization"
   ]
  },
  {
   "cell_type": "code",
   "execution_count": 14,
   "id": "c3865af4",
   "metadata": {
    "execution": {
     "iopub.execute_input": "2022-08-31T05:30:59.599437Z",
     "iopub.status.busy": "2022-08-31T05:30:59.598955Z",
     "iopub.status.idle": "2022-08-31T05:30:59.862066Z",
     "shell.execute_reply": "2022-08-31T05:30:59.861522Z"
    },
    "papermill": {
     "duration": 0.27138,
     "end_time": "2022-08-31T05:30:59.863568",
     "exception": false,
     "start_time": "2022-08-31T05:30:59.592188",
     "status": "completed"
    },
    "tags": []
   },
   "outputs": [
    {
     "data": {
      "text/plain": [
       "Text(0.5, 1.0, 'Count Histplot')"
      ]
     },
     "execution_count": 14,
     "metadata": {},
     "output_type": "execute_result"
    },
    {
     "data": {
      "image/png": "[encoded data removed]",
      "text/plain": [
       "<Figure size 432x288 with 1 Axes>"
      ]
     },
     "metadata": {
      "needs_background": "light"
     },
     "output_type": "display_data"
    }
   ],
   "source": [
    "sns.histplot(y, bins=10, kde=True)\n",
    "plt.title('Count Histplot')"
   ]
  },
  {
   "cell_type": "code",
   "execution_count": 15,
   "id": "71b53e53",
   "metadata": {
    "execution": {
     "iopub.execute_input": "2022-08-31T05:30:59.877360Z",
     "iopub.status.busy": "2022-08-31T05:30:59.876959Z",
     "iopub.status.idle": "2022-08-31T05:30:59.997652Z",
     "shell.execute_reply": "2022-08-31T05:30:59.996647Z"
    },
    "papermill": {
     "duration": 0.130069,
     "end_time": "2022-08-31T05:31:00.000011",
     "exception": false,
     "start_time": "2022-08-31T05:30:59.869942",
     "status": "completed"
    },
    "tags": []
   },
   "outputs": [
    {
     "data": {
      "text/plain": [
       "<AxesSubplot:>"
      ]
     },
     "execution_count": 15,
     "metadata": {},
     "output_type": "execute_result"
    },
    {
     "data": {
      "image/png": "[encoded data removed]",
      "text/plain": [
       "<Figure size 432x288 with 1 Axes>"
      ]
     },
     "metadata": {
      "needs_background": "light"
     },
     "output_type": "display_data"
    }
   ],
   "source": [
    "all_data.weather.value_counts().sort_values(ascending=False).plot.bar()"
   ]
  },
  {
   "cell_type": "code",
   "execution_count": 16,
   "id": "75d1f434",
   "metadata": {
    "execution": {
     "iopub.execute_input": "2022-08-31T05:31:00.019862Z",
     "iopub.status.busy": "2022-08-31T05:31:00.018759Z",
     "iopub.status.idle": "2022-08-31T05:31:00.191700Z",
     "shell.execute_reply": "2022-08-31T05:31:00.190752Z"
    },
    "papermill": {
     "duration": 0.184767,
     "end_time": "2022-08-31T05:31:00.193740",
     "exception": false,
     "start_time": "2022-08-31T05:31:00.008973",
     "status": "completed"
    },
    "tags": []
   },
   "outputs": [
    {
     "data": {
      "text/plain": [
       "<AxesSubplot:>"
      ]
     },
     "execution_count": 16,
     "metadata": {},
     "output_type": "execute_result"
    },
    {
     "data": {
      "image/png": "[encoded data removed]",
      "text/plain": [
       "<Figure size 432x288 with 1 Axes>"
      ]
     },
     "metadata": {
      "needs_background": "light"
     },
     "output_type": "display_data"
    }
   ],
   "source": [
    "all_data.nunique().sort_values(ascending=False).plot.bar()"
   ]
  },
  {
   "cell_type": "code",
   "execution_count": 17,
   "id": "def91788",
   "metadata": {
    "execution": {
     "iopub.execute_input": "2022-08-31T05:31:00.208672Z",
     "iopub.status.busy": "2022-08-31T05:31:00.208361Z",
     "iopub.status.idle": "2022-08-31T05:31:00.462093Z",
     "shell.execute_reply": "2022-08-31T05:31:00.461068Z"
    },
    "papermill": {
     "duration": 0.264092,
     "end_time": "2022-08-31T05:31:00.464601",
     "exception": false,
     "start_time": "2022-08-31T05:31:00.200509",
     "status": "completed"
    },
    "tags": []
   },
   "outputs": [
    {
     "name": "stderr",
     "output_type": "stream",
     "text": [
      "/opt/conda/lib/python3.7/site-packages/seaborn/_decorators.py:43: FutureWarning: Pass the following variable as a keyword arg: x. From version 0.12, the only valid positional argument will be `data`, and passing other arguments without an explicit keyword will result in an error or misinterpretation.\n",
      "  FutureWarning\n"
     ]
    },
    {
     "data": {
      "text/plain": [
       "<AxesSubplot:xlabel='weekday', ylabel='count'>"
      ]
     },
     "execution_count": 17,
     "metadata": {},
     "output_type": "execute_result"
    },
    {
     "data": {
      "image/png": "[encoded data removed]",
      "text/plain": [
       "<Figure size 432x288 with 1 Axes>"
      ]
     },
     "metadata": {
      "needs_background": "light"
     },
     "output_type": "display_data"
    }
   ],
   "source": [
    "sns.countplot(all_data[\"weekday\"])"
   ]
  },
  {
   "cell_type": "code",
   "execution_count": 18,
   "id": "40181729",
   "metadata": {
    "execution": {
     "iopub.execute_input": "2022-08-31T05:31:00.486343Z",
     "iopub.status.busy": "2022-08-31T05:31:00.484966Z",
     "iopub.status.idle": "2022-08-31T05:31:01.351506Z",
     "shell.execute_reply": "2022-08-31T05:31:01.350511Z"
    },
    "papermill": {
     "duration": 0.878998,
     "end_time": "2022-08-31T05:31:01.353388",
     "exception": false,
     "start_time": "2022-08-31T05:31:00.474390",
     "status": "completed"
    },
    "tags": []
   },
   "outputs": [
    {
     "name": "stderr",
     "output_type": "stream",
     "text": [
      "/opt/conda/lib/python3.7/site-packages/seaborn/_decorators.py:43: FutureWarning: Pass the following variable as a keyword arg: x. From version 0.12, the only valid positional argument will be `data`, and passing other arguments without an explicit keyword will result in an error or misinterpretation.\n",
      "  FutureWarning\n"
     ]
    },
    {
     "data": {
      "text/plain": [
       "<AxesSubplot:xlabel='humidity', ylabel='count'>"
      ]
     },
     "execution_count": 18,
     "metadata": {},
     "output_type": "execute_result"
    },
    {
     "data": {
      "image/png": "[encoded data removed]",
      "text/plain": [
       "<Figure size 1800x360 with 1 Axes>"
      ]
     },
     "metadata": {
      "needs_background": "light"
     },
     "output_type": "display_data"
    }
   ],
   "source": [
    "plt.figure(figsize=(25,5))\n",
    "sns.countplot(all_data[\"humidity\"])"
   ]
  },
  {
   "cell_type": "markdown",
   "id": "dca7d61e",
   "metadata": {
    "papermill": {
     "duration": 0.007248,
     "end_time": "2022-08-31T05:31:01.368355",
     "exception": false,
     "start_time": "2022-08-31T05:31:01.361107",
     "status": "completed"
    },
    "tags": []
   },
   "source": [
    "## Training and Prediction"
   ]
  },
  {
   "cell_type": "code",
   "execution_count": 19,
   "id": "2c3b320f",
   "metadata": {
    "execution": {
     "iopub.execute_input": "2022-08-31T05:31:01.385168Z",
     "iopub.status.busy": "2022-08-31T05:31:01.384841Z",
     "iopub.status.idle": "2022-08-31T05:31:01.400292Z",
     "shell.execute_reply": "2022-08-31T05:31:01.399378Z"
    },
    "papermill": {
     "duration": 0.02618,
     "end_time": "2022-08-31T05:31:01.402039",
     "exception": false,
     "start_time": "2022-08-31T05:31:01.375859",
     "status": "completed"
    },
    "tags": []
   },
   "outputs": [
    {
     "data": {
      "text/html": [
       "<div>\n",
       "<style scoped>\n",
       "    .dataframe tbody tr th:only-of-type {\n",
       "        vertical-align: middle;\n",
       "    }\n",
       "\n",
       "    .dataframe tbody tr th {\n",
       "        vertical-align: top;\n",
       "    }\n",
       "\n",
       "    .dataframe thead th {\n",
       "        text-align: right;\n",
       "    }\n",
       "</style>\n",
       "<table border=\"1\" class=\"dataframe\">\n",
       "  <thead>\n",
       "    <tr style=\"text-align: right;\">\n",
       "      <th></th>\n",
       "      <th>season</th>\n",
       "      <th>holiday</th>\n",
       "      <th>workingday</th>\n",
       "      <th>weather</th>\n",
       "      <th>temp</th>\n",
       "      <th>atemp</th>\n",
       "      <th>humidity</th>\n",
       "      <th>year</th>\n",
       "      <th>hour</th>\n",
       "      <th>weekday</th>\n",
       "    </tr>\n",
       "  </thead>\n",
       "  <tbody>\n",
       "    <tr>\n",
       "      <th>0</th>\n",
       "      <td>1</td>\n",
       "      <td>0</td>\n",
       "      <td>0</td>\n",
       "      <td>1</td>\n",
       "      <td>9.84</td>\n",
       "      <td>14.395</td>\n",
       "      <td>81</td>\n",
       "      <td>2011</td>\n",
       "      <td>0</td>\n",
       "      <td>5</td>\n",
       "    </tr>\n",
       "    <tr>\n",
       "      <th>1</th>\n",
       "      <td>1</td>\n",
       "      <td>0</td>\n",
       "      <td>0</td>\n",
       "      <td>1</td>\n",
       "      <td>9.02</td>\n",
       "      <td>13.635</td>\n",
       "      <td>80</td>\n",
       "      <td>2011</td>\n",
       "      <td>1</td>\n",
       "      <td>5</td>\n",
       "    </tr>\n",
       "    <tr>\n",
       "      <th>2</th>\n",
       "      <td>1</td>\n",
       "      <td>0</td>\n",
       "      <td>0</td>\n",
       "      <td>1</td>\n",
       "      <td>9.02</td>\n",
       "      <td>13.635</td>\n",
       "      <td>80</td>\n",
       "      <td>2011</td>\n",
       "      <td>2</td>\n",
       "      <td>5</td>\n",
       "    </tr>\n",
       "    <tr>\n",
       "      <th>3</th>\n",
       "      <td>1</td>\n",
       "      <td>0</td>\n",
       "      <td>0</td>\n",
       "      <td>1</td>\n",
       "      <td>9.84</td>\n",
       "      <td>14.395</td>\n",
       "      <td>75</td>\n",
       "      <td>2011</td>\n",
       "      <td>3</td>\n",
       "      <td>5</td>\n",
       "    </tr>\n",
       "    <tr>\n",
       "      <th>4</th>\n",
       "      <td>1</td>\n",
       "      <td>0</td>\n",
       "      <td>0</td>\n",
       "      <td>1</td>\n",
       "      <td>9.84</td>\n",
       "      <td>14.395</td>\n",
       "      <td>75</td>\n",
       "      <td>2011</td>\n",
       "      <td>4</td>\n",
       "      <td>5</td>\n",
       "    </tr>\n",
       "    <tr>\n",
       "      <th>...</th>\n",
       "      <td>...</td>\n",
       "      <td>...</td>\n",
       "      <td>...</td>\n",
       "      <td>...</td>\n",
       "      <td>...</td>\n",
       "      <td>...</td>\n",
       "      <td>...</td>\n",
       "      <td>...</td>\n",
       "      <td>...</td>\n",
       "      <td>...</td>\n",
       "    </tr>\n",
       "    <tr>\n",
       "      <th>10880</th>\n",
       "      <td>4</td>\n",
       "      <td>0</td>\n",
       "      <td>1</td>\n",
       "      <td>1</td>\n",
       "      <td>15.58</td>\n",
       "      <td>19.695</td>\n",
       "      <td>50</td>\n",
       "      <td>2012</td>\n",
       "      <td>19</td>\n",
       "      <td>2</td>\n",
       "    </tr>\n",
       "    <tr>\n",
       "      <th>10881</th>\n",
       "      <td>4</td>\n",
       "      <td>0</td>\n",
       "      <td>1</td>\n",
       "      <td>1</td>\n",
       "      <td>14.76</td>\n",
       "      <td>17.425</td>\n",
       "      <td>57</td>\n",
       "      <td>2012</td>\n",
       "      <td>20</td>\n",
       "      <td>2</td>\n",
       "    </tr>\n",
       "    <tr>\n",
       "      <th>10882</th>\n",
       "      <td>4</td>\n",
       "      <td>0</td>\n",
       "      <td>1</td>\n",
       "      <td>1</td>\n",
       "      <td>13.94</td>\n",
       "      <td>15.910</td>\n",
       "      <td>61</td>\n",
       "      <td>2012</td>\n",
       "      <td>21</td>\n",
       "      <td>2</td>\n",
       "    </tr>\n",
       "    <tr>\n",
       "      <th>10883</th>\n",
       "      <td>4</td>\n",
       "      <td>0</td>\n",
       "      <td>1</td>\n",
       "      <td>1</td>\n",
       "      <td>13.94</td>\n",
       "      <td>17.425</td>\n",
       "      <td>61</td>\n",
       "      <td>2012</td>\n",
       "      <td>22</td>\n",
       "      <td>2</td>\n",
       "    </tr>\n",
       "    <tr>\n",
       "      <th>10884</th>\n",
       "      <td>4</td>\n",
       "      <td>0</td>\n",
       "      <td>1</td>\n",
       "      <td>1</td>\n",
       "      <td>13.12</td>\n",
       "      <td>16.665</td>\n",
       "      <td>66</td>\n",
       "      <td>2012</td>\n",
       "      <td>23</td>\n",
       "      <td>2</td>\n",
       "    </tr>\n",
       "  </tbody>\n",
       "</table>\n",
       "<p>10885 rows × 10 columns</p>\n",
       "</div>"
      ],
      "text/plain": [
       "       season  holiday  workingday  weather   temp   atemp  humidity  year  \\\n",
       "0           1        0           0        1   9.84  14.395        81  2011   \n",
       "1           1        0           0        1   9.02  13.635        80  2011   \n",
       "2           1        0           0        1   9.02  13.635        80  2011   \n",
       "3           1        0           0        1   9.84  14.395        75  2011   \n",
       "4           1        0           0        1   9.84  14.395        75  2011   \n",
       "...       ...      ...         ...      ...    ...     ...       ...   ...   \n",
       "10880       4        0           1        1  15.58  19.695        50  2012   \n",
       "10881       4        0           1        1  14.76  17.425        57  2012   \n",
       "10882       4        0           1        1  13.94  15.910        61  2012   \n",
       "10883       4        0           1        1  13.94  17.425        61  2012   \n",
       "10884       4        0           1        1  13.12  16.665        66  2012   \n",
       "\n",
       "       hour  weekday  \n",
       "0         0        5  \n",
       "1         1        5  \n",
       "2         2        5  \n",
       "3         3        5  \n",
       "4         4        5  \n",
       "...     ...      ...  \n",
       "10880    19        2  \n",
       "10881    20        2  \n",
       "10882    21        2  \n",
       "10883    22        2  \n",
       "10884    23        2  \n",
       "\n",
       "[10885 rows x 10 columns]"
      ]
     },
     "execution_count": 19,
     "metadata": {},
     "output_type": "execute_result"
    }
   ],
   "source": [
    "X_train"
   ]
  },
  {
   "cell_type": "code",
   "execution_count": 20,
   "id": "3618acc2",
   "metadata": {
    "execution": {
     "iopub.execute_input": "2022-08-31T05:31:01.418651Z",
     "iopub.status.busy": "2022-08-31T05:31:01.418325Z",
     "iopub.status.idle": "2022-08-31T05:31:01.428166Z",
     "shell.execute_reply": "2022-08-31T05:31:01.426898Z"
    },
    "papermill": {
     "duration": 0.020314,
     "end_time": "2022-08-31T05:31:01.430192",
     "exception": false,
     "start_time": "2022-08-31T05:31:01.409878",
     "status": "completed"
    },
    "tags": []
   },
   "outputs": [
    {
     "data": {
      "text/plain": [
       "season         4\n",
       "holiday        2\n",
       "workingday     2\n",
       "weather        3\n",
       "temp          49\n",
       "atemp         60\n",
       "humidity      89\n",
       "year           2\n",
       "hour          24\n",
       "weekday        7\n",
       "dtype: int64"
      ]
     },
     "execution_count": 20,
     "metadata": {},
     "output_type": "execute_result"
    }
   ],
   "source": [
    "X_train.nunique()"
   ]
  },
  {
   "cell_type": "code",
   "execution_count": 21,
   "id": "c209ad76",
   "metadata": {
    "execution": {
     "iopub.execute_input": "2022-08-31T05:31:01.447836Z",
     "iopub.status.busy": "2022-08-31T05:31:01.447530Z",
     "iopub.status.idle": "2022-08-31T05:31:01.462628Z",
     "shell.execute_reply": "2022-08-31T05:31:01.461997Z"
    },
    "papermill": {
     "duration": 0.02607,
     "end_time": "2022-08-31T05:31:01.464632",
     "exception": false,
     "start_time": "2022-08-31T05:31:01.438562",
     "status": "completed"
    },
    "tags": []
   },
   "outputs": [
    {
     "name": "stdout",
     "output_type": "stream",
     "text": [
      "<class 'pandas.core.frame.DataFrame'>\n",
      "Int64Index: 10885 entries, 0 to 10884\n",
      "Data columns (total 10 columns):\n",
      " #   Column      Non-Null Count  Dtype  \n",
      "---  ------      --------------  -----  \n",
      " 0   season      10885 non-null  int64  \n",
      " 1   holiday     10885 non-null  int64  \n",
      " 2   workingday  10885 non-null  int64  \n",
      " 3   weather     10885 non-null  int64  \n",
      " 4   temp        10885 non-null  float64\n",
      " 5   atemp       10885 non-null  float64\n",
      " 6   humidity    10885 non-null  int64  \n",
      " 7   year        10885 non-null  int64  \n",
      " 8   hour        10885 non-null  int64  \n",
      " 9   weekday     10885 non-null  int64  \n",
      "dtypes: float64(2), int64(8)\n",
      "memory usage: 935.4 KB\n"
     ]
    }
   ],
   "source": [
    "X_train.info()"
   ]
  },
  {
   "cell_type": "code",
   "execution_count": 22,
   "id": "8e91e969",
   "metadata": {
    "execution": {
     "iopub.execute_input": "2022-08-31T05:31:01.482019Z",
     "iopub.status.busy": "2022-08-31T05:31:01.481703Z",
     "iopub.status.idle": "2022-08-31T05:31:02.909601Z",
     "shell.execute_reply": "2022-08-31T05:31:02.908924Z"
    },
    "papermill": {
     "duration": 1.438768,
     "end_time": "2022-08-31T05:31:02.911423",
     "exception": false,
     "start_time": "2022-08-31T05:31:01.472655",
     "status": "completed"
    },
    "tags": []
   },
   "outputs": [
    {
     "data": {
      "text/html": [
       "<div>\n",
       "<style scoped>\n",
       "    .dataframe tbody tr th:only-of-type {\n",
       "        vertical-align: middle;\n",
       "    }\n",
       "\n",
       "    .dataframe tbody tr th {\n",
       "        vertical-align: top;\n",
       "    }\n",
       "\n",
       "    .dataframe thead th {\n",
       "        text-align: right;\n",
       "    }\n",
       "</style>\n",
       "<table border=\"1\" class=\"dataframe\">\n",
       "  <thead>\n",
       "    <tr style=\"text-align: right;\">\n",
       "      <th></th>\n",
       "      <th>R_Squared</th>\n",
       "      <th>RMSE</th>\n",
       "      <th>MAE</th>\n",
       "    </tr>\n",
       "  </thead>\n",
       "  <tbody>\n",
       "    <tr>\n",
       "      <th>XGBRegressor</th>\n",
       "      <td>0.949981</td>\n",
       "      <td>0.336750</td>\n",
       "      <td>0.222864</td>\n",
       "    </tr>\n",
       "    <tr>\n",
       "      <th>Gradient Boosting</th>\n",
       "      <td>0.918863</td>\n",
       "      <td>0.428892</td>\n",
       "      <td>0.316020</td>\n",
       "    </tr>\n",
       "    <tr>\n",
       "      <th>Decision Tree</th>\n",
       "      <td>0.903991</td>\n",
       "      <td>0.466546</td>\n",
       "      <td>0.296203</td>\n",
       "    </tr>\n",
       "    <tr>\n",
       "      <th>Extra Tree</th>\n",
       "      <td>0.891767</td>\n",
       "      <td>0.495358</td>\n",
       "      <td>0.315056</td>\n",
       "    </tr>\n",
       "    <tr>\n",
       "      <th>KNeighborsRegressor</th>\n",
       "      <td>0.814817</td>\n",
       "      <td>0.647946</td>\n",
       "      <td>0.471948</td>\n",
       "    </tr>\n",
       "    <tr>\n",
       "      <th>Ridge</th>\n",
       "      <td>0.480760</td>\n",
       "      <td>1.084981</td>\n",
       "      <td>0.847973</td>\n",
       "    </tr>\n",
       "    <tr>\n",
       "      <th>Linear</th>\n",
       "      <td>0.480760</td>\n",
       "      <td>1.084982</td>\n",
       "      <td>0.847976</td>\n",
       "    </tr>\n",
       "    <tr>\n",
       "      <th>ElasticNet</th>\n",
       "      <td>0.439902</td>\n",
       "      <td>1.126861</td>\n",
       "      <td>0.880790</td>\n",
       "    </tr>\n",
       "    <tr>\n",
       "      <th>Lasso</th>\n",
       "      <td>0.428033</td>\n",
       "      <td>1.138737</td>\n",
       "      <td>0.889393</td>\n",
       "    </tr>\n",
       "  </tbody>\n",
       "</table>\n",
       "</div>"
      ],
      "text/plain": [
       "                     R_Squared      RMSE       MAE\n",
       "XGBRegressor          0.949981  0.336750  0.222864\n",
       "Gradient Boosting     0.918863  0.428892  0.316020\n",
       "Decision Tree         0.903991  0.466546  0.296203\n",
       "Extra Tree            0.891767  0.495358  0.315056\n",
       "KNeighborsRegressor   0.814817  0.647946  0.471948\n",
       "Ridge                 0.480760  1.084981  0.847973\n",
       "Linear                0.480760  1.084982  0.847976\n",
       "ElasticNet            0.439902  1.126861  0.880790\n",
       "Lasso                 0.428033  1.138737  0.889393"
      ]
     },
     "execution_count": 22,
     "metadata": {},
     "output_type": "execute_result"
    }
   ],
   "source": [
    "log_y = np.log(y)\n",
    "algo_test(X_train, log_y)"
   ]
  },
  {
   "cell_type": "code",
   "execution_count": 23,
   "id": "1419bea4",
   "metadata": {
    "execution": {
     "iopub.execute_input": "2022-08-31T05:31:02.929117Z",
     "iopub.status.busy": "2022-08-31T05:31:02.928813Z",
     "iopub.status.idle": "2022-08-31T05:31:03.454539Z",
     "shell.execute_reply": "2022-08-31T05:31:03.453663Z"
    },
    "papermill": {
     "duration": 0.536496,
     "end_time": "2022-08-31T05:31:03.456355",
     "exception": false,
     "start_time": "2022-08-31T05:31:02.919859",
     "status": "completed"
    },
    "tags": []
   },
   "outputs": [
    {
     "data": {
      "text/plain": [
       "array([2.3665016, 1.525786 , 1.1924043, ..., 4.601906 , 4.4447975,\n",
       "       3.7625809], dtype=float32)"
      ]
     },
     "execution_count": 23,
     "metadata": {},
     "output_type": "execute_result"
    }
   ],
   "source": [
    "xgbr = xgb.XGBRegressor()\n",
    "predictions = xgbr.fit(X_train, log_y).predict(X_test)\n",
    "predictions"
   ]
  },
  {
   "cell_type": "code",
   "execution_count": 24,
   "id": "1adcf299",
   "metadata": {
    "execution": {
     "iopub.execute_input": "2022-08-31T05:31:03.475537Z",
     "iopub.status.busy": "2022-08-31T05:31:03.475214Z",
     "iopub.status.idle": "2022-08-31T05:31:03.499014Z",
     "shell.execute_reply": "2022-08-31T05:31:03.497688Z"
    },
    "papermill": {
     "duration": 0.035524,
     "end_time": "2022-08-31T05:31:03.501379",
     "exception": false,
     "start_time": "2022-08-31T05:31:03.465855",
     "status": "completed"
    },
    "tags": []
   },
   "outputs": [
    {
     "data": {
      "text/html": [
       "<div>\n",
       "<style scoped>\n",
       "    .dataframe tbody tr th:only-of-type {\n",
       "        vertical-align: middle;\n",
       "    }\n",
       "\n",
       "    .dataframe tbody tr th {\n",
       "        vertical-align: top;\n",
       "    }\n",
       "\n",
       "    .dataframe thead th {\n",
       "        text-align: right;\n",
       "    }\n",
       "</style>\n",
       "<table border=\"1\" class=\"dataframe\">\n",
       "  <thead>\n",
       "    <tr style=\"text-align: right;\">\n",
       "      <th></th>\n",
       "      <th>datetime</th>\n",
       "      <th>count</th>\n",
       "    </tr>\n",
       "  </thead>\n",
       "  <tbody>\n",
       "    <tr>\n",
       "      <th>0</th>\n",
       "      <td>2011-01-20 00:00:00</td>\n",
       "      <td>10.660033</td>\n",
       "    </tr>\n",
       "    <tr>\n",
       "      <th>1</th>\n",
       "      <td>2011-01-20 01:00:00</td>\n",
       "      <td>4.598757</td>\n",
       "    </tr>\n",
       "    <tr>\n",
       "      <th>2</th>\n",
       "      <td>2011-01-20 02:00:00</td>\n",
       "      <td>3.294994</td>\n",
       "    </tr>\n",
       "    <tr>\n",
       "      <th>3</th>\n",
       "      <td>2011-01-20 03:00:00</td>\n",
       "      <td>2.389372</td>\n",
       "    </tr>\n",
       "    <tr>\n",
       "      <th>4</th>\n",
       "      <td>2011-01-20 04:00:00</td>\n",
       "      <td>1.673502</td>\n",
       "    </tr>\n",
       "  </tbody>\n",
       "</table>\n",
       "</div>"
      ],
      "text/plain": [
       "              datetime      count\n",
       "0  2011-01-20 00:00:00  10.660033\n",
       "1  2011-01-20 01:00:00   4.598757\n",
       "2  2011-01-20 02:00:00   3.294994\n",
       "3  2011-01-20 03:00:00   2.389372\n",
       "4  2011-01-20 04:00:00   1.673502"
      ]
     },
     "execution_count": 24,
     "metadata": {},
     "output_type": "execute_result"
    }
   ],
   "source": [
    "submission['count'] = np.exp(predictions)\n",
    "submission.to_csv('submission.csv', index = False)\n",
    "submission.head()"
   ]
  },
  {
   "cell_type": "code",
   "execution_count": null,
   "id": "9066a64a",
   "metadata": {
    "papermill": {
     "duration": 0.008475,
     "end_time": "2022-08-31T05:31:03.518768",
     "exception": false,
     "start_time": "2022-08-31T05:31:03.510293",
     "status": "completed"
    },
    "tags": []
   },
   "outputs": [],
   "source": []
  }
 ],
 "metadata": {
  "kernelspec": {
   "display_name": "Python 3 (ipykernel)",
   "language": "python",
   "name": "python3"
  },
  "language_info": {
   "codemirror_mode": {
    "name": "ipython",
    "version": 3
   },
   "file_extension": ".py",
   "mimetype": "text/x-python",
   "name": "python",
   "nbconvert_exporter": "python",
   "pygments_lexer": "ipython3",
   "version": "3.9.12"
  },
  "papermill": {
   "default_parameters": {},
   "duration": 14.423292,
   "end_time": "2022-08-31T05:31:04.246969",
   "environment_variables": {},
   "exception": null,
   "input_path": "__notebook__.ipynb",
   "output_path": "__notebook__.ipynb",
   "parameters": {},
   "start_time": "2022-08-31T05:30:49.823677",
   "version": "2.3.4"
  },
  "toc": {
   "base_numbering": 1,
   "nav_menu": {},
   "number_sections": true,
   "sideBar": true,
   "skip_h1_title": false,
   "title_cell": "Table of Contents",
   "title_sidebar": "Contents",
   "toc_cell": false,
   "toc_position": {},
   "toc_section_display": true,
   "toc_window_display": false
  },
  "varInspector": {
   "cols": {
    "lenName": 16,
    "lenType": 16,
    "lenVar": 40
   },
   "kernels_config": {
    "python": {
     "delete_cmd_postfix": "",
     "delete_cmd_prefix": "del ",
     "library": "var_list.py",
     "varRefreshCmd": "print(var_dic_list())"
    },
    "r": {
     "delete_cmd_postfix": ") ",
     "delete_cmd_prefix": "rm(",
     "library": "var_list.r",
     "varRefreshCmd": "cat(var_dic_list()) "
    }
   },
   "types_to_exclude": [
    "module",
    "function",
    "builtin_function_or_method",
    "instance",
    "_Feature"
   ],
   "window_display": false
  }
 },
 "nbformat": 4,
 "nbformat_minor": 5
}
