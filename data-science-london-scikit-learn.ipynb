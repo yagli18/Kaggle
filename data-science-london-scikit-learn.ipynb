{
 "cells": [
  {
   "cell_type": "code",
   "execution_count": 1,
   "id": "d5671f02",
   "metadata": {
    "execution": {
     "iopub.execute_input": "2022-08-21T16:20:41.579379Z",
     "iopub.status.busy": "2022-08-21T16:20:41.578813Z",
     "iopub.status.idle": "2022-08-21T16:20:43.622132Z",
     "shell.execute_reply": "2022-08-21T16:20:43.620683Z"
    },
    "papermill": {
     "duration": 2.054386,
     "end_time": "2022-08-21T16:20:43.625365",
     "exception": false,
     "start_time": "2022-08-21T16:20:41.570979",
     "status": "completed"
    },
    "tags": []
   },
   "outputs": [],
   "source": [
    "import pandas as pd\n",
    "import numpy as np\n",
    "import matplotlib.pyplot as plt\n",
    "%matplotlib inline\n",
    "import seaborn as sns\n",
    "import warnings\n",
    "warnings.filterwarnings(\"ignore\")\n",
    "pd.set_option(\"display.max_columns\",100)\n",
    "\n",
    "#Classification\n",
    "from sklearn.naive_bayes import GaussianNB, BernoulliNB\n",
    "from sklearn.neighbors import KNeighborsClassifier\n",
    "from sklearn.svm import SVC\n",
    "from sklearn.tree import DecisionTreeClassifier\n",
    "from sklearn.linear_model import LogisticRegression\n",
    "from sklearn.ensemble import GradientBoostingClassifier, AdaBoostClassifier, RandomForestClassifier\n",
    "from xgboost import XGBClassifier\n",
    "from sklearn.metrics import classification_report,accuracy_score,confusion_matrix,precision_score,recall_score,f1_score\n",
    "\n",
    "from sklearn.model_selection import train_test_split\n",
    "from sklearn.metrics import mean_squared_error,r2_score,mean_absolute_error\n",
    "from sklearn.preprocessing import normalize,scale"
   ]
  },
  {
   "cell_type": "code",
   "execution_count": 2,
   "id": "cccabebc",
   "metadata": {
    "execution": {
     "iopub.execute_input": "2022-08-21T16:20:43.637001Z",
     "iopub.status.busy": "2022-08-21T16:20:43.636092Z",
     "iopub.status.idle": "2022-08-21T16:20:43.647511Z",
     "shell.execute_reply": "2022-08-21T16:20:43.646440Z"
    },
    "papermill": {
     "duration": 0.020142,
     "end_time": "2022-08-21T16:20:43.650054",
     "exception": false,
     "start_time": "2022-08-21T16:20:43.629912",
     "status": "completed"
    },
    "tags": []
   },
   "outputs": [],
   "source": [
    "def classification_(X,y): \n",
    "    xgbc=XGBClassifier()\n",
    "    g=GaussianNB()\n",
    "    b=BernoulliNB()\n",
    "    k=KNeighborsClassifier()\n",
    "    svc=SVC()\n",
    "    d=DecisionTreeClassifier()\n",
    "    log=LogisticRegression()\n",
    "    gbc=GradientBoostingClassifier()\n",
    "    rf=RandomForestClassifier()\n",
    "    ab=AdaBoostClassifier()\n",
    "    \n",
    "    algos=[xgbc,g,b,k,svc,d,log,gbc,rf,ab]\n",
    "    algos_name=['XGBClassifier','Gaussian','Bernoulli','KNeighbors','SVC','DecisionTree','LogisticReg','GradientBoosting','RandomForest','AdaBoost']\n",
    "\n",
    "    X_train,X_test,y_train,y_test=train_test_split(X,y,test_size=.2,random_state=101)\n",
    "\n",
    "    accuracy = []\n",
    "    precision = []\n",
    "    recall = []\n",
    "    f1 = []\n",
    "   \n",
    "    result=pd.DataFrame(columns=['AccuracyScore','PrecisionScore','RecallScore','f1_Score'],index=algos_name)\n",
    "    \n",
    "    for i in algos:\n",
    "        predict=i.fit(X_train,y_train).predict(X_test)\n",
    "        accuracy.append(accuracy_score(y_test,predict))\n",
    "        precision.append(precision_score(y_test,predict))\n",
    "        recall.append(recall_score(y_test,predict))\n",
    "        f1.append(f1_score(y_test,predict))\n",
    "      \n",
    "    result.AccuracyScore=accuracy\n",
    "    result.PrecisionScore=precision\n",
    "    result.RecallScore=recall\n",
    "    result.f1_Score=f1\n",
    "    \n",
    "    return result.sort_values('AccuracyScore',ascending=False)"
   ]
  },
  {
   "cell_type": "markdown",
   "id": "0a031502",
   "metadata": {
    "papermill": {
     "duration": 0.004013,
     "end_time": "2022-08-21T16:20:43.658328",
     "exception": false,
     "start_time": "2022-08-21T16:20:43.654315",
     "status": "completed"
    },
    "tags": []
   },
   "source": [
    "## Import Data"
   ]
  },
  {
   "cell_type": "code",
   "execution_count": 3,
   "id": "d2f48065",
   "metadata": {
    "execution": {
     "iopub.execute_input": "2022-08-21T16:20:43.669003Z",
     "iopub.status.busy": "2022-08-21T16:20:43.668464Z",
     "iopub.status.idle": "2022-08-21T16:20:43.980867Z",
     "shell.execute_reply": "2022-08-21T16:20:43.979289Z"
    },
    "papermill": {
     "duration": 0.322179,
     "end_time": "2022-08-21T16:20:43.984626",
     "exception": false,
     "start_time": "2022-08-21T16:20:43.662447",
     "status": "completed"
    },
    "tags": []
   },
   "outputs": [],
   "source": [
    "df_train=pd.read_csv('../input/data-science-london-scikit-learn/train.csv', header=None)\n",
    "labels = pd.read_csv('../input/data-science-london-scikit-learn/trainLabels.csv', header=None)\n",
    "df_test=pd.read_csv('../input/data-science-london-scikit-learn/test.csv', header=None)"
   ]
  },
  {
   "cell_type": "code",
   "execution_count": 4,
   "id": "4453d2f4",
   "metadata": {
    "execution": {
     "iopub.execute_input": "2022-08-21T16:20:43.996621Z",
     "iopub.status.busy": "2022-08-21T16:20:43.996112Z",
     "iopub.status.idle": "2022-08-21T16:20:44.007346Z",
     "shell.execute_reply": "2022-08-21T16:20:44.005910Z"
    },
    "papermill": {
     "duration": 0.022112,
     "end_time": "2022-08-21T16:20:44.011543",
     "exception": false,
     "start_time": "2022-08-21T16:20:43.989431",
     "status": "completed"
    },
    "tags": []
   },
   "outputs": [
    {
     "data": {
      "text/plain": [
       "((1000, 40), (1000, 1), (9000, 40))"
      ]
     },
     "execution_count": 4,
     "metadata": {},
     "output_type": "execute_result"
    }
   ],
   "source": [
    "df_train.shape, labels.shape, df_test.shape"
   ]
  },
  {
   "cell_type": "code",
   "execution_count": 5,
   "id": "214aed16",
   "metadata": {
    "execution": {
     "iopub.execute_input": "2022-08-21T16:20:44.024160Z",
     "iopub.status.busy": "2022-08-21T16:20:44.022779Z",
     "iopub.status.idle": "2022-08-21T16:20:44.038573Z",
     "shell.execute_reply": "2022-08-21T16:20:44.037262Z"
    },
    "papermill": {
     "duration": 0.025078,
     "end_time": "2022-08-21T16:20:44.041564",
     "exception": false,
     "start_time": "2022-08-21T16:20:44.016486",
     "status": "completed"
    },
    "tags": []
   },
   "outputs": [],
   "source": [
    "from sklearn.preprocessing import MinMaxScaler\n",
    "scaler=MinMaxScaler()\n",
    "train=scaler.fit_transform(df_train)\n",
    "test=scaler.transform(df_test)"
   ]
  },
  {
   "cell_type": "code",
   "execution_count": 6,
   "id": "f362ec9e",
   "metadata": {
    "execution": {
     "iopub.execute_input": "2022-08-21T16:20:44.053161Z",
     "iopub.status.busy": "2022-08-21T16:20:44.052697Z",
     "iopub.status.idle": "2022-08-21T16:20:46.714155Z",
     "shell.execute_reply": "2022-08-21T16:20:46.712831Z"
    },
    "papermill": {
     "duration": 2.670653,
     "end_time": "2022-08-21T16:20:46.717006",
     "exception": false,
     "start_time": "2022-08-21T16:20:44.046353",
     "status": "completed"
    },
    "tags": []
   },
   "outputs": [
    {
     "data": {
      "text/html": [
       "<div>\n",
       "<style scoped>\n",
       "    .dataframe tbody tr th:only-of-type {\n",
       "        vertical-align: middle;\n",
       "    }\n",
       "\n",
       "    .dataframe tbody tr th {\n",
       "        vertical-align: top;\n",
       "    }\n",
       "\n",
       "    .dataframe thead th {\n",
       "        text-align: right;\n",
       "    }\n",
       "</style>\n",
       "<table border=\"1\" class=\"dataframe\">\n",
       "  <thead>\n",
       "    <tr style=\"text-align: right;\">\n",
       "      <th></th>\n",
       "      <th>AccuracyScore</th>\n",
       "      <th>PrecisionScore</th>\n",
       "      <th>RecallScore</th>\n",
       "      <th>f1_Score</th>\n",
       "    </tr>\n",
       "  </thead>\n",
       "  <tbody>\n",
       "    <tr>\n",
       "      <th>XGBClassifier</th>\n",
       "      <td>0.900</td>\n",
       "      <td>0.921569</td>\n",
       "      <td>0.886792</td>\n",
       "      <td>0.903846</td>\n",
       "    </tr>\n",
       "    <tr>\n",
       "      <th>GradientBoosting</th>\n",
       "      <td>0.895</td>\n",
       "      <td>0.912621</td>\n",
       "      <td>0.886792</td>\n",
       "      <td>0.899522</td>\n",
       "    </tr>\n",
       "    <tr>\n",
       "      <th>RandomForest</th>\n",
       "      <td>0.890</td>\n",
       "      <td>0.903846</td>\n",
       "      <td>0.886792</td>\n",
       "      <td>0.895238</td>\n",
       "    </tr>\n",
       "    <tr>\n",
       "      <th>SVC</th>\n",
       "      <td>0.885</td>\n",
       "      <td>0.895238</td>\n",
       "      <td>0.886792</td>\n",
       "      <td>0.890995</td>\n",
       "    </tr>\n",
       "    <tr>\n",
       "      <th>Gaussian</th>\n",
       "      <td>0.840</td>\n",
       "      <td>0.842593</td>\n",
       "      <td>0.858491</td>\n",
       "      <td>0.850467</td>\n",
       "    </tr>\n",
       "    <tr>\n",
       "      <th>KNeighbors</th>\n",
       "      <td>0.840</td>\n",
       "      <td>0.830357</td>\n",
       "      <td>0.877358</td>\n",
       "      <td>0.853211</td>\n",
       "    </tr>\n",
       "    <tr>\n",
       "      <th>LogisticReg</th>\n",
       "      <td>0.830</td>\n",
       "      <td>0.833333</td>\n",
       "      <td>0.849057</td>\n",
       "      <td>0.841121</td>\n",
       "    </tr>\n",
       "    <tr>\n",
       "      <th>AdaBoost</th>\n",
       "      <td>0.815</td>\n",
       "      <td>0.828571</td>\n",
       "      <td>0.820755</td>\n",
       "      <td>0.824645</td>\n",
       "    </tr>\n",
       "    <tr>\n",
       "      <th>DecisionTree</th>\n",
       "      <td>0.765</td>\n",
       "      <td>0.780952</td>\n",
       "      <td>0.773585</td>\n",
       "      <td>0.777251</td>\n",
       "    </tr>\n",
       "    <tr>\n",
       "      <th>Bernoulli</th>\n",
       "      <td>0.530</td>\n",
       "      <td>0.530000</td>\n",
       "      <td>1.000000</td>\n",
       "      <td>0.692810</td>\n",
       "    </tr>\n",
       "  </tbody>\n",
       "</table>\n",
       "</div>"
      ],
      "text/plain": [
       "                  AccuracyScore  PrecisionScore  RecallScore  f1_Score\n",
       "XGBClassifier             0.900        0.921569     0.886792  0.903846\n",
       "GradientBoosting          0.895        0.912621     0.886792  0.899522\n",
       "RandomForest              0.890        0.903846     0.886792  0.895238\n",
       "SVC                       0.885        0.895238     0.886792  0.890995\n",
       "Gaussian                  0.840        0.842593     0.858491  0.850467\n",
       "KNeighbors                0.840        0.830357     0.877358  0.853211\n",
       "LogisticReg               0.830        0.833333     0.849057  0.841121\n",
       "AdaBoost                  0.815        0.828571     0.820755  0.824645\n",
       "DecisionTree              0.765        0.780952     0.773585  0.777251\n",
       "Bernoulli                 0.530        0.530000     1.000000  0.692810"
      ]
     },
     "execution_count": 6,
     "metadata": {},
     "output_type": "execute_result"
    }
   ],
   "source": [
    "classification_(train, labels)"
   ]
  },
  {
   "cell_type": "markdown",
   "id": "b76f13a5",
   "metadata": {
    "papermill": {
     "duration": 0.004239,
     "end_time": "2022-08-21T16:20:46.726363",
     "exception": false,
     "start_time": "2022-08-21T16:20:46.722124",
     "status": "completed"
    },
    "tags": []
   },
   "source": [
    "## Prediction"
   ]
  },
  {
   "cell_type": "code",
   "execution_count": 7,
   "id": "8cdd4a3e",
   "metadata": {
    "execution": {
     "iopub.execute_input": "2022-08-21T16:20:46.737411Z",
     "iopub.status.busy": "2022-08-21T16:20:46.737031Z",
     "iopub.status.idle": "2022-08-21T16:20:47.464291Z",
     "shell.execute_reply": "2022-08-21T16:20:47.462781Z"
    },
    "papermill": {
     "duration": 0.736229,
     "end_time": "2022-08-21T16:20:47.467103",
     "exception": false,
     "start_time": "2022-08-21T16:20:46.730874",
     "status": "completed"
    },
    "tags": []
   },
   "outputs": [],
   "source": [
    "from xgboost import XGBClassifier\n",
    "xgbc=XGBClassifier()\n",
    "predictions=xgbc.fit(train,labels).predict(test)"
   ]
  },
  {
   "cell_type": "code",
   "execution_count": 8,
   "id": "27f79279",
   "metadata": {
    "execution": {
     "iopub.execute_input": "2022-08-21T16:20:47.481003Z",
     "iopub.status.busy": "2022-08-21T16:20:47.479740Z",
     "iopub.status.idle": "2022-08-21T16:20:47.515219Z",
     "shell.execute_reply": "2022-08-21T16:20:47.513755Z"
    },
    "papermill": {
     "duration": 0.04614,
     "end_time": "2022-08-21T16:20:47.518697",
     "exception": false,
     "start_time": "2022-08-21T16:20:47.472557",
     "status": "completed"
    },
    "tags": []
   },
   "outputs": [],
   "source": [
    "submission = pd.DataFrame()\n",
    "submission['Id']=list(range(1,9001))\n",
    "submission['Solution']=predictions\n",
    "submission.to_csv('submission.csv', index=False)"
   ]
  },
  {
   "cell_type": "code",
   "execution_count": 9,
   "id": "fa2c8832",
   "metadata": {
    "execution": {
     "iopub.execute_input": "2022-08-21T16:20:47.532061Z",
     "iopub.status.busy": "2022-08-21T16:20:47.530482Z",
     "iopub.status.idle": "2022-08-21T16:20:47.546416Z",
     "shell.execute_reply": "2022-08-21T16:20:47.545056Z"
    },
    "papermill": {
     "duration": 0.025412,
     "end_time": "2022-08-21T16:20:47.549121",
     "exception": false,
     "start_time": "2022-08-21T16:20:47.523709",
     "status": "completed"
    },
    "tags": []
   },
   "outputs": [
    {
     "data": {
      "text/html": [
       "<div>\n",
       "<style scoped>\n",
       "    .dataframe tbody tr th:only-of-type {\n",
       "        vertical-align: middle;\n",
       "    }\n",
       "\n",
       "    .dataframe tbody tr th {\n",
       "        vertical-align: top;\n",
       "    }\n",
       "\n",
       "    .dataframe thead th {\n",
       "        text-align: right;\n",
       "    }\n",
       "</style>\n",
       "<table border=\"1\" class=\"dataframe\">\n",
       "  <thead>\n",
       "    <tr style=\"text-align: right;\">\n",
       "      <th></th>\n",
       "      <th>Id</th>\n",
       "      <th>Solution</th>\n",
       "    </tr>\n",
       "  </thead>\n",
       "  <tbody>\n",
       "    <tr>\n",
       "      <th>0</th>\n",
       "      <td>1</td>\n",
       "      <td>1</td>\n",
       "    </tr>\n",
       "    <tr>\n",
       "      <th>1</th>\n",
       "      <td>2</td>\n",
       "      <td>0</td>\n",
       "    </tr>\n",
       "    <tr>\n",
       "      <th>2</th>\n",
       "      <td>3</td>\n",
       "      <td>0</td>\n",
       "    </tr>\n",
       "    <tr>\n",
       "      <th>3</th>\n",
       "      <td>4</td>\n",
       "      <td>0</td>\n",
       "    </tr>\n",
       "    <tr>\n",
       "      <th>4</th>\n",
       "      <td>5</td>\n",
       "      <td>0</td>\n",
       "    </tr>\n",
       "    <tr>\n",
       "      <th>...</th>\n",
       "      <td>...</td>\n",
       "      <td>...</td>\n",
       "    </tr>\n",
       "    <tr>\n",
       "      <th>8995</th>\n",
       "      <td>8996</td>\n",
       "      <td>1</td>\n",
       "    </tr>\n",
       "    <tr>\n",
       "      <th>8996</th>\n",
       "      <td>8997</td>\n",
       "      <td>1</td>\n",
       "    </tr>\n",
       "    <tr>\n",
       "      <th>8997</th>\n",
       "      <td>8998</td>\n",
       "      <td>1</td>\n",
       "    </tr>\n",
       "    <tr>\n",
       "      <th>8998</th>\n",
       "      <td>8999</td>\n",
       "      <td>0</td>\n",
       "    </tr>\n",
       "    <tr>\n",
       "      <th>8999</th>\n",
       "      <td>9000</td>\n",
       "      <td>1</td>\n",
       "    </tr>\n",
       "  </tbody>\n",
       "</table>\n",
       "<p>9000 rows × 2 columns</p>\n",
       "</div>"
      ],
      "text/plain": [
       "        Id  Solution\n",
       "0        1         1\n",
       "1        2         0\n",
       "2        3         0\n",
       "3        4         0\n",
       "4        5         0\n",
       "...    ...       ...\n",
       "8995  8996         1\n",
       "8996  8997         1\n",
       "8997  8998         1\n",
       "8998  8999         0\n",
       "8999  9000         1\n",
       "\n",
       "[9000 rows x 2 columns]"
      ]
     },
     "execution_count": 9,
     "metadata": {},
     "output_type": "execute_result"
    }
   ],
   "source": [
    "submission"
   ]
  }
 ],
 "metadata": {
  "kernelspec": {
   "display_name": "Python 3 (ipykernel)",
   "language": "python",
   "name": "python3"
  },
  "language_info": {
   "codemirror_mode": {
    "name": "ipython",
    "version": 3
   },
   "file_extension": ".py",
   "mimetype": "text/x-python",
   "name": "python",
   "nbconvert_exporter": "python",
   "pygments_lexer": "ipython3",
   "version": "3.9.12"
  },
  "papermill": {
   "default_parameters": {},
   "duration": 25.208246,
   "end_time": "2022-08-21T16:20:56.164007",
   "environment_variables": {},
   "exception": null,
   "input_path": "__notebook__.ipynb",
   "output_path": "__notebook__.ipynb",
   "parameters": {},
   "start_time": "2022-08-21T16:20:30.955761",
   "version": "2.3.4"
  },
  "toc": {
   "base_numbering": 1,
   "nav_menu": {},
   "number_sections": true,
   "sideBar": true,
   "skip_h1_title": false,
   "title_cell": "Table of Contents",
   "title_sidebar": "Contents",
   "toc_cell": false,
   "toc_position": {},
   "toc_section_display": true,
   "toc_window_display": false
  },
  "varInspector": {
   "cols": {
    "lenName": 16,
    "lenType": 16,
    "lenVar": 40
   },
   "kernels_config": {
    "python": {
     "delete_cmd_postfix": "",
     "delete_cmd_prefix": "del ",
     "library": "var_list.py",
     "varRefreshCmd": "print(var_dic_list())"
    },
    "r": {
     "delete_cmd_postfix": ") ",
     "delete_cmd_prefix": "rm(",
     "library": "var_list.r",
     "varRefreshCmd": "cat(var_dic_list()) "
    }
   },
   "types_to_exclude": [
    "module",
    "function",
    "builtin_function_or_method",
    "instance",
    "_Feature"
   ],
   "window_display": false
  }
 },
 "nbformat": 4,
 "nbformat_minor": 5
}
