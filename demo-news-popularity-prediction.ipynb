{
 "cells": [
  {
   "cell_type": "code",
   "execution_count": 1,
   "id": "849058c0",
   "metadata": {
    "_cell_guid": "b1076dfc-b9ad-4769-8c92-a6c4dae69d19",
    "_uuid": "8f2839f25d086af736a60e9eeb907d3b93b6e0e5",
    "execution": {
     "iopub.execute_input": "2022-08-30T16:33:54.729136Z",
     "iopub.status.busy": "2022-08-30T16:33:54.728050Z",
     "iopub.status.idle": "2022-08-30T16:33:54.755107Z",
     "shell.execute_reply": "2022-08-30T16:33:54.753232Z"
    },
    "papermill": {
     "duration": 0.040829,
     "end_time": "2022-08-30T16:33:54.759623",
     "exception": false,
     "start_time": "2022-08-30T16:33:54.718794",
     "status": "completed"
    },
    "tags": []
   },
   "outputs": [
    {
     "name": "stdout",
     "output_type": "stream",
     "text": [
      "/kaggle/input/demolab-news-popularity-prediction/data_dictionary.csv\n",
      "/kaggle/input/demolab-news-popularity-prediction/sample.csv\n",
      "/kaggle/input/demolab-news-popularity-prediction/train.csv\n",
      "/kaggle/input/demolab-news-popularity-prediction/test.csv\n"
     ]
    }
   ],
   "source": [
    "# This Python 3 environment comes with many helpful analytics libraries installed\n",
    "# It is defined by the kaggle/python Docker image: https://github.com/kaggle/docker-python\n",
    "# For example, here's several helpful packages to load\n",
    "\n",
    "import numpy as np # linear algebra\n",
    "import pandas as pd # data processing, CSV file I/O (e.g. pd.read_csv)\n",
    "\n",
    "# Input data files are available in the read-only \"../input/\" directory\n",
    "# For example, running this (by clicking run or pressing Shift+Enter) will list all files under the input directory\n",
    "\n",
    "import os\n",
    "for dirname, _, filenames in os.walk('/kaggle/input'):\n",
    "    for filename in filenames:\n",
    "        print(os.path.join(dirname, filename))\n",
    "\n",
    "# You can write up to 20GB to the current directory (/kaggle/working/) that gets preserved as output when you create a version using \"Save & Run All\" \n",
    "# You can also write temporary files to /kaggle/temp/, but they won't be saved outside of the current session"
   ]
  },
  {
   "cell_type": "code",
   "execution_count": 2,
   "id": "0f7b1f6e",
   "metadata": {
    "execution": {
     "iopub.execute_input": "2022-08-30T16:33:54.772668Z",
     "iopub.status.busy": "2022-08-30T16:33:54.772169Z",
     "iopub.status.idle": "2022-08-30T16:33:58.271055Z",
     "shell.execute_reply": "2022-08-30T16:33:58.269912Z"
    },
    "papermill": {
     "duration": 3.508793,
     "end_time": "2022-08-30T16:33:58.273759",
     "exception": false,
     "start_time": "2022-08-30T16:33:54.764966",
     "status": "completed"
    },
    "tags": []
   },
   "outputs": [],
   "source": [
    "import pandas as pd\n",
    "import numpy as np\n",
    "import matplotlib.pyplot as plt\n",
    "%matplotlib inline\n",
    "import seaborn as sns\n",
    "import plotly.express as px\n",
    "import plotly.graph_objs as go\n",
    "from plotly.subplots import make_subplots\n",
    "\n",
    "import warnings\n",
    "warnings.filterwarnings(\"ignore\")\n",
    "pd.set_option(\"display.max_columns\",100) # 100 yerine None yazilabiliyormus\n",
    "\n",
    "from sklearn.linear_model import LinearRegression\n",
    "from sklearn.linear_model import Ridge,Lasso\n",
    "from sklearn.linear_model import ElasticNet\n",
    "from sklearn.neighbors import KNeighborsRegressor\n",
    "from sklearn.ensemble import GradientBoostingRegressor\n",
    "from sklearn.tree import ExtraTreeRegressor\n",
    "from sklearn.tree import DecisionTreeRegressor\n",
    "from xgboost import XGBRegressor\n",
    "from sklearn.model_selection import train_test_split\n",
    "from sklearn.metrics import mean_squared_error,r2_score,mean_absolute_error"
   ]
  },
  {
   "cell_type": "code",
   "execution_count": 3,
   "id": "b8805237",
   "metadata": {
    "execution": {
     "iopub.execute_input": "2022-08-30T16:33:58.286940Z",
     "iopub.status.busy": "2022-08-30T16:33:58.285680Z",
     "iopub.status.idle": "2022-08-30T16:33:59.205226Z",
     "shell.execute_reply": "2022-08-30T16:33:59.203770Z"
    },
    "papermill": {
     "duration": 0.929228,
     "end_time": "2022-08-30T16:33:59.208356",
     "exception": false,
     "start_time": "2022-08-30T16:33:58.279128",
     "status": "completed"
    },
    "tags": []
   },
   "outputs": [],
   "source": [
    "train = pd.read_csv('../input/demolab-news-popularity-prediction/train.csv')\n",
    "train_shares = train.shares\n",
    "test = pd.read_csv('../input/demolab-news-popularity-prediction/test.csv')\n",
    "df = train.append(test)\n",
    "df.drop(columns=['url', 'shares'], inplace=True)"
   ]
  },
  {
   "cell_type": "code",
   "execution_count": 4,
   "id": "1b871731",
   "metadata": {
    "execution": {
     "iopub.execute_input": "2022-08-30T16:33:59.220139Z",
     "iopub.status.busy": "2022-08-30T16:33:59.219754Z",
     "iopub.status.idle": "2022-08-30T16:33:59.289257Z",
     "shell.execute_reply": "2022-08-30T16:33:59.287537Z"
    },
    "papermill": {
     "duration": 0.079358,
     "end_time": "2022-08-30T16:33:59.292657",
     "exception": false,
     "start_time": "2022-08-30T16:33:59.213299",
     "status": "completed"
    },
    "tags": []
   },
   "outputs": [
    {
     "data": {
      "text/html": [
       "<div>\n",
       "<style scoped>\n",
       "    .dataframe tbody tr th:only-of-type {\n",
       "        vertical-align: middle;\n",
       "    }\n",
       "\n",
       "    .dataframe tbody tr th {\n",
       "        vertical-align: top;\n",
       "    }\n",
       "\n",
       "    .dataframe thead th {\n",
       "        text-align: right;\n",
       "    }\n",
       "</style>\n",
       "<table border=\"1\" class=\"dataframe\">\n",
       "  <thead>\n",
       "    <tr style=\"text-align: right;\">\n",
       "      <th></th>\n",
       "      <th>id</th>\n",
       "      <th>n_tokens_title</th>\n",
       "      <th>n_tokens_content</th>\n",
       "      <th>n_unique_tokens</th>\n",
       "      <th>n_non_stop_words</th>\n",
       "      <th>n_non_stop_unique_tokens</th>\n",
       "      <th>num_hrefs</th>\n",
       "      <th>num_self_hrefs</th>\n",
       "      <th>num_imgs</th>\n",
       "      <th>num_videos</th>\n",
       "      <th>average_token_length</th>\n",
       "      <th>num_keywords</th>\n",
       "      <th>data_channel_is_lifestyle</th>\n",
       "      <th>data_channel_is_entertainment</th>\n",
       "      <th>data_channel_is_bus</th>\n",
       "      <th>data_channel_is_socmed</th>\n",
       "      <th>data_channel_is_tech</th>\n",
       "      <th>data_channel_is_world</th>\n",
       "      <th>kw_min_min</th>\n",
       "      <th>kw_max_min</th>\n",
       "      <th>kw_avg_min</th>\n",
       "      <th>kw_min_max</th>\n",
       "      <th>kw_max_max</th>\n",
       "      <th>kw_avg_max</th>\n",
       "      <th>kw_min_avg</th>\n",
       "      <th>kw_max_avg</th>\n",
       "      <th>kw_avg_avg</th>\n",
       "      <th>self_reference_min_shares</th>\n",
       "      <th>self_reference_max_shares</th>\n",
       "      <th>self_reference_avg_sharess</th>\n",
       "      <th>weekday_is_monday</th>\n",
       "      <th>weekday_is_tuesday</th>\n",
       "      <th>weekday_is_wednesday</th>\n",
       "      <th>weekday_is_thursday</th>\n",
       "      <th>weekday_is_friday</th>\n",
       "      <th>weekday_is_saturday</th>\n",
       "      <th>weekday_is_sunday</th>\n",
       "      <th>is_weekend</th>\n",
       "      <th>LDA_00</th>\n",
       "      <th>LDA_01</th>\n",
       "      <th>LDA_02</th>\n",
       "      <th>LDA_03</th>\n",
       "      <th>LDA_04</th>\n",
       "      <th>global_subjectivity</th>\n",
       "      <th>global_sentiment_polarity</th>\n",
       "      <th>global_rate_positive_words</th>\n",
       "      <th>global_rate_negative_words</th>\n",
       "      <th>rate_positive_words</th>\n",
       "      <th>rate_negative_words</th>\n",
       "      <th>avg_positive_polarity</th>\n",
       "      <th>min_positive_polarity</th>\n",
       "      <th>max_positive_polarity</th>\n",
       "      <th>avg_negative_polarity</th>\n",
       "      <th>min_negative_polarity</th>\n",
       "      <th>max_negative_polarity</th>\n",
       "      <th>title_subjectivity</th>\n",
       "      <th>title_sentiment_polarity</th>\n",
       "      <th>abs_title_subjectivity</th>\n",
       "      <th>abs_title_sentiment_polarity</th>\n",
       "    </tr>\n",
       "  </thead>\n",
       "  <tbody>\n",
       "    <tr>\n",
       "      <th>0</th>\n",
       "      <td>0</td>\n",
       "      <td>8.0</td>\n",
       "      <td>211.0</td>\n",
       "      <td>0.629808</td>\n",
       "      <td>1.0</td>\n",
       "      <td>0.800000</td>\n",
       "      <td>6.0</td>\n",
       "      <td>3.0</td>\n",
       "      <td>0.0</td>\n",
       "      <td>0.0</td>\n",
       "      <td>4.606635</td>\n",
       "      <td>8.0</td>\n",
       "      <td>0.0</td>\n",
       "      <td>0.0</td>\n",
       "      <td>0.0</td>\n",
       "      <td>0.0</td>\n",
       "      <td>1.0</td>\n",
       "      <td>0.0</td>\n",
       "      <td>217.0</td>\n",
       "      <td>2300.0</td>\n",
       "      <td>797.714286</td>\n",
       "      <td>0.0</td>\n",
       "      <td>617900.0</td>\n",
       "      <td>115912.500000</td>\n",
       "      <td>0.000000</td>\n",
       "      <td>5103.042553</td>\n",
       "      <td>2568.648709</td>\n",
       "      <td>2000.0</td>\n",
       "      <td>2000.0</td>\n",
       "      <td>2000.00</td>\n",
       "      <td>0.0</td>\n",
       "      <td>0.0</td>\n",
       "      <td>0.0</td>\n",
       "      <td>0.0</td>\n",
       "      <td>1.0</td>\n",
       "      <td>0.0</td>\n",
       "      <td>0.0</td>\n",
       "      <td>0.0</td>\n",
       "      <td>0.025025</td>\n",
       "      <td>0.025047</td>\n",
       "      <td>0.025012</td>\n",
       "      <td>0.025377</td>\n",
       "      <td>0.899540</td>\n",
       "      <td>0.647421</td>\n",
       "      <td>0.182837</td>\n",
       "      <td>0.033175</td>\n",
       "      <td>0.004739</td>\n",
       "      <td>0.875000</td>\n",
       "      <td>0.125000</td>\n",
       "      <td>0.413435</td>\n",
       "      <td>0.100000</td>\n",
       "      <td>0.6</td>\n",
       "      <td>-0.100000</td>\n",
       "      <td>NaN</td>\n",
       "      <td>-0.100000</td>\n",
       "      <td>1.000000</td>\n",
       "      <td>0.600000</td>\n",
       "      <td>0.500000</td>\n",
       "      <td>0.600000</td>\n",
       "    </tr>\n",
       "    <tr>\n",
       "      <th>1</th>\n",
       "      <td>1</td>\n",
       "      <td>12.0</td>\n",
       "      <td>416.0</td>\n",
       "      <td>0.603535</td>\n",
       "      <td>1.0</td>\n",
       "      <td>0.663580</td>\n",
       "      <td>22.0</td>\n",
       "      <td>7.0</td>\n",
       "      <td>1.0</td>\n",
       "      <td>16.0</td>\n",
       "      <td>5.004808</td>\n",
       "      <td>7.0</td>\n",
       "      <td>0.0</td>\n",
       "      <td>1.0</td>\n",
       "      <td>0.0</td>\n",
       "      <td>0.0</td>\n",
       "      <td>0.0</td>\n",
       "      <td>0.0</td>\n",
       "      <td>4.0</td>\n",
       "      <td>768.0</td>\n",
       "      <td>259.400000</td>\n",
       "      <td>0.0</td>\n",
       "      <td>NaN</td>\n",
       "      <td>169071.428571</td>\n",
       "      <td>0.000000</td>\n",
       "      <td>3339.790199</td>\n",
       "      <td>2112.665837</td>\n",
       "      <td>658.0</td>\n",
       "      <td>13700.0</td>\n",
       "      <td>4477.25</td>\n",
       "      <td>0.0</td>\n",
       "      <td>0.0</td>\n",
       "      <td>1.0</td>\n",
       "      <td>0.0</td>\n",
       "      <td>NaN</td>\n",
       "      <td>0.0</td>\n",
       "      <td>0.0</td>\n",
       "      <td>0.0</td>\n",
       "      <td>0.170984</td>\n",
       "      <td>0.029080</td>\n",
       "      <td>0.028572</td>\n",
       "      <td>0.742792</td>\n",
       "      <td>0.028572</td>\n",
       "      <td>0.449248</td>\n",
       "      <td>0.148915</td>\n",
       "      <td>0.038462</td>\n",
       "      <td>NaN</td>\n",
       "      <td>0.800000</td>\n",
       "      <td>0.200000</td>\n",
       "      <td>0.324716</td>\n",
       "      <td>0.033333</td>\n",
       "      <td>1.0</td>\n",
       "      <td>-0.228621</td>\n",
       "      <td>-0.5000</td>\n",
       "      <td>-0.071429</td>\n",
       "      <td>0.000000</td>\n",
       "      <td>0.000000</td>\n",
       "      <td>0.500000</td>\n",
       "      <td>0.000000</td>\n",
       "    </tr>\n",
       "    <tr>\n",
       "      <th>2</th>\n",
       "      <td>2</td>\n",
       "      <td>7.0</td>\n",
       "      <td>229.0</td>\n",
       "      <td>0.638393</td>\n",
       "      <td>1.0</td>\n",
       "      <td>0.746479</td>\n",
       "      <td>9.0</td>\n",
       "      <td>4.0</td>\n",
       "      <td>1.0</td>\n",
       "      <td>1.0</td>\n",
       "      <td>4.829694</td>\n",
       "      <td>8.0</td>\n",
       "      <td>0.0</td>\n",
       "      <td>0.0</td>\n",
       "      <td>0.0</td>\n",
       "      <td>0.0</td>\n",
       "      <td>1.0</td>\n",
       "      <td>0.0</td>\n",
       "      <td>-1.0</td>\n",
       "      <td>1100.0</td>\n",
       "      <td>472.625000</td>\n",
       "      <td>4800.0</td>\n",
       "      <td>843300.0</td>\n",
       "      <td>204837.500000</td>\n",
       "      <td>1575.400000</td>\n",
       "      <td>3562.101631</td>\n",
       "      <td>2589.125480</td>\n",
       "      <td>4800.0</td>\n",
       "      <td>NaN</td>\n",
       "      <td>4800.00</td>\n",
       "      <td>0.0</td>\n",
       "      <td>0.0</td>\n",
       "      <td>0.0</td>\n",
       "      <td>0.0</td>\n",
       "      <td>1.0</td>\n",
       "      <td>0.0</td>\n",
       "      <td>0.0</td>\n",
       "      <td>0.0</td>\n",
       "      <td>0.025046</td>\n",
       "      <td>0.025041</td>\n",
       "      <td>0.025001</td>\n",
       "      <td>0.025000</td>\n",
       "      <td>0.899912</td>\n",
       "      <td>0.353209</td>\n",
       "      <td>0.116600</td>\n",
       "      <td>0.034934</td>\n",
       "      <td>0.021834</td>\n",
       "      <td>NaN</td>\n",
       "      <td>0.384615</td>\n",
       "      <td>0.354545</td>\n",
       "      <td>0.050000</td>\n",
       "      <td>1.0</td>\n",
       "      <td>-0.260833</td>\n",
       "      <td>-0.5000</td>\n",
       "      <td>-0.166667</td>\n",
       "      <td>0.000000</td>\n",
       "      <td>0.000000</td>\n",
       "      <td>0.500000</td>\n",
       "      <td>0.000000</td>\n",
       "    </tr>\n",
       "    <tr>\n",
       "      <th>3</th>\n",
       "      <td>3</td>\n",
       "      <td>9.0</td>\n",
       "      <td>473.0</td>\n",
       "      <td>0.542373</td>\n",
       "      <td>1.0</td>\n",
       "      <td>0.752809</td>\n",
       "      <td>7.0</td>\n",
       "      <td>0.0</td>\n",
       "      <td>1.0</td>\n",
       "      <td>1.0</td>\n",
       "      <td>4.634249</td>\n",
       "      <td>7.0</td>\n",
       "      <td>0.0</td>\n",
       "      <td>0.0</td>\n",
       "      <td>0.0</td>\n",
       "      <td>0.0</td>\n",
       "      <td>1.0</td>\n",
       "      <td>0.0</td>\n",
       "      <td>-1.0</td>\n",
       "      <td>447.0</td>\n",
       "      <td>150.400000</td>\n",
       "      <td>0.0</td>\n",
       "      <td>843300.0</td>\n",
       "      <td>229728.571429</td>\n",
       "      <td>0.000000</td>\n",
       "      <td>3504.933802</td>\n",
       "      <td>NaN</td>\n",
       "      <td>0.0</td>\n",
       "      <td>0.0</td>\n",
       "      <td>0.00</td>\n",
       "      <td>0.0</td>\n",
       "      <td>0.0</td>\n",
       "      <td>1.0</td>\n",
       "      <td>0.0</td>\n",
       "      <td>NaN</td>\n",
       "      <td>0.0</td>\n",
       "      <td>0.0</td>\n",
       "      <td>0.0</td>\n",
       "      <td>0.028580</td>\n",
       "      <td>0.028581</td>\n",
       "      <td>0.028577</td>\n",
       "      <td>0.166853</td>\n",
       "      <td>0.747408</td>\n",
       "      <td>0.548957</td>\n",
       "      <td>0.254370</td>\n",
       "      <td>0.065539</td>\n",
       "      <td>0.010571</td>\n",
       "      <td>0.861111</td>\n",
       "      <td>0.138889</td>\n",
       "      <td>0.356253</td>\n",
       "      <td>0.136364</td>\n",
       "      <td>0.7</td>\n",
       "      <td>-0.167500</td>\n",
       "      <td>-0.2500</td>\n",
       "      <td>-0.100000</td>\n",
       "      <td>0.000000</td>\n",
       "      <td>0.000000</td>\n",
       "      <td>0.500000</td>\n",
       "      <td>0.000000</td>\n",
       "    </tr>\n",
       "    <tr>\n",
       "      <th>4</th>\n",
       "      <td>4</td>\n",
       "      <td>13.0</td>\n",
       "      <td>1097.0</td>\n",
       "      <td>0.505213</td>\n",
       "      <td>1.0</td>\n",
       "      <td>0.676343</td>\n",
       "      <td>10.0</td>\n",
       "      <td>4.0</td>\n",
       "      <td>14.0</td>\n",
       "      <td>0.0</td>\n",
       "      <td>4.678213</td>\n",
       "      <td>4.0</td>\n",
       "      <td>0.0</td>\n",
       "      <td>1.0</td>\n",
       "      <td>0.0</td>\n",
       "      <td>0.0</td>\n",
       "      <td>0.0</td>\n",
       "      <td>0.0</td>\n",
       "      <td>-1.0</td>\n",
       "      <td>1200.0</td>\n",
       "      <td>299.250000</td>\n",
       "      <td>33100.0</td>\n",
       "      <td>843300.0</td>\n",
       "      <td>381925.000000</td>\n",
       "      <td>2822.635182</td>\n",
       "      <td>5418.750000</td>\n",
       "      <td>3668.285640</td>\n",
       "      <td>1400.0</td>\n",
       "      <td>2300.0</td>\n",
       "      <td>2000.00</td>\n",
       "      <td>0.0</td>\n",
       "      <td>0.0</td>\n",
       "      <td>0.0</td>\n",
       "      <td>1.0</td>\n",
       "      <td>0.0</td>\n",
       "      <td>0.0</td>\n",
       "      <td>0.0</td>\n",
       "      <td>0.0</td>\n",
       "      <td>0.050004</td>\n",
       "      <td>0.052276</td>\n",
       "      <td>0.050148</td>\n",
       "      <td>0.797536</td>\n",
       "      <td>0.050036</td>\n",
       "      <td>0.436525</td>\n",
       "      <td>0.156793</td>\n",
       "      <td>0.041021</td>\n",
       "      <td>0.010027</td>\n",
       "      <td>0.803571</td>\n",
       "      <td>0.196429</td>\n",
       "      <td>0.366255</td>\n",
       "      <td>0.033333</td>\n",
       "      <td>1.0</td>\n",
       "      <td>-0.193182</td>\n",
       "      <td>-0.3125</td>\n",
       "      <td>-0.100000</td>\n",
       "      <td>0.383333</td>\n",
       "      <td>0.166667</td>\n",
       "      <td>0.116667</td>\n",
       "      <td>0.166667</td>\n",
       "    </tr>\n",
       "  </tbody>\n",
       "</table>\n",
       "</div>"
      ],
      "text/plain": [
       "   id  n_tokens_title  n_tokens_content  n_unique_tokens  n_non_stop_words  \\\n",
       "0   0             8.0             211.0         0.629808               1.0   \n",
       "1   1            12.0             416.0         0.603535               1.0   \n",
       "2   2             7.0             229.0         0.638393               1.0   \n",
       "3   3             9.0             473.0         0.542373               1.0   \n",
       "4   4            13.0            1097.0         0.505213               1.0   \n",
       "\n",
       "   n_non_stop_unique_tokens  num_hrefs  num_self_hrefs  num_imgs  num_videos  \\\n",
       "0                  0.800000        6.0             3.0       0.0         0.0   \n",
       "1                  0.663580       22.0             7.0       1.0        16.0   \n",
       "2                  0.746479        9.0             4.0       1.0         1.0   \n",
       "3                  0.752809        7.0             0.0       1.0         1.0   \n",
       "4                  0.676343       10.0             4.0      14.0         0.0   \n",
       "\n",
       "   average_token_length  num_keywords  data_channel_is_lifestyle  \\\n",
       "0              4.606635           8.0                        0.0   \n",
       "1              5.004808           7.0                        0.0   \n",
       "2              4.829694           8.0                        0.0   \n",
       "3              4.634249           7.0                        0.0   \n",
       "4              4.678213           4.0                        0.0   \n",
       "\n",
       "   data_channel_is_entertainment  data_channel_is_bus  data_channel_is_socmed  \\\n",
       "0                            0.0                  0.0                     0.0   \n",
       "1                            1.0                  0.0                     0.0   \n",
       "2                            0.0                  0.0                     0.0   \n",
       "3                            0.0                  0.0                     0.0   \n",
       "4                            1.0                  0.0                     0.0   \n",
       "\n",
       "   data_channel_is_tech  data_channel_is_world  kw_min_min  kw_max_min  \\\n",
       "0                   1.0                    0.0       217.0      2300.0   \n",
       "1                   0.0                    0.0         4.0       768.0   \n",
       "2                   1.0                    0.0        -1.0      1100.0   \n",
       "3                   1.0                    0.0        -1.0       447.0   \n",
       "4                   0.0                    0.0        -1.0      1200.0   \n",
       "\n",
       "   kw_avg_min  kw_min_max  kw_max_max     kw_avg_max   kw_min_avg  \\\n",
       "0  797.714286         0.0    617900.0  115912.500000     0.000000   \n",
       "1  259.400000         0.0         NaN  169071.428571     0.000000   \n",
       "2  472.625000      4800.0    843300.0  204837.500000  1575.400000   \n",
       "3  150.400000         0.0    843300.0  229728.571429     0.000000   \n",
       "4  299.250000     33100.0    843300.0  381925.000000  2822.635182   \n",
       "\n",
       "    kw_max_avg   kw_avg_avg  self_reference_min_shares  \\\n",
       "0  5103.042553  2568.648709                     2000.0   \n",
       "1  3339.790199  2112.665837                      658.0   \n",
       "2  3562.101631  2589.125480                     4800.0   \n",
       "3  3504.933802          NaN                        0.0   \n",
       "4  5418.750000  3668.285640                     1400.0   \n",
       "\n",
       "   self_reference_max_shares  self_reference_avg_sharess  weekday_is_monday  \\\n",
       "0                     2000.0                     2000.00                0.0   \n",
       "1                    13700.0                     4477.25                0.0   \n",
       "2                        NaN                     4800.00                0.0   \n",
       "3                        0.0                        0.00                0.0   \n",
       "4                     2300.0                     2000.00                0.0   \n",
       "\n",
       "   weekday_is_tuesday  weekday_is_wednesday  weekday_is_thursday  \\\n",
       "0                 0.0                   0.0                  0.0   \n",
       "1                 0.0                   1.0                  0.0   \n",
       "2                 0.0                   0.0                  0.0   \n",
       "3                 0.0                   1.0                  0.0   \n",
       "4                 0.0                   0.0                  1.0   \n",
       "\n",
       "   weekday_is_friday  weekday_is_saturday  weekday_is_sunday  is_weekend  \\\n",
       "0                1.0                  0.0                0.0         0.0   \n",
       "1                NaN                  0.0                0.0         0.0   \n",
       "2                1.0                  0.0                0.0         0.0   \n",
       "3                NaN                  0.0                0.0         0.0   \n",
       "4                0.0                  0.0                0.0         0.0   \n",
       "\n",
       "     LDA_00    LDA_01    LDA_02    LDA_03    LDA_04  global_subjectivity  \\\n",
       "0  0.025025  0.025047  0.025012  0.025377  0.899540             0.647421   \n",
       "1  0.170984  0.029080  0.028572  0.742792  0.028572             0.449248   \n",
       "2  0.025046  0.025041  0.025001  0.025000  0.899912             0.353209   \n",
       "3  0.028580  0.028581  0.028577  0.166853  0.747408             0.548957   \n",
       "4  0.050004  0.052276  0.050148  0.797536  0.050036             0.436525   \n",
       "\n",
       "   global_sentiment_polarity  global_rate_positive_words  \\\n",
       "0                   0.182837                    0.033175   \n",
       "1                   0.148915                    0.038462   \n",
       "2                   0.116600                    0.034934   \n",
       "3                   0.254370                    0.065539   \n",
       "4                   0.156793                    0.041021   \n",
       "\n",
       "   global_rate_negative_words  rate_positive_words  rate_negative_words  \\\n",
       "0                    0.004739             0.875000             0.125000   \n",
       "1                         NaN             0.800000             0.200000   \n",
       "2                    0.021834                  NaN             0.384615   \n",
       "3                    0.010571             0.861111             0.138889   \n",
       "4                    0.010027             0.803571             0.196429   \n",
       "\n",
       "   avg_positive_polarity  min_positive_polarity  max_positive_polarity  \\\n",
       "0               0.413435               0.100000                    0.6   \n",
       "1               0.324716               0.033333                    1.0   \n",
       "2               0.354545               0.050000                    1.0   \n",
       "3               0.356253               0.136364                    0.7   \n",
       "4               0.366255               0.033333                    1.0   \n",
       "\n",
       "   avg_negative_polarity  min_negative_polarity  max_negative_polarity  \\\n",
       "0              -0.100000                    NaN              -0.100000   \n",
       "1              -0.228621                -0.5000              -0.071429   \n",
       "2              -0.260833                -0.5000              -0.166667   \n",
       "3              -0.167500                -0.2500              -0.100000   \n",
       "4              -0.193182                -0.3125              -0.100000   \n",
       "\n",
       "   title_subjectivity  title_sentiment_polarity  abs_title_subjectivity  \\\n",
       "0            1.000000                  0.600000                0.500000   \n",
       "1            0.000000                  0.000000                0.500000   \n",
       "2            0.000000                  0.000000                0.500000   \n",
       "3            0.000000                  0.000000                0.500000   \n",
       "4            0.383333                  0.166667                0.116667   \n",
       "\n",
       "   abs_title_sentiment_polarity  \n",
       "0                      0.600000  \n",
       "1                      0.000000  \n",
       "2                      0.000000  \n",
       "3                      0.000000  \n",
       "4                      0.166667  "
      ]
     },
     "execution_count": 4,
     "metadata": {},
     "output_type": "execute_result"
    }
   ],
   "source": [
    "df.head()"
   ]
  },
  {
   "cell_type": "code",
   "execution_count": 5,
   "id": "21a37e01",
   "metadata": {
    "execution": {
     "iopub.execute_input": "2022-08-30T16:33:59.305616Z",
     "iopub.status.busy": "2022-08-30T16:33:59.305163Z",
     "iopub.status.idle": "2022-08-30T16:33:59.336145Z",
     "shell.execute_reply": "2022-08-30T16:33:59.334650Z"
    },
    "papermill": {
     "duration": 0.041339,
     "end_time": "2022-08-30T16:33:59.339604",
     "exception": false,
     "start_time": "2022-08-30T16:33:59.298265",
     "status": "completed"
    },
    "tags": []
   },
   "outputs": [
    {
     "name": "stdout",
     "output_type": "stream",
     "text": [
      "<class 'pandas.core.frame.DataFrame'>\n",
      "Int64Index: 39644 entries, 0 to 9910\n",
      "Data columns (total 59 columns):\n",
      " #   Column                         Non-Null Count  Dtype  \n",
      "---  ------                         --------------  -----  \n",
      " 0   id                             39644 non-null  int64  \n",
      " 1   n_tokens_title                 39644 non-null  float64\n",
      " 2   n_tokens_content               39644 non-null  float64\n",
      " 3   n_unique_tokens                39644 non-null  float64\n",
      " 4   n_non_stop_words               39644 non-null  float64\n",
      " 5   n_non_stop_unique_tokens       39644 non-null  float64\n",
      " 6   num_hrefs                      38558 non-null  float64\n",
      " 7   num_self_hrefs                 33508 non-null  float64\n",
      " 8   num_imgs                       32379 non-null  float64\n",
      " 9   num_videos                     38845 non-null  float64\n",
      " 10  average_token_length           39644 non-null  float64\n",
      " 11  num_keywords                   39012 non-null  float64\n",
      " 12  data_channel_is_lifestyle      39644 non-null  float64\n",
      " 13  data_channel_is_entertainment  39644 non-null  float64\n",
      " 14  data_channel_is_bus            39644 non-null  float64\n",
      " 15  data_channel_is_socmed         39644 non-null  float64\n",
      " 16  data_channel_is_tech           39644 non-null  float64\n",
      " 17  data_channel_is_world          39644 non-null  float64\n",
      " 18  kw_min_min                     38203 non-null  float64\n",
      " 19  kw_max_min                     39052 non-null  float64\n",
      " 20  kw_avg_min                     39533 non-null  float64\n",
      " 21  kw_min_max                     39475 non-null  float64\n",
      " 22  kw_max_max                     37625 non-null  float64\n",
      " 23  kw_avg_max                     39493 non-null  float64\n",
      " 24  kw_min_avg                     39232 non-null  float64\n",
      " 25  kw_max_avg                     38738 non-null  float64\n",
      " 26  kw_avg_avg                     38379 non-null  float64\n",
      " 27  self_reference_min_shares      39254 non-null  float64\n",
      " 28  self_reference_max_shares      37354 non-null  float64\n",
      " 29  self_reference_avg_sharess     39218 non-null  float64\n",
      " 30  weekday_is_monday              38339 non-null  float64\n",
      " 31  weekday_is_tuesday             38630 non-null  float64\n",
      " 32  weekday_is_wednesday           37610 non-null  float64\n",
      " 33  weekday_is_thursday            39245 non-null  float64\n",
      " 34  weekday_is_friday              38491 non-null  float64\n",
      " 35  weekday_is_saturday            39527 non-null  float64\n",
      " 36  weekday_is_sunday              37657 non-null  float64\n",
      " 37  is_weekend                     36773 non-null  float64\n",
      " 38  LDA_00                         39644 non-null  float64\n",
      " 39  LDA_01                         39644 non-null  float64\n",
      " 40  LDA_02                         39644 non-null  float64\n",
      " 41  LDA_03                         39644 non-null  float64\n",
      " 42  LDA_04                         39644 non-null  float64\n",
      " 43  global_subjectivity            36646 non-null  float64\n",
      " 44  global_sentiment_polarity      39195 non-null  float64\n",
      " 45  global_rate_positive_words     38536 non-null  float64\n",
      " 46  global_rate_negative_words     38439 non-null  float64\n",
      " 47  rate_positive_words            38882 non-null  float64\n",
      " 48  rate_negative_words            38866 non-null  float64\n",
      " 49  avg_positive_polarity          38010 non-null  float64\n",
      " 50  min_positive_polarity          39028 non-null  float64\n",
      " 51  max_positive_polarity          39430 non-null  float64\n",
      " 52  avg_negative_polarity          39398 non-null  float64\n",
      " 53  min_negative_polarity          38627 non-null  float64\n",
      " 54  max_negative_polarity          38681 non-null  float64\n",
      " 55  title_subjectivity             39477 non-null  float64\n",
      " 56  title_sentiment_polarity       39297 non-null  float64\n",
      " 57  abs_title_subjectivity         38573 non-null  float64\n",
      " 58  abs_title_sentiment_polarity   37748 non-null  float64\n",
      "dtypes: float64(58), int64(1)\n",
      "memory usage: 18.1 MB\n"
     ]
    }
   ],
   "source": [
    "df.info()"
   ]
  },
  {
   "cell_type": "code",
   "execution_count": 6,
   "id": "64769716",
   "metadata": {
    "execution": {
     "iopub.execute_input": "2022-08-30T16:33:59.353734Z",
     "iopub.status.busy": "2022-08-30T16:33:59.352284Z",
     "iopub.status.idle": "2022-08-30T16:33:59.996749Z",
     "shell.execute_reply": "2022-08-30T16:33:59.995397Z"
    },
    "papermill": {
     "duration": 0.654539,
     "end_time": "2022-08-30T16:33:59.999860",
     "exception": false,
     "start_time": "2022-08-30T16:33:59.345321",
     "status": "completed"
    },
    "tags": []
   },
   "outputs": [
    {
     "data": {
      "text/plain": [
       "<AxesSubplot:>"
      ]
     },
     "execution_count": 6,
     "metadata": {},
     "output_type": "execute_result"
    },
    {
     "data": {
      "image/png": "[encoded data removed]",
      "text/plain": [
       "<Figure size 1440x360 with 1 Axes>"
      ]
     },
     "metadata": {
      "needs_background": "light"
     },
     "output_type": "display_data"
    }
   ],
   "source": [
    "plt.figure(figsize=(20,5))\n",
    "df.isnull().mean()[train.isnull().mean()>0].sort_values(ascending=False).plot.bar()"
   ]
  },
  {
   "cell_type": "markdown",
   "id": "ecf51299",
   "metadata": {
    "papermill": {
     "duration": 0.006822,
     "end_time": "2022-08-30T16:34:00.014041",
     "exception": false,
     "start_time": "2022-08-30T16:34:00.007219",
     "status": "completed"
    },
    "tags": []
   },
   "source": [
    "## Fill Missing Values"
   ]
  },
  {
   "cell_type": "code",
   "execution_count": 7,
   "id": "3c0ba41e",
   "metadata": {
    "execution": {
     "iopub.execute_input": "2022-08-30T16:34:00.030450Z",
     "iopub.status.busy": "2022-08-30T16:34:00.029802Z",
     "iopub.status.idle": "2022-08-30T16:34:00.038221Z",
     "shell.execute_reply": "2022-08-30T16:34:00.037169Z"
    },
    "papermill": {
     "duration": 0.01949,
     "end_time": "2022-08-30T16:34:00.040673",
     "exception": false,
     "start_time": "2022-08-30T16:34:00.021183",
     "status": "completed"
    },
    "tags": []
   },
   "outputs": [],
   "source": [
    "for i in ['num_imgs', 'num_self_hrefs']:\n",
    "    df.loc[df[i].isnull(), i] = 0"
   ]
  },
  {
   "cell_type": "code",
   "execution_count": 8,
   "id": "e3e7182a",
   "metadata": {
    "execution": {
     "iopub.execute_input": "2022-08-30T16:34:00.056426Z",
     "iopub.status.busy": "2022-08-30T16:34:00.055669Z",
     "iopub.status.idle": "2022-08-30T16:34:00.062505Z",
     "shell.execute_reply": "2022-08-30T16:34:00.061562Z"
    },
    "papermill": {
     "duration": 0.017644,
     "end_time": "2022-08-30T16:34:00.065285",
     "exception": false,
     "start_time": "2022-08-30T16:34:00.047641",
     "status": "completed"
    },
    "tags": []
   },
   "outputs": [],
   "source": [
    "df.loc[:, 'is_weekend'] = df['weekday_is_saturday'] + df['weekday_is_sunday']"
   ]
  },
  {
   "cell_type": "code",
   "execution_count": 9,
   "id": "47db70b7",
   "metadata": {
    "execution": {
     "iopub.execute_input": "2022-08-30T16:34:00.081382Z",
     "iopub.status.busy": "2022-08-30T16:34:00.080608Z",
     "iopub.status.idle": "2022-08-30T16:34:01.854835Z",
     "shell.execute_reply": "2022-08-30T16:34:01.853512Z"
    },
    "papermill": {
     "duration": 1.785489,
     "end_time": "2022-08-30T16:34:01.857410",
     "exception": false,
     "start_time": "2022-08-30T16:34:00.071921",
     "status": "completed"
    },
    "tags": []
   },
   "outputs": [
    {
     "data": {
      "text/plain": [
       "(-0.06, 0.11)"
      ]
     },
     "execution_count": 9,
     "metadata": {},
     "output_type": "execute_result"
    },
    {
     "data": {
      "image/png": "[encoded data removed]",
      "text/plain": [
       "<Figure size 1440x360 with 1 Axes>"
      ]
     },
     "metadata": {
      "needs_background": "light"
     },
     "output_type": "display_data"
    }
   ],
   "source": [
    "plt.figure(figsize=(20,5))\n",
    "train.corr()['shares'].sort_values(ascending=False).plot.bar()\n",
    "plt.ylim([-0.060, 0.11])"
   ]
  },
  {
   "cell_type": "code",
   "execution_count": 10,
   "id": "211842b4",
   "metadata": {
    "execution": {
     "iopub.execute_input": "2022-08-30T16:34:01.874880Z",
     "iopub.status.busy": "2022-08-30T16:34:01.874459Z",
     "iopub.status.idle": "2022-08-30T16:34:03.227067Z",
     "shell.execute_reply": "2022-08-30T16:34:03.225794Z"
    },
    "papermill": {
     "duration": 1.364655,
     "end_time": "2022-08-30T16:34:03.229818",
     "exception": false,
     "start_time": "2022-08-30T16:34:01.865163",
     "status": "completed"
    },
    "tags": []
   },
   "outputs": [
    {
     "data": {
      "text/plain": [
       "<AxesSubplot:>"
      ]
     },
     "execution_count": 10,
     "metadata": {},
     "output_type": "execute_result"
    },
    {
     "data": {
      "image/png": "[encoded data removed]",
      "text/plain": [
       "<Figure size 1440x360 with 1 Axes>"
      ]
     },
     "metadata": {
      "needs_background": "light"
     },
     "output_type": "display_data"
    }
   ],
   "source": [
    "plt.figure(figsize=(20,5))\n",
    "df.nunique().sort_values(ascending=False).plot.bar()"
   ]
  },
  {
   "cell_type": "code",
   "execution_count": 11,
   "id": "274c5382",
   "metadata": {
    "execution": {
     "iopub.execute_input": "2022-08-30T16:34:03.249238Z",
     "iopub.status.busy": "2022-08-30T16:34:03.248870Z",
     "iopub.status.idle": "2022-08-30T16:34:03.361675Z",
     "shell.execute_reply": "2022-08-30T16:34:03.360271Z"
    },
    "papermill": {
     "duration": 0.126023,
     "end_time": "2022-08-30T16:34:03.364644",
     "exception": false,
     "start_time": "2022-08-30T16:34:03.238621",
     "status": "completed"
    },
    "tags": []
   },
   "outputs": [],
   "source": [
    "obj_col = [i for i in df.columns.to_list() if 'is_' in i]\n",
    "df.loc[:, obj_col] = df[obj_col].astype(object)"
   ]
  },
  {
   "cell_type": "markdown",
   "id": "e242d1e5",
   "metadata": {
    "papermill": {
     "duration": 0.008646,
     "end_time": "2022-08-30T16:34:03.383212",
     "exception": false,
     "start_time": "2022-08-30T16:34:03.374566",
     "status": "completed"
    },
    "tags": []
   },
   "source": [
    "## Training and Prediction"
   ]
  },
  {
   "cell_type": "code",
   "execution_count": 12,
   "id": "b8ea4f3d",
   "metadata": {
    "execution": {
     "iopub.execute_input": "2022-08-30T16:34:03.403786Z",
     "iopub.status.busy": "2022-08-30T16:34:03.403073Z",
     "iopub.status.idle": "2022-08-30T16:34:03.528396Z",
     "shell.execute_reply": "2022-08-30T16:34:03.527403Z"
    },
    "papermill": {
     "duration": 0.138947,
     "end_time": "2022-08-30T16:34:03.531110",
     "exception": false,
     "start_time": "2022-08-30T16:34:03.392163",
     "status": "completed"
    },
    "tags": []
   },
   "outputs": [],
   "source": [
    "df_dummies = pd.get_dummies(df.drop(columns='id'), drop_first=True)\n",
    "df_train = df_dummies[:train.shape[0]]\n",
    "df_test = df_dummies[train.shape[0]:]"
   ]
  },
  {
   "cell_type": "code",
   "execution_count": 13,
   "id": "de8ff083",
   "metadata": {
    "execution": {
     "iopub.execute_input": "2022-08-30T16:34:03.551406Z",
     "iopub.status.busy": "2022-08-30T16:34:03.550659Z",
     "iopub.status.idle": "2022-08-30T16:34:15.215405Z",
     "shell.execute_reply": "2022-08-30T16:34:15.214498Z"
    },
    "papermill": {
     "duration": 11.677853,
     "end_time": "2022-08-30T16:34:15.217933",
     "exception": false,
     "start_time": "2022-08-30T16:34:03.540080",
     "status": "completed"
    },
    "tags": []
   },
   "outputs": [],
   "source": [
    "xgbc=XGBRegressor()\n",
    "predict = xgbc.fit(df_train, train_shares).predict(df_test)\n",
    "predict = abs(predict)"
   ]
  },
  {
   "cell_type": "code",
   "execution_count": 14,
   "id": "422eedf1",
   "metadata": {
    "execution": {
     "iopub.execute_input": "2022-08-30T16:34:15.239778Z",
     "iopub.status.busy": "2022-08-30T16:34:15.238945Z",
     "iopub.status.idle": "2022-08-30T16:34:15.281025Z",
     "shell.execute_reply": "2022-08-30T16:34:15.279887Z"
    },
    "papermill": {
     "duration": 0.055525,
     "end_time": "2022-08-30T16:34:15.284144",
     "exception": false,
     "start_time": "2022-08-30T16:34:15.228619",
     "status": "completed"
    },
    "tags": []
   },
   "outputs": [
    {
     "data": {
      "text/html": [
       "<div>\n",
       "<style scoped>\n",
       "    .dataframe tbody tr th:only-of-type {\n",
       "        vertical-align: middle;\n",
       "    }\n",
       "\n",
       "    .dataframe tbody tr th {\n",
       "        vertical-align: top;\n",
       "    }\n",
       "\n",
       "    .dataframe thead th {\n",
       "        text-align: right;\n",
       "    }\n",
       "</style>\n",
       "<table border=\"1\" class=\"dataframe\">\n",
       "  <thead>\n",
       "    <tr style=\"text-align: right;\">\n",
       "      <th></th>\n",
       "      <th>id</th>\n",
       "      <th>shares</th>\n",
       "    </tr>\n",
       "  </thead>\n",
       "  <tbody>\n",
       "    <tr>\n",
       "      <th>0</th>\n",
       "      <td>29733</td>\n",
       "      <td>4316.852051</td>\n",
       "    </tr>\n",
       "    <tr>\n",
       "      <th>1</th>\n",
       "      <td>29734</td>\n",
       "      <td>3088.900879</td>\n",
       "    </tr>\n",
       "    <tr>\n",
       "      <th>2</th>\n",
       "      <td>29735</td>\n",
       "      <td>1518.106079</td>\n",
       "    </tr>\n",
       "    <tr>\n",
       "      <th>3</th>\n",
       "      <td>29736</td>\n",
       "      <td>2757.398438</td>\n",
       "    </tr>\n",
       "    <tr>\n",
       "      <th>4</th>\n",
       "      <td>29737</td>\n",
       "      <td>2060.670410</td>\n",
       "    </tr>\n",
       "  </tbody>\n",
       "</table>\n",
       "</div>"
      ],
      "text/plain": [
       "      id       shares\n",
       "0  29733  4316.852051\n",
       "1  29734  3088.900879\n",
       "2  29735  1518.106079\n",
       "3  29736  2757.398438\n",
       "4  29737  2060.670410"
      ]
     },
     "execution_count": 14,
     "metadata": {},
     "output_type": "execute_result"
    }
   ],
   "source": [
    "submission = pd.read_csv('../input/demolab-news-popularity-prediction/sample.csv')\n",
    "submission['shares'] = predict\n",
    "submission.to_csv('submission.csv', index=False)\n",
    "submission.head()"
   ]
  },
  {
   "cell_type": "code",
   "execution_count": null,
   "id": "65d257d3",
   "metadata": {
    "papermill": {
     "duration": 0.008609,
     "end_time": "2022-08-30T16:34:15.301915",
     "exception": false,
     "start_time": "2022-08-30T16:34:15.293306",
     "status": "completed"
    },
    "tags": []
   },
   "outputs": [],
   "source": []
  }
 ],
 "metadata": {
  "kernelspec": {
   "display_name": "Python 3",
   "language": "python",
   "name": "python3"
  },
  "language_info": {
   "codemirror_mode": {
    "name": "ipython",
    "version": 3
   },
   "file_extension": ".py",
   "mimetype": "text/x-python",
   "name": "python",
   "nbconvert_exporter": "python",
   "pygments_lexer": "ipython3",
   "version": "3.7.12"
  },
  "papermill": {
   "default_parameters": {},
   "duration": 31.945105,
   "end_time": "2022-08-30T16:34:16.234093",
   "environment_variables": {},
   "exception": null,
   "input_path": "__notebook__.ipynb",
   "output_path": "__notebook__.ipynb",
   "parameters": {},
   "start_time": "2022-08-30T16:33:44.288988",
   "version": "2.3.4"
  }
 },
 "nbformat": 4,
 "nbformat_minor": 5
}
