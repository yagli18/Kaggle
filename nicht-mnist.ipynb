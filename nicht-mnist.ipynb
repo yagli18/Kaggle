{
 "cells": [
  {
   "cell_type": "code",
   "execution_count": 1,
   "id": "7c353093",
   "metadata": {
    "_cell_guid": "b1076dfc-b9ad-4769-8c92-a6c4dae69d19",
    "_uuid": "8f2839f25d086af736a60e9eeb907d3b93b6e0e5",
    "execution": {
     "iopub.execute_input": "2022-08-29T15:46:47.463364Z",
     "iopub.status.busy": "2022-08-29T15:46:47.462534Z",
     "iopub.status.idle": "2022-08-29T15:46:47.474774Z",
     "shell.execute_reply": "2022-08-29T15:46:47.473967Z"
    },
    "papermill": {
     "duration": 0.02134,
     "end_time": "2022-08-29T15:46:47.476872",
     "exception": false,
     "start_time": "2022-08-29T15:46:47.455532",
     "status": "completed"
    },
    "tags": []
   },
   "outputs": [],
   "source": [
    "# This Python 3 environment comes with many helpful analytics libraries installed\n",
    "# It is defined by the kaggle/python Docker image: https://github.com/kaggle/docker-python\n",
    "# For example, here's several helpful packages to load\n",
    "\n",
    "import numpy as np # linear algebra\n",
    "import pandas as pd # data processing, CSV file I/O (e.g. pd.read_csv)\n",
    "\n",
    "# Input data files are available in the read-only \"../input/\" directory\n",
    "# For example, running this (by clicking run or pressing Shift+Enter) will list all files under the input directory\n",
    "\n",
    "import os\n",
    "for dirname, _, filenames in os.walk('/kaggle/input'):\n",
    "    for filename in filenames:\n",
    "        print(os.path.join(dirname, filename))\n",
    "\n",
    "# You can write up to 20GB to the current directory (/kaggle/working/) that gets preserved as output when you create a version using \"Save & Run All\" \n",
    "# You can also write temporary files to /kaggle/temp/, but they won't be saved outside of the current session"
   ]
  },
  {
   "cell_type": "code",
   "execution_count": 2,
   "id": "066ca3fd",
   "metadata": {
    "execution": {
     "iopub.execute_input": "2022-08-29T15:46:47.487407Z",
     "iopub.status.busy": "2022-08-29T15:46:47.486487Z",
     "iopub.status.idle": "2022-08-29T15:46:49.833601Z",
     "shell.execute_reply": "2022-08-29T15:46:49.832377Z"
    },
    "papermill": {
     "duration": 2.355102,
     "end_time": "2022-08-29T15:46:49.836460",
     "exception": false,
     "start_time": "2022-08-29T15:46:47.481358",
     "status": "completed"
    },
    "tags": []
   },
   "outputs": [
    {
     "name": "stdout",
     "output_type": "stream",
     "text": [
      "env: KAGGLE_USERNAME=yagli18\n",
      "env: KAGGLE_KEY=9a0215d4b35e8d69061e6efa4eafa0d6\n",
      "Downloading nicht-mnist.zip to /kaggle/working\r\n",
      " 89%|█████████████████████████████████▊    | 7.00M/7.85M [00:00<00:00, 71.4MB/s]\r\n",
      "100%|██████████████████████████████████████| 7.85M/7.85M [00:00<00:00, 75.6MB/s]\r\n"
     ]
    }
   ],
   "source": [
    "%env KAGGLE_USERNAME=yagli18\n",
    "%env KAGGLE_KEY=##########################\n",
    "!kaggle competitions download -c nicht-mnist"
   ]
  },
  {
   "cell_type": "code",
   "execution_count": 3,
   "id": "185f97d4",
   "metadata": {
    "execution": {
     "iopub.execute_input": "2022-08-29T15:46:49.852572Z",
     "iopub.status.busy": "2022-08-29T15:46:49.852187Z",
     "iopub.status.idle": "2022-08-29T15:46:51.184234Z",
     "shell.execute_reply": "2022-08-29T15:46:51.182979Z"
    },
    "papermill": {
     "duration": 1.342972,
     "end_time": "2022-08-29T15:46:51.186640",
     "exception": false,
     "start_time": "2022-08-29T15:46:49.843668",
     "status": "completed"
    },
    "tags": []
   },
   "outputs": [
    {
     "name": "stdout",
     "output_type": "stream",
     "text": [
      "Archive:  ./nicht-mnist.zip\r\n",
      "  inflating: Random_Sample_Submission.csv  \r\n",
      "  inflating: test.csv                \r\n",
      "  inflating: train.csv               \r\n"
     ]
    }
   ],
   "source": [
    "!unzip ./nicht-mnist.zip"
   ]
  },
  {
   "cell_type": "code",
   "execution_count": 4,
   "id": "2f523971",
   "metadata": {
    "execution": {
     "iopub.execute_input": "2022-08-29T15:46:51.197917Z",
     "iopub.status.busy": "2022-08-29T15:46:51.197569Z",
     "iopub.status.idle": "2022-08-29T15:46:56.322760Z",
     "shell.execute_reply": "2022-08-29T15:46:56.321768Z"
    },
    "papermill": {
     "duration": 5.133928,
     "end_time": "2022-08-29T15:46:56.325547",
     "exception": false,
     "start_time": "2022-08-29T15:46:51.191619",
     "status": "completed"
    },
    "tags": []
   },
   "outputs": [],
   "source": [
    "import pandas as pd\n",
    "import numpy as np\n",
    "import matplotlib.pyplot as plt\n",
    "%matplotlib inline\n",
    "import seaborn as sns\n",
    "import tensorflow as tf"
   ]
  },
  {
   "cell_type": "code",
   "execution_count": 5,
   "id": "cf9637a5",
   "metadata": {
    "execution": {
     "iopub.execute_input": "2022-08-29T15:46:56.336835Z",
     "iopub.status.busy": "2022-08-29T15:46:56.336279Z",
     "iopub.status.idle": "2022-08-29T15:46:57.419457Z",
     "shell.execute_reply": "2022-08-29T15:46:57.418494Z"
    },
    "papermill": {
     "duration": 1.091189,
     "end_time": "2022-08-29T15:46:57.421807",
     "exception": false,
     "start_time": "2022-08-29T15:46:56.330618",
     "status": "completed"
    },
    "tags": []
   },
   "outputs": [],
   "source": [
    "train = pd.read_csv('./train.csv',header=None, index_col =0)\n",
    "test = pd.read_csv('./test.csv',header=None, index_col =0)"
   ]
  },
  {
   "cell_type": "code",
   "execution_count": 6,
   "id": "2ab260c0",
   "metadata": {
    "execution": {
     "iopub.execute_input": "2022-08-29T15:46:57.434282Z",
     "iopub.status.busy": "2022-08-29T15:46:57.433936Z",
     "iopub.status.idle": "2022-08-29T15:46:57.457172Z",
     "shell.execute_reply": "2022-08-29T15:46:57.456161Z"
    },
    "papermill": {
     "duration": 0.03203,
     "end_time": "2022-08-29T15:46:57.459772",
     "exception": false,
     "start_time": "2022-08-29T15:46:57.427742",
     "status": "completed"
    },
    "tags": []
   },
   "outputs": [
    {
     "data": {
      "text/html": [
       "<div>\n",
       "<style scoped>\n",
       "    .dataframe tbody tr th:only-of-type {\n",
       "        vertical-align: middle;\n",
       "    }\n",
       "\n",
       "    .dataframe tbody tr th {\n",
       "        vertical-align: top;\n",
       "    }\n",
       "\n",
       "    .dataframe thead th {\n",
       "        text-align: right;\n",
       "    }\n",
       "</style>\n",
       "<table border=\"1\" class=\"dataframe\">\n",
       "  <thead>\n",
       "    <tr style=\"text-align: right;\">\n",
       "      <th></th>\n",
       "      <th>1</th>\n",
       "      <th>2</th>\n",
       "      <th>3</th>\n",
       "      <th>4</th>\n",
       "      <th>5</th>\n",
       "      <th>6</th>\n",
       "      <th>7</th>\n",
       "      <th>8</th>\n",
       "      <th>9</th>\n",
       "      <th>10</th>\n",
       "      <th>...</th>\n",
       "      <th>776</th>\n",
       "      <th>777</th>\n",
       "      <th>778</th>\n",
       "      <th>779</th>\n",
       "      <th>780</th>\n",
       "      <th>781</th>\n",
       "      <th>782</th>\n",
       "      <th>783</th>\n",
       "      <th>784</th>\n",
       "      <th>785</th>\n",
       "    </tr>\n",
       "    <tr>\n",
       "      <th>0</th>\n",
       "      <th></th>\n",
       "      <th></th>\n",
       "      <th></th>\n",
       "      <th></th>\n",
       "      <th></th>\n",
       "      <th></th>\n",
       "      <th></th>\n",
       "      <th></th>\n",
       "      <th></th>\n",
       "      <th></th>\n",
       "      <th></th>\n",
       "      <th></th>\n",
       "      <th></th>\n",
       "      <th></th>\n",
       "      <th></th>\n",
       "      <th></th>\n",
       "      <th></th>\n",
       "      <th></th>\n",
       "      <th></th>\n",
       "      <th></th>\n",
       "      <th></th>\n",
       "    </tr>\n",
       "  </thead>\n",
       "  <tbody>\n",
       "    <tr>\n",
       "      <th>0</th>\n",
       "      <td>A</td>\n",
       "      <td>0</td>\n",
       "      <td>0</td>\n",
       "      <td>0</td>\n",
       "      <td>0</td>\n",
       "      <td>0</td>\n",
       "      <td>0</td>\n",
       "      <td>0</td>\n",
       "      <td>0</td>\n",
       "      <td>0</td>\n",
       "      <td>...</td>\n",
       "      <td>0</td>\n",
       "      <td>0</td>\n",
       "      <td>9</td>\n",
       "      <td>19</td>\n",
       "      <td>4</td>\n",
       "      <td>30</td>\n",
       "      <td>11</td>\n",
       "      <td>8</td>\n",
       "      <td>77</td>\n",
       "      <td>13</td>\n",
       "    </tr>\n",
       "    <tr>\n",
       "      <th>1</th>\n",
       "      <td>A</td>\n",
       "      <td>255</td>\n",
       "      <td>255</td>\n",
       "      <td>255</td>\n",
       "      <td>255</td>\n",
       "      <td>255</td>\n",
       "      <td>255</td>\n",
       "      <td>255</td>\n",
       "      <td>255</td>\n",
       "      <td>255</td>\n",
       "      <td>...</td>\n",
       "      <td>0</td>\n",
       "      <td>0</td>\n",
       "      <td>4</td>\n",
       "      <td>0</td>\n",
       "      <td>153</td>\n",
       "      <td>255</td>\n",
       "      <td>251</td>\n",
       "      <td>255</td>\n",
       "      <td>255</td>\n",
       "      <td>255</td>\n",
       "    </tr>\n",
       "    <tr>\n",
       "      <th>2</th>\n",
       "      <td>A</td>\n",
       "      <td>0</td>\n",
       "      <td>0</td>\n",
       "      <td>0</td>\n",
       "      <td>0</td>\n",
       "      <td>0</td>\n",
       "      <td>0</td>\n",
       "      <td>0</td>\n",
       "      <td>0</td>\n",
       "      <td>0</td>\n",
       "      <td>...</td>\n",
       "      <td>114</td>\n",
       "      <td>114</td>\n",
       "      <td>117</td>\n",
       "      <td>117</td>\n",
       "      <td>117</td>\n",
       "      <td>117</td>\n",
       "      <td>115</td>\n",
       "      <td>114</td>\n",
       "      <td>96</td>\n",
       "      <td>19</td>\n",
       "    </tr>\n",
       "    <tr>\n",
       "      <th>3</th>\n",
       "      <td>A</td>\n",
       "      <td>0</td>\n",
       "      <td>0</td>\n",
       "      <td>0</td>\n",
       "      <td>0</td>\n",
       "      <td>0</td>\n",
       "      <td>0</td>\n",
       "      <td>0</td>\n",
       "      <td>0</td>\n",
       "      <td>0</td>\n",
       "      <td>...</td>\n",
       "      <td>0</td>\n",
       "      <td>0</td>\n",
       "      <td>0</td>\n",
       "      <td>0</td>\n",
       "      <td>3</td>\n",
       "      <td>0</td>\n",
       "      <td>24</td>\n",
       "      <td>90</td>\n",
       "      <td>99</td>\n",
       "      <td>28</td>\n",
       "    </tr>\n",
       "    <tr>\n",
       "      <th>4</th>\n",
       "      <td>A</td>\n",
       "      <td>0</td>\n",
       "      <td>0</td>\n",
       "      <td>0</td>\n",
       "      <td>0</td>\n",
       "      <td>2</td>\n",
       "      <td>0</td>\n",
       "      <td>80</td>\n",
       "      <td>221</td>\n",
       "      <td>223</td>\n",
       "      <td>...</td>\n",
       "      <td>0</td>\n",
       "      <td>0</td>\n",
       "      <td>2</td>\n",
       "      <td>0</td>\n",
       "      <td>180</td>\n",
       "      <td>255</td>\n",
       "      <td>243</td>\n",
       "      <td>244</td>\n",
       "      <td>255</td>\n",
       "      <td>103</td>\n",
       "    </tr>\n",
       "  </tbody>\n",
       "</table>\n",
       "<p>5 rows × 785 columns</p>\n",
       "</div>"
      ],
      "text/plain": [
       "  1    2    3    4    5    6    7    8    9    10   ...  776  777  778  779  \\\n",
       "0                                                   ...                       \n",
       "0   A    0    0    0    0    0    0    0    0    0  ...    0    0    9   19   \n",
       "1   A  255  255  255  255  255  255  255  255  255  ...    0    0    4    0   \n",
       "2   A    0    0    0    0    0    0    0    0    0  ...  114  114  117  117   \n",
       "3   A    0    0    0    0    0    0    0    0    0  ...    0    0    0    0   \n",
       "4   A    0    0    0    0    2    0   80  221  223  ...    0    0    2    0   \n",
       "\n",
       "   780  781  782  783  784  785  \n",
       "0                                \n",
       "0    4   30   11    8   77   13  \n",
       "1  153  255  251  255  255  255  \n",
       "2  117  117  115  114   96   19  \n",
       "3    3    0   24   90   99   28  \n",
       "4  180  255  243  244  255  103  \n",
       "\n",
       "[5 rows x 785 columns]"
      ]
     },
     "execution_count": 6,
     "metadata": {},
     "output_type": "execute_result"
    }
   ],
   "source": [
    "train.head()"
   ]
  },
  {
   "cell_type": "code",
   "execution_count": 7,
   "id": "e30bcca8",
   "metadata": {
    "execution": {
     "iopub.execute_input": "2022-08-29T15:46:57.470938Z",
     "iopub.status.busy": "2022-08-29T15:46:57.470637Z",
     "iopub.status.idle": "2022-08-29T15:46:57.486134Z",
     "shell.execute_reply": "2022-08-29T15:46:57.485117Z"
    },
    "papermill": {
     "duration": 0.023504,
     "end_time": "2022-08-29T15:46:57.488396",
     "exception": false,
     "start_time": "2022-08-29T15:46:57.464892",
     "status": "completed"
    },
    "tags": []
   },
   "outputs": [
    {
     "data": {
      "text/html": [
       "<div>\n",
       "<style scoped>\n",
       "    .dataframe tbody tr th:only-of-type {\n",
       "        vertical-align: middle;\n",
       "    }\n",
       "\n",
       "    .dataframe tbody tr th {\n",
       "        vertical-align: top;\n",
       "    }\n",
       "\n",
       "    .dataframe thead th {\n",
       "        text-align: right;\n",
       "    }\n",
       "</style>\n",
       "<table border=\"1\" class=\"dataframe\">\n",
       "  <thead>\n",
       "    <tr style=\"text-align: right;\">\n",
       "      <th></th>\n",
       "      <th>1</th>\n",
       "      <th>2</th>\n",
       "      <th>3</th>\n",
       "      <th>4</th>\n",
       "      <th>5</th>\n",
       "      <th>6</th>\n",
       "      <th>7</th>\n",
       "      <th>8</th>\n",
       "      <th>9</th>\n",
       "      <th>10</th>\n",
       "      <th>...</th>\n",
       "      <th>775</th>\n",
       "      <th>776</th>\n",
       "      <th>777</th>\n",
       "      <th>778</th>\n",
       "      <th>779</th>\n",
       "      <th>780</th>\n",
       "      <th>781</th>\n",
       "      <th>782</th>\n",
       "      <th>783</th>\n",
       "      <th>784</th>\n",
       "    </tr>\n",
       "    <tr>\n",
       "      <th>0</th>\n",
       "      <th></th>\n",
       "      <th></th>\n",
       "      <th></th>\n",
       "      <th></th>\n",
       "      <th></th>\n",
       "      <th></th>\n",
       "      <th></th>\n",
       "      <th></th>\n",
       "      <th></th>\n",
       "      <th></th>\n",
       "      <th></th>\n",
       "      <th></th>\n",
       "      <th></th>\n",
       "      <th></th>\n",
       "      <th></th>\n",
       "      <th></th>\n",
       "      <th></th>\n",
       "      <th></th>\n",
       "      <th></th>\n",
       "      <th></th>\n",
       "      <th></th>\n",
       "    </tr>\n",
       "  </thead>\n",
       "  <tbody>\n",
       "    <tr>\n",
       "      <th>0</th>\n",
       "      <td>0</td>\n",
       "      <td>0</td>\n",
       "      <td>0</td>\n",
       "      <td>0</td>\n",
       "      <td>0</td>\n",
       "      <td>0</td>\n",
       "      <td>0</td>\n",
       "      <td>2</td>\n",
       "      <td>22</td>\n",
       "      <td>163</td>\n",
       "      <td>...</td>\n",
       "      <td>1</td>\n",
       "      <td>0</td>\n",
       "      <td>18</td>\n",
       "      <td>159</td>\n",
       "      <td>239</td>\n",
       "      <td>255</td>\n",
       "      <td>255</td>\n",
       "      <td>255</td>\n",
       "      <td>234</td>\n",
       "      <td>115</td>\n",
       "    </tr>\n",
       "    <tr>\n",
       "      <th>1</th>\n",
       "      <td>0</td>\n",
       "      <td>7</td>\n",
       "      <td>106</td>\n",
       "      <td>182</td>\n",
       "      <td>183</td>\n",
       "      <td>176</td>\n",
       "      <td>171</td>\n",
       "      <td>171</td>\n",
       "      <td>171</td>\n",
       "      <td>171</td>\n",
       "      <td>...</td>\n",
       "      <td>3</td>\n",
       "      <td>0</td>\n",
       "      <td>3</td>\n",
       "      <td>97</td>\n",
       "      <td>201</td>\n",
       "      <td>240</td>\n",
       "      <td>243</td>\n",
       "      <td>210</td>\n",
       "      <td>102</td>\n",
       "      <td>1</td>\n",
       "    </tr>\n",
       "    <tr>\n",
       "      <th>2</th>\n",
       "      <td>0</td>\n",
       "      <td>0</td>\n",
       "      <td>0</td>\n",
       "      <td>0</td>\n",
       "      <td>0</td>\n",
       "      <td>0</td>\n",
       "      <td>0</td>\n",
       "      <td>0</td>\n",
       "      <td>0</td>\n",
       "      <td>0</td>\n",
       "      <td>...</td>\n",
       "      <td>195</td>\n",
       "      <td>235</td>\n",
       "      <td>255</td>\n",
       "      <td>254</td>\n",
       "      <td>255</td>\n",
       "      <td>247</td>\n",
       "      <td>199</td>\n",
       "      <td>197</td>\n",
       "      <td>207</td>\n",
       "      <td>145</td>\n",
       "    </tr>\n",
       "    <tr>\n",
       "      <th>3</th>\n",
       "      <td>2</td>\n",
       "      <td>0</td>\n",
       "      <td>10</td>\n",
       "      <td>96</td>\n",
       "      <td>181</td>\n",
       "      <td>227</td>\n",
       "      <td>248</td>\n",
       "      <td>255</td>\n",
       "      <td>255</td>\n",
       "      <td>255</td>\n",
       "      <td>...</td>\n",
       "      <td>0</td>\n",
       "      <td>0</td>\n",
       "      <td>0</td>\n",
       "      <td>0</td>\n",
       "      <td>2</td>\n",
       "      <td>0</td>\n",
       "      <td>22</td>\n",
       "      <td>190</td>\n",
       "      <td>248</td>\n",
       "      <td>156</td>\n",
       "    </tr>\n",
       "    <tr>\n",
       "      <th>4</th>\n",
       "      <td>0</td>\n",
       "      <td>0</td>\n",
       "      <td>0</td>\n",
       "      <td>0</td>\n",
       "      <td>3</td>\n",
       "      <td>2</td>\n",
       "      <td>0</td>\n",
       "      <td>1</td>\n",
       "      <td>56</td>\n",
       "      <td>140</td>\n",
       "      <td>...</td>\n",
       "      <td>122</td>\n",
       "      <td>38</td>\n",
       "      <td>0</td>\n",
       "      <td>0</td>\n",
       "      <td>3</td>\n",
       "      <td>2</td>\n",
       "      <td>0</td>\n",
       "      <td>0</td>\n",
       "      <td>0</td>\n",
       "      <td>0</td>\n",
       "    </tr>\n",
       "  </tbody>\n",
       "</table>\n",
       "<p>5 rows × 784 columns</p>\n",
       "</div>"
      ],
      "text/plain": [
       "   1    2    3    4    5    6    7    8    9    10   ...  775  776  777  778  \\\n",
       "0                                                    ...                       \n",
       "0    0    0    0    0    0    0    0    2   22  163  ...    1    0   18  159   \n",
       "1    0    7  106  182  183  176  171  171  171  171  ...    3    0    3   97   \n",
       "2    0    0    0    0    0    0    0    0    0    0  ...  195  235  255  254   \n",
       "3    2    0   10   96  181  227  248  255  255  255  ...    0    0    0    0   \n",
       "4    0    0    0    0    3    2    0    1   56  140  ...  122   38    0    0   \n",
       "\n",
       "   779  780  781  782  783  784  \n",
       "0                                \n",
       "0  239  255  255  255  234  115  \n",
       "1  201  240  243  210  102    1  \n",
       "2  255  247  199  197  207  145  \n",
       "3    2    0   22  190  248  156  \n",
       "4    3    2    0    0    0    0  \n",
       "\n",
       "[5 rows x 784 columns]"
      ]
     },
     "execution_count": 7,
     "metadata": {},
     "output_type": "execute_result"
    }
   ],
   "source": [
    "test.head()"
   ]
  },
  {
   "cell_type": "code",
   "execution_count": 8,
   "id": "0e5c11f4",
   "metadata": {
    "execution": {
     "iopub.execute_input": "2022-08-29T15:46:57.500059Z",
     "iopub.status.busy": "2022-08-29T15:46:57.499763Z",
     "iopub.status.idle": "2022-08-29T15:46:59.031898Z",
     "shell.execute_reply": "2022-08-29T15:46:59.030974Z"
    },
    "papermill": {
     "duration": 1.540634,
     "end_time": "2022-08-29T15:46:59.034231",
     "exception": false,
     "start_time": "2022-08-29T15:46:57.493597",
     "status": "completed"
    },
    "tags": []
   },
   "outputs": [
    {
     "data": {
      "text/plain": [
       "((9360, 28, 28, 1), (9360,))"
      ]
     },
     "execution_count": 8,
     "metadata": {},
     "output_type": "execute_result"
    }
   ],
   "source": [
    "X=train.values[:, 1:].reshape((-1,28,28,1)) / 255.\n",
    "X = np.asarray(X).astype(np.float32)\n",
    "train_labels=train.iloc[:,0]\n",
    "\n",
    "from sklearn.preprocessing import LabelEncoder\n",
    "le = LabelEncoder()\n",
    "y = le.fit_transform(train_labels)\n",
    "\n",
    "X.shape, y.shape"
   ]
  },
  {
   "cell_type": "code",
   "execution_count": 9,
   "id": "d26b01cf",
   "metadata": {
    "execution": {
     "iopub.execute_input": "2022-08-29T15:46:59.046460Z",
     "iopub.status.busy": "2022-08-29T15:46:59.046157Z",
     "iopub.status.idle": "2022-08-29T15:46:59.052730Z",
     "shell.execute_reply": "2022-08-29T15:46:59.051699Z"
    },
    "papermill": {
     "duration": 0.01577,
     "end_time": "2022-08-29T15:46:59.055667",
     "exception": false,
     "start_time": "2022-08-29T15:46:59.039897",
     "status": "completed"
    },
    "tags": []
   },
   "outputs": [
    {
     "data": {
      "text/plain": [
       "array([0, 0, 0, ..., 9, 9, 9])"
      ]
     },
     "execution_count": 9,
     "metadata": {},
     "output_type": "execute_result"
    }
   ],
   "source": [
    "y"
   ]
  },
  {
   "cell_type": "code",
   "execution_count": 10,
   "id": "01ac493b",
   "metadata": {
    "execution": {
     "iopub.execute_input": "2022-08-29T15:46:59.067344Z",
     "iopub.status.busy": "2022-08-29T15:46:59.067068Z",
     "iopub.status.idle": "2022-08-29T15:46:59.302715Z",
     "shell.execute_reply": "2022-08-29T15:46:59.301850Z"
    },
    "papermill": {
     "duration": 0.243862,
     "end_time": "2022-08-29T15:46:59.304783",
     "exception": false,
     "start_time": "2022-08-29T15:46:59.060921",
     "status": "completed"
    },
    "tags": []
   },
   "outputs": [
    {
     "data": {
      "text/plain": [
       "<AxesSubplot:>"
      ]
     },
     "execution_count": 10,
     "metadata": {},
     "output_type": "execute_result"
    },
    {
     "data": {
      "image/png": "[encoded data removed]",
      "text/plain": [
       "<Figure size 432x288 with 1 Axes>"
      ]
     },
     "metadata": {
      "needs_background": "light"
     },
     "output_type": "display_data"
    }
   ],
   "source": [
    "train_labels.value_counts().plot.bar()"
   ]
  },
  {
   "cell_type": "markdown",
   "id": "bb3ccbed",
   "metadata": {
    "papermill": {
     "duration": 0.005345,
     "end_time": "2022-08-29T15:46:59.315909",
     "exception": false,
     "start_time": "2022-08-29T15:46:59.310564",
     "status": "completed"
    },
    "tags": []
   },
   "source": [
    "## Training and Prediction"
   ]
  },
  {
   "cell_type": "code",
   "execution_count": 11,
   "id": "5677caf5",
   "metadata": {
    "execution": {
     "iopub.execute_input": "2022-08-29T15:46:59.329554Z",
     "iopub.status.busy": "2022-08-29T15:46:59.328731Z",
     "iopub.status.idle": "2022-08-29T15:46:59.417918Z",
     "shell.execute_reply": "2022-08-29T15:46:59.416921Z"
    },
    "papermill": {
     "duration": 0.099112,
     "end_time": "2022-08-29T15:46:59.420474",
     "exception": false,
     "start_time": "2022-08-29T15:46:59.321362",
     "status": "completed"
    },
    "tags": []
   },
   "outputs": [],
   "source": [
    "from sklearn.model_selection import train_test_split\n",
    "x_train, x_test, y_train, y_test = train_test_split(X,y, train_size=0.2, random_state=4)"
   ]
  },
  {
   "cell_type": "code",
   "execution_count": 12,
   "id": "182a1ab4",
   "metadata": {
    "execution": {
     "iopub.execute_input": "2022-08-29T15:46:59.433450Z",
     "iopub.status.busy": "2022-08-29T15:46:59.432839Z",
     "iopub.status.idle": "2022-08-29T15:47:03.370797Z",
     "shell.execute_reply": "2022-08-29T15:47:03.366691Z"
    },
    "papermill": {
     "duration": 3.947105,
     "end_time": "2022-08-29T15:47:03.373407",
     "exception": false,
     "start_time": "2022-08-29T15:46:59.426302",
     "status": "completed"
    },
    "tags": []
   },
   "outputs": [
    {
     "name": "stderr",
     "output_type": "stream",
     "text": [
      "2022-08-29 15:47:00.427877: I tensorflow/stream_executor/cuda/cuda_gpu_executor.cc:937] successful NUMA node read from SysFS had negative value (-1), but there must be at least one NUMA node, so returning NUMA node zero\n",
      "2022-08-29 15:47:00.571363: I tensorflow/stream_executor/cuda/cuda_gpu_executor.cc:937] successful NUMA node read from SysFS had negative value (-1), but there must be at least one NUMA node, so returning NUMA node zero\n",
      "2022-08-29 15:47:00.572748: I tensorflow/stream_executor/cuda/cuda_gpu_executor.cc:937] successful NUMA node read from SysFS had negative value (-1), but there must be at least one NUMA node, so returning NUMA node zero\n",
      "2022-08-29 15:47:00.576379: I tensorflow/core/platform/cpu_feature_guard.cc:142] This TensorFlow binary is optimized with oneAPI Deep Neural Network Library (oneDNN) to use the following CPU instructions in performance-critical operations:  AVX2 AVX512F FMA\n",
      "To enable them in other operations, rebuild TensorFlow with the appropriate compiler flags.\n",
      "2022-08-29 15:47:00.576946: I tensorflow/stream_executor/cuda/cuda_gpu_executor.cc:937] successful NUMA node read from SysFS had negative value (-1), but there must be at least one NUMA node, so returning NUMA node zero\n",
      "2022-08-29 15:47:00.578343: I tensorflow/stream_executor/cuda/cuda_gpu_executor.cc:937] successful NUMA node read from SysFS had negative value (-1), but there must be at least one NUMA node, so returning NUMA node zero\n",
      "2022-08-29 15:47:00.579554: I tensorflow/stream_executor/cuda/cuda_gpu_executor.cc:937] successful NUMA node read from SysFS had negative value (-1), but there must be at least one NUMA node, so returning NUMA node zero\n",
      "2022-08-29 15:47:02.904821: I tensorflow/stream_executor/cuda/cuda_gpu_executor.cc:937] successful NUMA node read from SysFS had negative value (-1), but there must be at least one NUMA node, so returning NUMA node zero\n",
      "2022-08-29 15:47:02.905696: I tensorflow/stream_executor/cuda/cuda_gpu_executor.cc:937] successful NUMA node read from S"
     ]
    },
    {
     "name": "stdout",
     "output_type": "stream",
     "text": [
      "Model: \"sequential\"\n",
      "_________________________________________________________________\n",
      "Layer (type)                 Output Shape              Param #   \n",
      "=================================================================\n",
      "conv2d (Conv2D)              (None, 26, 26, 32)        320       \n",
      "_________________________________________________________________\n",
      "batch_normalization (BatchNo (None, 26, 26, 32)        128       \n",
      "_________________________________________________________________\n",
      "conv2d_1 (Conv2D)            (None, 24, 24, 64)        18496     \n",
      "_________________________________________________________________\n",
      "max_pooling2d (MaxPooling2D) (None, 12, 12, 64)        0         \n",
      "_________________________________________________________________\n",
      "batch_normalization_1 (Batch (None, 12, 12, 64)        256       \n",
      "_________________________________________________________________\n",
      "conv2d_2 (Conv2D)            (None, 10, 10, 64)        36928     \n",
      "_________________________________________________________________\n",
      "max_pooling2d_1 (MaxPooling2 (None, 5, 5, 64)          0         \n",
      "_________________________________________________________________\n",
      "flatten (Flatten)            (None, 1600)              0         \n",
      "_________________________________________________________________\n",
      "dense (Dense)                (None, 100)               160100    \n",
      "_________________________________________________________________\n",
      "batch_normalization_2 (Batch (None, 100)               400       \n",
      "_________________________________________________________________\n",
      "dense_1 (Dense)              (None, 10)                1010      \n",
      "=================================================================\n",
      "Total params: 217,638\n",
      "Trainable params: 217,246\n",
      "Non-trainable params: 392\n",
      "_________________________________________________________________\n"
     ]
    },
    {
     "name": "stderr",
     "output_type": "stream",
     "text": [
      "ysFS had negative value (-1), but there must be at least one NUMA node, so returning NUMA node zero\n",
      "2022-08-29 15:47:02.906446: I tensorflow/stream_executor/cuda/cuda_gpu_executor.cc:937] successful NUMA node read from SysFS had negative value (-1), but there must be at least one NUMA node, so returning NUMA node zero\n",
      "2022-08-29 15:47:02.907058: I tensorflow/core/common_runtime/gpu/gpu_device.cc:1510] Created device /job:localhost/replica:0/task:0/device:GPU:0 with 15401 MB memory:  -> device: 0, name: Tesla P100-PCIE-16GB, pci bus id: 0000:00:04.0, compute capability: 6.0\n"
     ]
    }
   ],
   "source": [
    "model=tf.keras.Sequential([\n",
    "                           tf.keras.layers.Conv2D(32,(3,3),activation=\"relu\",input_shape=(28,28,1)),\n",
    "                           tf.keras.layers.BatchNormalization(),\n",
    "                           tf.keras.layers.Conv2D(64,(3,3),activation=\"relu\"),\n",
    "                           tf.keras.layers.MaxPool2D(2,2),\n",
    "                           tf.keras.layers.BatchNormalization(),\n",
    "                           tf.keras.layers.Conv2D(64,(3,3),activation=\"relu\"),\n",
    "                           tf.keras.layers.MaxPool2D(2,2),\n",
    "                           tf.keras.layers.Flatten(),\n",
    "                           tf.keras.layers.Dense(100,activation=\"relu\"),\n",
    "                           tf.keras.layers.BatchNormalization(),\n",
    "                           tf.keras.layers.Dense(10,activation=\"softmax\")]) \n",
    "model.summary()"
   ]
  },
  {
   "cell_type": "code",
   "execution_count": 13,
   "id": "df68b9a0",
   "metadata": {
    "execution": {
     "iopub.execute_input": "2022-08-29T15:47:03.387558Z",
     "iopub.status.busy": "2022-08-29T15:47:03.386703Z",
     "iopub.status.idle": "2022-08-29T15:47:45.176643Z",
     "shell.execute_reply": "2022-08-29T15:47:45.175594Z"
    },
    "papermill": {
     "duration": 41.79976,
     "end_time": "2022-08-29T15:47:45.179339",
     "exception": false,
     "start_time": "2022-08-29T15:47:03.379579",
     "status": "completed"
    },
    "tags": []
   },
   "outputs": [
    {
     "name": "stdout",
     "output_type": "stream",
     "text": [
      "Epoch 1/20\n"
     ]
    },
    {
     "name": "stderr",
     "output_type": "stream",
     "text": [
      "2022-08-29 15:47:03.472541: I tensorflow/compiler/mlir/mlir_graph_optimization_pass.cc:185] None of the MLIR Optimization Passes are enabled (registered 2)\n",
      "/opt/conda/lib/python3.7/site-packages/keras/backend.py:4907: UserWarning: \"`sparse_categorical_crossentropy` received `from_logits=True`, but the `output` argument was produced by a sigmoid or softmax activation and thus does not represent logits. Was this intended?\"\n",
      "  '\"`sparse_categorical_crossentropy` received `from_logits=True`, but '\n",
      "2022-08-29 15:47:05.227651: I tensorflow/stream_executor/cuda/cuda_dnn.cc:369] Loaded cuDNN version 8005\n"
     ]
    },
    {
     "name": "stdout",
     "output_type": "stream",
     "text": [
      "59/59 [==============================] - 9s 22ms/step - loss: 0.8244 - accuracy: 0.7628 - val_loss: 2.2487 - val_accuracy: 0.2748\n",
      "Epoch 2/20\n",
      "59/59 [==============================] - 1s 11ms/step - loss: 0.3220 - accuracy: 0.9097 - val_loss: 2.8587 - val_accuracy: 0.1245\n",
      "Epoch 3/20\n",
      "59/59 [==============================] - 1s 10ms/step - loss: 0.1823 - accuracy: 0.9525 - val_loss: 2.6743 - val_accuracy: 0.0996\n",
      "Epoch 4/20\n",
      "59/59 [==============================] - 1s 10ms/step - loss: 0.1201 - accuracy: 0.9679 - val_loss: 3.3186 - val_accuracy: 0.0970\n",
      "Epoch 5/20\n",
      "59/59 [==============================] - 1s 11ms/step - loss: 0.0768 - accuracy: 0.9850 - val_loss: 3.6134 - val_accuracy: 0.0970\n",
      "Epoch 6/20\n",
      "59/59 [==============================] - 1s 11ms/step - loss: 0.0464 - accuracy: 0.9963 - val_loss: 2.2565 - val_accuracy: 0.2560\n",
      "Epoch 7/20\n",
      "59/59 [==============================] - 1s 11ms/step - loss: 0.0273 - accuracy: 0.9984 - val_loss: 1.4747 - val_accuracy: 0.4968\n",
      "Epoch 8/20\n",
      "59/59 [==============================] - 1s 11ms/step - loss: 0.0209 - accuracy: 0.9984 - val_loss: 0.9847 - val_accuracy: 0.6749\n",
      "Epoch 9/20\n",
      "59/59 [==============================] - 1s 15ms/step - loss: 0.0166 - accuracy: 0.9989 - val_loss: 0.4859 - val_accuracy: 0.8623\n",
      "Epoch 10/20\n",
      "59/59 [==============================] - 1s 16ms/step - loss: 0.0103 - accuracy: 0.9995 - val_loss: 0.4254 - val_accuracy: 0.8889\n",
      "Epoch 11/20\n",
      "59/59 [==============================] - 1s 11ms/step - loss: 0.0150 - accuracy: 0.9979 - val_loss: 0.3961 - val_accuracy: 0.8997\n",
      "Epoch 12/20\n",
      "59/59 [==============================] - 1s 15ms/step - loss: 0.0143 - accuracy: 0.9979 - val_loss: 0.3858 - val_accuracy: 0.9049\n",
      "Epoch 13/20\n",
      "59/59 [==============================] - 1s 10ms/step - loss: 0.0062 - accuracy: 0.9989 - val_loss: 0.3645 - val_accuracy: 0.9103\n",
      "Epoch 14/20\n",
      "59/59 [==============================] - 1s 11ms/step - loss: 0.0032 - accuracy: 1.0000 - val_loss: 0.3641 - val_accuracy: 0.9115\n",
      "Epoch 15/20\n",
      "59/59 [==============================] - 1s 11ms/step - loss: 0.0027 - accuracy: 1.0000 - val_loss: 0.3672 - val_accuracy: 0.9151\n",
      "Epoch 16/20\n",
      "59/59 [==============================] - 1s 13ms/step - loss: 0.0023 - accuracy: 1.0000 - val_loss: 0.3683 - val_accuracy: 0.9145\n",
      "Epoch 17/20\n",
      "59/59 [==============================] - 1s 16ms/step - loss: 0.0025 - accuracy: 0.9995 - val_loss: 0.3740 - val_accuracy: 0.9132\n",
      "Epoch 18/20\n",
      "59/59 [==============================] - 1s 15ms/step - loss: 0.0550 - accuracy: 0.9872 - val_loss: 0.6383 - val_accuracy: 0.8741\n",
      "Epoch 19/20\n",
      "59/59 [==============================] - 1s 15ms/step - loss: 0.0977 - accuracy: 0.9712 - val_loss: 0.8952 - val_accuracy: 0.8210\n",
      "Epoch 20/20\n",
      "59/59 [==============================] - 1s 11ms/step - loss: 0.0711 - accuracy: 0.9786 - val_loss: 0.5337 - val_accuracy: 0.8884\n"
     ]
    }
   ],
   "source": [
    "model.compile(optimizer= 'Adam', loss = tf.keras.losses.SparseCategoricalCrossentropy(from_logits=True),metrics=['accuracy'])\n",
    "history=model.fit(x_train, y_train, validation_data=(x_test, y_test) ,epochs=20,verbose=1)"
   ]
  },
  {
   "cell_type": "code",
   "execution_count": 14,
   "id": "d2964d7c",
   "metadata": {
    "execution": {
     "iopub.execute_input": "2022-08-29T15:47:45.205779Z",
     "iopub.status.busy": "2022-08-29T15:47:45.205450Z",
     "iopub.status.idle": "2022-08-29T15:47:45.211402Z",
     "shell.execute_reply": "2022-08-29T15:47:45.210484Z"
    },
    "papermill": {
     "duration": 0.021444,
     "end_time": "2022-08-29T15:47:45.213535",
     "exception": false,
     "start_time": "2022-08-29T15:47:45.192091",
     "status": "completed"
    },
    "tags": []
   },
   "outputs": [
    {
     "data": {
      "text/plain": [
       "(1872,)"
      ]
     },
     "execution_count": 14,
     "metadata": {},
     "output_type": "execute_result"
    }
   ],
   "source": [
    "y_train.shape"
   ]
  },
  {
   "cell_type": "code",
   "execution_count": 15,
   "id": "83c0c42d",
   "metadata": {
    "execution": {
     "iopub.execute_input": "2022-08-29T15:47:45.239591Z",
     "iopub.status.busy": "2022-08-29T15:47:45.239303Z",
     "iopub.status.idle": "2022-08-29T15:47:45.646794Z",
     "shell.execute_reply": "2022-08-29T15:47:45.645739Z"
    },
    "papermill": {
     "duration": 0.423083,
     "end_time": "2022-08-29T15:47:45.649210",
     "exception": false,
     "start_time": "2022-08-29T15:47:45.226127",
     "status": "completed"
    },
    "tags": []
   },
   "outputs": [
    {
     "data": {
      "image/png": "[encoded data removed]",
      "text/plain": [
       "<Figure size 432x288 with 1 Axes>"
      ]
     },
     "metadata": {
      "needs_background": "light"
     },
     "output_type": "display_data"
    },
    {
     "data": {
      "image/png": "[encoded data removed]",
      "text/plain": [
       "<Figure size 432x288 with 1 Axes>"
      ]
     },
     "metadata": {
      "needs_background": "light"
     },
     "output_type": "display_data"
    }
   ],
   "source": [
    "import matplotlib.pyplot as plt\n",
    "%matplotlib inline \n",
    "plt.plot(history.history[\"accuracy\"])\n",
    "plt.plot(history.history[\"val_accuracy\"])\n",
    "plt.title(\"Modelaccuracy\")\n",
    "plt.ylabel(\"Accuracy\")\n",
    "plt.xlabel(\"Epoch\")\n",
    "plt.legend([\"Train\",\"Test\"],loc=\"upper left\")\n",
    "plt.show()\n",
    "\n",
    "plt.plot(history.history[\"loss\"])\n",
    "plt.plot(history.history[\"val_loss\"])\n",
    "plt.title(\"Model loss\")\n",
    "plt.ylabel(\"loss\")\n",
    "plt.xlabel(\"Epoch\")\n",
    "plt.legend([\"Train\",\"Test\"],loc=\"upper left\")\n",
    "plt.show()"
   ]
  },
  {
   "cell_type": "markdown",
   "id": "84442a87",
   "metadata": {
    "papermill": {
     "duration": 0.012872,
     "end_time": "2022-08-29T15:47:45.675264",
     "exception": false,
     "start_time": "2022-08-29T15:47:45.662392",
     "status": "completed"
    },
    "tags": []
   },
   "source": [
    "## Submission"
   ]
  },
  {
   "cell_type": "code",
   "execution_count": 16,
   "id": "f86167a4",
   "metadata": {
    "execution": {
     "iopub.execute_input": "2022-08-29T15:47:45.702059Z",
     "iopub.status.busy": "2022-08-29T15:47:45.701708Z",
     "iopub.status.idle": "2022-08-29T15:47:45.740731Z",
     "shell.execute_reply": "2022-08-29T15:47:45.739712Z"
    },
    "papermill": {
     "duration": 0.0554,
     "end_time": "2022-08-29T15:47:45.743300",
     "exception": false,
     "start_time": "2022-08-29T15:47:45.687900",
     "status": "completed"
    },
    "tags": []
   },
   "outputs": [],
   "source": [
    "X_test_ = test.values.reshape((-1,28,28,1)) / 255.\n",
    "X_test_ = np.asarray(X_test_).astype(np.float32)"
   ]
  },
  {
   "cell_type": "code",
   "execution_count": 17,
   "id": "780c3165",
   "metadata": {
    "execution": {
     "iopub.execute_input": "2022-08-29T15:47:45.771060Z",
     "iopub.status.busy": "2022-08-29T15:47:45.770671Z",
     "iopub.status.idle": "2022-08-29T15:47:46.604726Z",
     "shell.execute_reply": "2022-08-29T15:47:46.603710Z"
    },
    "papermill": {
     "duration": 0.850445,
     "end_time": "2022-08-29T15:47:46.606972",
     "exception": false,
     "start_time": "2022-08-29T15:47:45.756527",
     "status": "completed"
    },
    "tags": []
   },
   "outputs": [
    {
     "data": {
      "text/plain": [
       "array(['A', 'A', 'A', ..., 'D', 'J', 'J'], dtype=object)"
      ]
     },
     "execution_count": 17,
     "metadata": {},
     "output_type": "execute_result"
    }
   ],
   "source": [
    "pred = model.predict(X_test_)\n",
    "pred = np.argmax(pred,axis = 1)\n",
    "pred = le.inverse_transform(pred)\n",
    "pred"
   ]
  },
  {
   "cell_type": "code",
   "execution_count": 18,
   "id": "5e0aae2b",
   "metadata": {
    "execution": {
     "iopub.execute_input": "2022-08-29T15:47:46.634248Z",
     "iopub.status.busy": "2022-08-29T15:47:46.633945Z",
     "iopub.status.idle": "2022-08-29T15:47:46.658370Z",
     "shell.execute_reply": "2022-08-29T15:47:46.656856Z"
    },
    "papermill": {
     "duration": 0.040428,
     "end_time": "2022-08-29T15:47:46.660473",
     "exception": false,
     "start_time": "2022-08-29T15:47:46.620045",
     "status": "completed"
    },
    "tags": []
   },
   "outputs": [
    {
     "data": {
      "text/html": [
       "<div>\n",
       "<style scoped>\n",
       "    .dataframe tbody tr th:only-of-type {\n",
       "        vertical-align: middle;\n",
       "    }\n",
       "\n",
       "    .dataframe tbody tr th {\n",
       "        vertical-align: top;\n",
       "    }\n",
       "\n",
       "    .dataframe thead th {\n",
       "        text-align: right;\n",
       "    }\n",
       "</style>\n",
       "<table border=\"1\" class=\"dataframe\">\n",
       "  <thead>\n",
       "    <tr style=\"text-align: right;\">\n",
       "      <th></th>\n",
       "      <th>Id</th>\n",
       "      <th>target</th>\n",
       "    </tr>\n",
       "  </thead>\n",
       "  <tbody>\n",
       "    <tr>\n",
       "      <th>0</th>\n",
       "      <td>0</td>\n",
       "      <td>A</td>\n",
       "    </tr>\n",
       "    <tr>\n",
       "      <th>1</th>\n",
       "      <td>1</td>\n",
       "      <td>A</td>\n",
       "    </tr>\n",
       "    <tr>\n",
       "      <th>2</th>\n",
       "      <td>2</td>\n",
       "      <td>A</td>\n",
       "    </tr>\n",
       "    <tr>\n",
       "      <th>3</th>\n",
       "      <td>3</td>\n",
       "      <td>G</td>\n",
       "    </tr>\n",
       "    <tr>\n",
       "      <th>4</th>\n",
       "      <td>4</td>\n",
       "      <td>B</td>\n",
       "    </tr>\n",
       "  </tbody>\n",
       "</table>\n",
       "</div>"
      ],
      "text/plain": [
       "   Id target\n",
       "0   0      A\n",
       "1   1      A\n",
       "2   2      A\n",
       "3   3      G\n",
       "4   4      B"
      ]
     },
     "execution_count": 18,
     "metadata": {},
     "output_type": "execute_result"
    }
   ],
   "source": [
    "submission = pd.read_csv('./Random_Sample_Submission.csv')\n",
    "submission['target'] = pred\n",
    "submission.to_csv('submission.csv', index=False)\n",
    "submission.head()"
   ]
  },
  {
   "cell_type": "code",
   "execution_count": null,
   "id": "7ae7ed07",
   "metadata": {
    "papermill": {
     "duration": 0.012796,
     "end_time": "2022-08-29T15:47:46.686221",
     "exception": false,
     "start_time": "2022-08-29T15:47:46.673425",
     "status": "completed"
    },
    "tags": []
   },
   "outputs": [],
   "source": []
  }
 ],
 "metadata": {
  "kernelspec": {
   "display_name": "Python 3 (ipykernel)",
   "language": "python",
   "name": "python3"
  },
  "language_info": {
   "codemirror_mode": {
    "name": "ipython",
    "version": 3
   },
   "file_extension": ".py",
   "mimetype": "text/x-python",
   "name": "python",
   "nbconvert_exporter": "python",
   "pygments_lexer": "ipython3",
   "version": "3.9.12"
  },
  "papermill": {
   "default_parameters": {},
   "duration": 70.33028,
   "end_time": "2022-08-29T15:47:50.154062",
   "environment_variables": {},
   "exception": null,
   "input_path": "__notebook__.ipynb",
   "output_path": "__notebook__.ipynb",
   "parameters": {},
   "start_time": "2022-08-29T15:46:39.823782",
   "version": "2.3.4"
  },
  "toc": {
   "base_numbering": 1,
   "nav_menu": {},
   "number_sections": true,
   "sideBar": true,
   "skip_h1_title": false,
   "title_cell": "Table of Contents",
   "title_sidebar": "Contents",
   "toc_cell": false,
   "toc_position": {},
   "toc_section_display": true,
   "toc_window_display": false
  },
  "varInspector": {
   "cols": {
    "lenName": 16,
    "lenType": 16,
    "lenVar": 40
   },
   "kernels_config": {
    "python": {
     "delete_cmd_postfix": "",
     "delete_cmd_prefix": "del ",
     "library": "var_list.py",
     "varRefreshCmd": "print(var_dic_list())"
    },
    "r": {
     "delete_cmd_postfix": ") ",
     "delete_cmd_prefix": "rm(",
     "library": "var_list.r",
     "varRefreshCmd": "cat(var_dic_list()) "
    }
   },
   "types_to_exclude": [
    "module",
    "function",
    "builtin_function_or_method",
    "instance",
    "_Feature"
   ],
   "window_display": false
  }
 },
 "nbformat": 4,
 "nbformat_minor": 5
}
