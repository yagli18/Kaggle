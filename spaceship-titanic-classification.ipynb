{
 "cells": [
  {
   "cell_type": "code",
   "execution_count": 1,
   "id": "0924630f",
   "metadata": {
    "_cell_guid": "6a72b159-8ac5-4848-9e65-8adae8f7cd4e",
    "_uuid": "08628884-ceb5-43c7-a276-79f651a8e897",
    "execution": {
     "iopub.execute_input": "2022-08-22T13:42:23.004798Z",
     "iopub.status.busy": "2022-08-22T13:42:23.003824Z",
     "iopub.status.idle": "2022-08-22T13:42:25.401433Z",
     "shell.execute_reply": "2022-08-22T13:42:25.400419Z"
    },
    "papermill": {
     "duration": 2.411446,
     "end_time": "2022-08-22T13:42:25.404238",
     "exception": false,
     "start_time": "2022-08-22T13:42:22.992792",
     "status": "completed"
    },
    "tags": []
   },
   "outputs": [
    {
     "data": {
      "text/html": [
       "<style type='text/css'>\n",
       ".datatable table.frame { margin-bottom: 0; }\n",
       ".datatable table.frame thead { border-bottom: none; }\n",
       ".datatable table.frame tr.coltypes td {  color: #FFFFFF;  line-height: 6px;  padding: 0 0.5em;}\n",
       ".datatable .bool    { background: #DDDD99; }\n",
       ".datatable .object  { background: #565656; }\n",
       ".datatable .int     { background: #5D9E5D; }\n",
       ".datatable .float   { background: #4040CC; }\n",
       ".datatable .str     { background: #CC4040; }\n",
       ".datatable .time    { background: #40CC40; }\n",
       ".datatable .row_index {  background: var(--jp-border-color3);  border-right: 1px solid var(--jp-border-color0);  color: var(--jp-ui-font-color3);  font-size: 9px;}\n",
       ".datatable .frame tbody td { text-align: left; }\n",
       ".datatable .frame tr.coltypes .row_index {  background: var(--jp-border-color0);}\n",
       ".datatable th:nth-child(2) { padding-left: 12px; }\n",
       ".datatable .hellipsis {  color: var(--jp-cell-editor-border-color);}\n",
       ".datatable .vellipsis {  background: var(--jp-layout-color0);  color: var(--jp-cell-editor-border-color);}\n",
       ".datatable .na {  color: var(--jp-cell-editor-border-color);  font-size: 80%;}\n",
       ".datatable .sp {  opacity: 0.25;}\n",
       ".datatable .footer { font-size: 9px; }\n",
       ".datatable .frame_dimensions {  background: var(--jp-border-color3);  border-top: 1px solid var(--jp-border-color0);  color: var(--jp-ui-font-color3);  display: inline-block;  opacity: 0.6;  padding: 1px 10px 1px 5px;}\n",
       "</style>\n"
      ],
      "text/plain": [
       "<IPython.core.display.HTML object>"
      ]
     },
     "metadata": {},
     "output_type": "display_data"
    }
   ],
   "source": [
    "import pandas as pd\n",
    "import numpy as np\n",
    "import matplotlib.pyplot as plt\n",
    "%matplotlib inline\n",
    "import seaborn as sns\n",
    "import warnings\n",
    "warnings.filterwarnings(\"ignore\")\n",
    "pd.set_option(\"display.max_columns\",100)\n",
    "\n",
    "#Classification\n",
    "from sklearn.naive_bayes import MultinomialNB, GaussianNB, BernoulliNB\n",
    "from sklearn.neighbors import KNeighborsClassifier\n",
    "from sklearn.svm import SVC\n",
    "from sklearn.tree import DecisionTreeClassifier\n",
    "from sklearn.linear_model import LogisticRegression\n",
    "from sklearn.ensemble import GradientBoostingClassifier, AdaBoostClassifier, RandomForestClassifier\n",
    "from xgboost import XGBClassifier\n",
    "from lightgbm import LGBMClassifier\n",
    "from sklearn.metrics import classification_report,accuracy_score,confusion_matrix,precision_score,recall_score,f1_score\n",
    "\n",
    "from sklearn.model_selection import train_test_split\n",
    "from sklearn.metrics import mean_squared_error,r2_score,mean_absolute_error\n",
    "from sklearn.preprocessing import normalize,scale"
   ]
  },
  {
   "cell_type": "code",
   "execution_count": 2,
   "id": "fd08c362",
   "metadata": {
    "_cell_guid": "fc645328-3935-492e-b2a2-37e10f0917f5",
    "_uuid": "411d129a-3927-4209-ac5a-53997117835c",
    "execution": {
     "iopub.execute_input": "2022-08-22T13:42:25.422193Z",
     "iopub.status.busy": "2022-08-22T13:42:25.421807Z",
     "iopub.status.idle": "2022-08-22T13:42:25.434198Z",
     "shell.execute_reply": "2022-08-22T13:42:25.433237Z"
    },
    "jupyter": {
     "outputs_hidden": false
    },
    "papermill": {
     "duration": 0.02399,
     "end_time": "2022-08-22T13:42:25.436607",
     "exception": false,
     "start_time": "2022-08-22T13:42:25.412617",
     "status": "completed"
    },
    "tags": []
   },
   "outputs": [],
   "source": [
    "def classification_(X,y): \n",
    "    lgbc=LGBMClassifier()\n",
    "    xgbc=XGBClassifier()\n",
    "    g=GaussianNB()\n",
    "    b=BernoulliNB()\n",
    "    k=KNeighborsClassifier()\n",
    "    svc=SVC()\n",
    "    d=DecisionTreeClassifier()\n",
    "    log=LogisticRegression()\n",
    "    gbc=GradientBoostingClassifier()\n",
    "    mn=MultinomialNB()\n",
    "    rf=RandomForestClassifier()\n",
    "    ab=AdaBoostClassifier()\n",
    "    \n",
    "    algos=[lgbc, xgbc,g,b,k,svc,d,log,gbc,mn,rf,ab]\n",
    "    algos_name=['LGBMClassifier','XGBClassifier','Gaussian','Bernoulli','KNeighbors','SVC','DecisionTree','LogisticReg','GradientBoosting','MultinominalNB','RandomForest','AdaBoost']\n",
    "\n",
    "    X_train,X_test,y_train,y_test=train_test_split(X,y,test_size=.2,random_state=101)\n",
    "\n",
    "    accuracy = []\n",
    "    precision = []\n",
    "    recall = []\n",
    "    f1 = []\n",
    "   \n",
    "    result=pd.DataFrame(columns=['AccuracyScore','PrecisionScore','RecallScore','f1_Score'],index=algos_name)\n",
    "    \n",
    "    for i in algos:\n",
    "        predict=i.fit(X_train,y_train).predict(X_test)\n",
    "        accuracy.append(accuracy_score(y_test,predict))\n",
    "        precision.append(precision_score(y_test,predict))\n",
    "        recall.append(recall_score(y_test,predict))\n",
    "        f1.append(f1_score(y_test,predict))\n",
    "      \n",
    "    result.AccuracyScore=accuracy\n",
    "    result.PrecisionScore=precision\n",
    "    result.RecallScore=recall\n",
    "    result.f1_Score=f1\n",
    "    \n",
    "    return result.sort_values('AccuracyScore',ascending=False)"
   ]
  },
  {
   "cell_type": "markdown",
   "id": "90882589",
   "metadata": {
    "papermill": {
     "duration": 0.007539,
     "end_time": "2022-08-22T13:42:25.452178",
     "exception": false,
     "start_time": "2022-08-22T13:42:25.444639",
     "status": "completed"
    },
    "tags": []
   },
   "source": [
    "## Import Data"
   ]
  },
  {
   "cell_type": "code",
   "execution_count": 3,
   "id": "6921fe7b",
   "metadata": {
    "_cell_guid": "60240147-594c-4b75-bd4a-dce7eabfde8e",
    "_uuid": "279d0cf4-6258-4508-832d-335fa514b70f",
    "execution": {
     "iopub.execute_input": "2022-08-22T13:42:25.470116Z",
     "iopub.status.busy": "2022-08-22T13:42:25.469381Z",
     "iopub.status.idle": "2022-08-22T13:42:25.560135Z",
     "shell.execute_reply": "2022-08-22T13:42:25.558934Z"
    },
    "jupyter": {
     "outputs_hidden": false
    },
    "papermill": {
     "duration": 0.102682,
     "end_time": "2022-08-22T13:42:25.562826",
     "exception": false,
     "start_time": "2022-08-22T13:42:25.460144",
     "status": "completed"
    },
    "tags": []
   },
   "outputs": [],
   "source": [
    "df_train = pd.read_csv('../input/spaceship-titanic/train.csv')\n",
    "train_labels = df_train.Transported\n",
    "df_test = pd.read_csv('../input/spaceship-titanic/test.csv')\n",
    "submission = pd.read_csv(\"../input/spaceship-titanic/sample_submission.csv\")"
   ]
  },
  {
   "cell_type": "code",
   "execution_count": 4,
   "id": "232f7c97",
   "metadata": {
    "_cell_guid": "7b146707-348e-4898-a53d-9c9d515e803f",
    "_uuid": "13d234ad-731a-4a2d-a5a9-60f6f86ebf96",
    "execution": {
     "iopub.execute_input": "2022-08-22T13:42:25.581067Z",
     "iopub.status.busy": "2022-08-22T13:42:25.580296Z",
     "iopub.status.idle": "2022-08-22T13:42:25.605245Z",
     "shell.execute_reply": "2022-08-22T13:42:25.604425Z"
    },
    "jupyter": {
     "outputs_hidden": false
    },
    "papermill": {
     "duration": 0.037841,
     "end_time": "2022-08-22T13:42:25.608898",
     "exception": false,
     "start_time": "2022-08-22T13:42:25.571057",
     "status": "completed"
    },
    "tags": []
   },
   "outputs": [
    {
     "name": "stdout",
     "output_type": "stream",
     "text": [
      "(8693, 14)\n"
     ]
    },
    {
     "data": {
      "text/html": [
       "<div>\n",
       "<style scoped>\n",
       "    .dataframe tbody tr th:only-of-type {\n",
       "        vertical-align: middle;\n",
       "    }\n",
       "\n",
       "    .dataframe tbody tr th {\n",
       "        vertical-align: top;\n",
       "    }\n",
       "\n",
       "    .dataframe thead th {\n",
       "        text-align: right;\n",
       "    }\n",
       "</style>\n",
       "<table border=\"1\" class=\"dataframe\">\n",
       "  <thead>\n",
       "    <tr style=\"text-align: right;\">\n",
       "      <th></th>\n",
       "      <th>PassengerId</th>\n",
       "      <th>HomePlanet</th>\n",
       "      <th>CryoSleep</th>\n",
       "      <th>Cabin</th>\n",
       "      <th>Destination</th>\n",
       "      <th>Age</th>\n",
       "      <th>VIP</th>\n",
       "      <th>RoomService</th>\n",
       "      <th>FoodCourt</th>\n",
       "      <th>ShoppingMall</th>\n",
       "      <th>Spa</th>\n",
       "      <th>VRDeck</th>\n",
       "      <th>Name</th>\n",
       "      <th>Transported</th>\n",
       "    </tr>\n",
       "  </thead>\n",
       "  <tbody>\n",
       "    <tr>\n",
       "      <th>0</th>\n",
       "      <td>0001_01</td>\n",
       "      <td>Europa</td>\n",
       "      <td>False</td>\n",
       "      <td>B/0/P</td>\n",
       "      <td>TRAPPIST-1e</td>\n",
       "      <td>39.0</td>\n",
       "      <td>False</td>\n",
       "      <td>0.0</td>\n",
       "      <td>0.0</td>\n",
       "      <td>0.0</td>\n",
       "      <td>0.0</td>\n",
       "      <td>0.0</td>\n",
       "      <td>Maham Ofracculy</td>\n",
       "      <td>False</td>\n",
       "    </tr>\n",
       "    <tr>\n",
       "      <th>1</th>\n",
       "      <td>0002_01</td>\n",
       "      <td>Earth</td>\n",
       "      <td>False</td>\n",
       "      <td>F/0/S</td>\n",
       "      <td>TRAPPIST-1e</td>\n",
       "      <td>24.0</td>\n",
       "      <td>False</td>\n",
       "      <td>109.0</td>\n",
       "      <td>9.0</td>\n",
       "      <td>25.0</td>\n",
       "      <td>549.0</td>\n",
       "      <td>44.0</td>\n",
       "      <td>Juanna Vines</td>\n",
       "      <td>True</td>\n",
       "    </tr>\n",
       "    <tr>\n",
       "      <th>2</th>\n",
       "      <td>0003_01</td>\n",
       "      <td>Europa</td>\n",
       "      <td>False</td>\n",
       "      <td>A/0/S</td>\n",
       "      <td>TRAPPIST-1e</td>\n",
       "      <td>58.0</td>\n",
       "      <td>True</td>\n",
       "      <td>43.0</td>\n",
       "      <td>3576.0</td>\n",
       "      <td>0.0</td>\n",
       "      <td>6715.0</td>\n",
       "      <td>49.0</td>\n",
       "      <td>Altark Susent</td>\n",
       "      <td>False</td>\n",
       "    </tr>\n",
       "    <tr>\n",
       "      <th>3</th>\n",
       "      <td>0003_02</td>\n",
       "      <td>Europa</td>\n",
       "      <td>False</td>\n",
       "      <td>A/0/S</td>\n",
       "      <td>TRAPPIST-1e</td>\n",
       "      <td>33.0</td>\n",
       "      <td>False</td>\n",
       "      <td>0.0</td>\n",
       "      <td>1283.0</td>\n",
       "      <td>371.0</td>\n",
       "      <td>3329.0</td>\n",
       "      <td>193.0</td>\n",
       "      <td>Solam Susent</td>\n",
       "      <td>False</td>\n",
       "    </tr>\n",
       "    <tr>\n",
       "      <th>4</th>\n",
       "      <td>0004_01</td>\n",
       "      <td>Earth</td>\n",
       "      <td>False</td>\n",
       "      <td>F/1/S</td>\n",
       "      <td>TRAPPIST-1e</td>\n",
       "      <td>16.0</td>\n",
       "      <td>False</td>\n",
       "      <td>303.0</td>\n",
       "      <td>70.0</td>\n",
       "      <td>151.0</td>\n",
       "      <td>565.0</td>\n",
       "      <td>2.0</td>\n",
       "      <td>Willy Santantines</td>\n",
       "      <td>True</td>\n",
       "    </tr>\n",
       "  </tbody>\n",
       "</table>\n",
       "</div>"
      ],
      "text/plain": [
       "  PassengerId HomePlanet CryoSleep  Cabin  Destination   Age    VIP  \\\n",
       "0     0001_01     Europa     False  B/0/P  TRAPPIST-1e  39.0  False   \n",
       "1     0002_01      Earth     False  F/0/S  TRAPPIST-1e  24.0  False   \n",
       "2     0003_01     Europa     False  A/0/S  TRAPPIST-1e  58.0   True   \n",
       "3     0003_02     Europa     False  A/0/S  TRAPPIST-1e  33.0  False   \n",
       "4     0004_01      Earth     False  F/1/S  TRAPPIST-1e  16.0  False   \n",
       "\n",
       "   RoomService  FoodCourt  ShoppingMall     Spa  VRDeck               Name  \\\n",
       "0          0.0        0.0           0.0     0.0     0.0    Maham Ofracculy   \n",
       "1        109.0        9.0          25.0   549.0    44.0       Juanna Vines   \n",
       "2         43.0     3576.0           0.0  6715.0    49.0      Altark Susent   \n",
       "3          0.0     1283.0         371.0  3329.0   193.0       Solam Susent   \n",
       "4        303.0       70.0         151.0   565.0     2.0  Willy Santantines   \n",
       "\n",
       "   Transported  \n",
       "0        False  \n",
       "1         True  \n",
       "2        False  \n",
       "3        False  \n",
       "4         True  "
      ]
     },
     "execution_count": 4,
     "metadata": {},
     "output_type": "execute_result"
    }
   ],
   "source": [
    "print(df_train.shape)\n",
    "df_train.head()"
   ]
  },
  {
   "cell_type": "code",
   "execution_count": 5,
   "id": "40570799",
   "metadata": {
    "_cell_guid": "662ab13c-433f-4fe9-9efb-caec0fd5f4ab",
    "_uuid": "b2134221-e6f8-40c0-9b52-f0d74f92f13f",
    "execution": {
     "iopub.execute_input": "2022-08-22T13:42:25.628053Z",
     "iopub.status.busy": "2022-08-22T13:42:25.627030Z",
     "iopub.status.idle": "2022-08-22T13:42:25.649701Z",
     "shell.execute_reply": "2022-08-22T13:42:25.648206Z"
    },
    "papermill": {
     "duration": 0.035281,
     "end_time": "2022-08-22T13:42:25.652743",
     "exception": false,
     "start_time": "2022-08-22T13:42:25.617462",
     "status": "completed"
    },
    "scrolled": true,
    "tags": []
   },
   "outputs": [
    {
     "name": "stdout",
     "output_type": "stream",
     "text": [
      "(4277, 13)\n"
     ]
    },
    {
     "data": {
      "text/html": [
       "<div>\n",
       "<style scoped>\n",
       "    .dataframe tbody tr th:only-of-type {\n",
       "        vertical-align: middle;\n",
       "    }\n",
       "\n",
       "    .dataframe tbody tr th {\n",
       "        vertical-align: top;\n",
       "    }\n",
       "\n",
       "    .dataframe thead th {\n",
       "        text-align: right;\n",
       "    }\n",
       "</style>\n",
       "<table border=\"1\" class=\"dataframe\">\n",
       "  <thead>\n",
       "    <tr style=\"text-align: right;\">\n",
       "      <th></th>\n",
       "      <th>PassengerId</th>\n",
       "      <th>HomePlanet</th>\n",
       "      <th>CryoSleep</th>\n",
       "      <th>Cabin</th>\n",
       "      <th>Destination</th>\n",
       "      <th>Age</th>\n",
       "      <th>VIP</th>\n",
       "      <th>RoomService</th>\n",
       "      <th>FoodCourt</th>\n",
       "      <th>ShoppingMall</th>\n",
       "      <th>Spa</th>\n",
       "      <th>VRDeck</th>\n",
       "      <th>Name</th>\n",
       "    </tr>\n",
       "  </thead>\n",
       "  <tbody>\n",
       "    <tr>\n",
       "      <th>0</th>\n",
       "      <td>0013_01</td>\n",
       "      <td>Earth</td>\n",
       "      <td>True</td>\n",
       "      <td>G/3/S</td>\n",
       "      <td>TRAPPIST-1e</td>\n",
       "      <td>27.0</td>\n",
       "      <td>False</td>\n",
       "      <td>0.0</td>\n",
       "      <td>0.0</td>\n",
       "      <td>0.0</td>\n",
       "      <td>0.0</td>\n",
       "      <td>0.0</td>\n",
       "      <td>Nelly Carsoning</td>\n",
       "    </tr>\n",
       "    <tr>\n",
       "      <th>1</th>\n",
       "      <td>0018_01</td>\n",
       "      <td>Earth</td>\n",
       "      <td>False</td>\n",
       "      <td>F/4/S</td>\n",
       "      <td>TRAPPIST-1e</td>\n",
       "      <td>19.0</td>\n",
       "      <td>False</td>\n",
       "      <td>0.0</td>\n",
       "      <td>9.0</td>\n",
       "      <td>0.0</td>\n",
       "      <td>2823.0</td>\n",
       "      <td>0.0</td>\n",
       "      <td>Lerome Peckers</td>\n",
       "    </tr>\n",
       "    <tr>\n",
       "      <th>2</th>\n",
       "      <td>0019_01</td>\n",
       "      <td>Europa</td>\n",
       "      <td>True</td>\n",
       "      <td>C/0/S</td>\n",
       "      <td>55 Cancri e</td>\n",
       "      <td>31.0</td>\n",
       "      <td>False</td>\n",
       "      <td>0.0</td>\n",
       "      <td>0.0</td>\n",
       "      <td>0.0</td>\n",
       "      <td>0.0</td>\n",
       "      <td>0.0</td>\n",
       "      <td>Sabih Unhearfus</td>\n",
       "    </tr>\n",
       "    <tr>\n",
       "      <th>3</th>\n",
       "      <td>0021_01</td>\n",
       "      <td>Europa</td>\n",
       "      <td>False</td>\n",
       "      <td>C/1/S</td>\n",
       "      <td>TRAPPIST-1e</td>\n",
       "      <td>38.0</td>\n",
       "      <td>False</td>\n",
       "      <td>0.0</td>\n",
       "      <td>6652.0</td>\n",
       "      <td>0.0</td>\n",
       "      <td>181.0</td>\n",
       "      <td>585.0</td>\n",
       "      <td>Meratz Caltilter</td>\n",
       "    </tr>\n",
       "    <tr>\n",
       "      <th>4</th>\n",
       "      <td>0023_01</td>\n",
       "      <td>Earth</td>\n",
       "      <td>False</td>\n",
       "      <td>F/5/S</td>\n",
       "      <td>TRAPPIST-1e</td>\n",
       "      <td>20.0</td>\n",
       "      <td>False</td>\n",
       "      <td>10.0</td>\n",
       "      <td>0.0</td>\n",
       "      <td>635.0</td>\n",
       "      <td>0.0</td>\n",
       "      <td>0.0</td>\n",
       "      <td>Brence Harperez</td>\n",
       "    </tr>\n",
       "  </tbody>\n",
       "</table>\n",
       "</div>"
      ],
      "text/plain": [
       "  PassengerId HomePlanet CryoSleep  Cabin  Destination   Age    VIP  \\\n",
       "0     0013_01      Earth      True  G/3/S  TRAPPIST-1e  27.0  False   \n",
       "1     0018_01      Earth     False  F/4/S  TRAPPIST-1e  19.0  False   \n",
       "2     0019_01     Europa      True  C/0/S  55 Cancri e  31.0  False   \n",
       "3     0021_01     Europa     False  C/1/S  TRAPPIST-1e  38.0  False   \n",
       "4     0023_01      Earth     False  F/5/S  TRAPPIST-1e  20.0  False   \n",
       "\n",
       "   RoomService  FoodCourt  ShoppingMall     Spa  VRDeck              Name  \n",
       "0          0.0        0.0           0.0     0.0     0.0   Nelly Carsoning  \n",
       "1          0.0        9.0           0.0  2823.0     0.0    Lerome Peckers  \n",
       "2          0.0        0.0           0.0     0.0     0.0   Sabih Unhearfus  \n",
       "3          0.0     6652.0           0.0   181.0   585.0  Meratz Caltilter  \n",
       "4         10.0        0.0         635.0     0.0     0.0   Brence Harperez  "
      ]
     },
     "execution_count": 5,
     "metadata": {},
     "output_type": "execute_result"
    }
   ],
   "source": [
    "print(df_test.shape)\n",
    "df_test.head()"
   ]
  },
  {
   "cell_type": "code",
   "execution_count": 6,
   "id": "52052bd4",
   "metadata": {
    "execution": {
     "iopub.execute_input": "2022-08-22T13:42:25.672568Z",
     "iopub.status.busy": "2022-08-22T13:42:25.671527Z",
     "iopub.status.idle": "2022-08-22T13:42:25.713728Z",
     "shell.execute_reply": "2022-08-22T13:42:25.712468Z"
    },
    "papermill": {
     "duration": 0.054662,
     "end_time": "2022-08-22T13:42:25.716271",
     "exception": false,
     "start_time": "2022-08-22T13:42:25.661609",
     "status": "completed"
    },
    "tags": []
   },
   "outputs": [
    {
     "name": "stdout",
     "output_type": "stream",
     "text": [
      "(12970, 13)\n"
     ]
    },
    {
     "data": {
      "text/html": [
       "<div>\n",
       "<style scoped>\n",
       "    .dataframe tbody tr th:only-of-type {\n",
       "        vertical-align: middle;\n",
       "    }\n",
       "\n",
       "    .dataframe tbody tr th {\n",
       "        vertical-align: top;\n",
       "    }\n",
       "\n",
       "    .dataframe thead th {\n",
       "        text-align: right;\n",
       "    }\n",
       "</style>\n",
       "<table border=\"1\" class=\"dataframe\">\n",
       "  <thead>\n",
       "    <tr style=\"text-align: right;\">\n",
       "      <th></th>\n",
       "      <th>PassengerId</th>\n",
       "      <th>HomePlanet</th>\n",
       "      <th>CryoSleep</th>\n",
       "      <th>Cabin</th>\n",
       "      <th>Destination</th>\n",
       "      <th>Age</th>\n",
       "      <th>VIP</th>\n",
       "      <th>RoomService</th>\n",
       "      <th>FoodCourt</th>\n",
       "      <th>ShoppingMall</th>\n",
       "      <th>Spa</th>\n",
       "      <th>VRDeck</th>\n",
       "      <th>Name</th>\n",
       "    </tr>\n",
       "  </thead>\n",
       "  <tbody>\n",
       "    <tr>\n",
       "      <th>0</th>\n",
       "      <td>0001_01</td>\n",
       "      <td>Europa</td>\n",
       "      <td>False</td>\n",
       "      <td>B/0/P</td>\n",
       "      <td>TRAPPIST-1e</td>\n",
       "      <td>39.0</td>\n",
       "      <td>False</td>\n",
       "      <td>0.0</td>\n",
       "      <td>0.0</td>\n",
       "      <td>0.0</td>\n",
       "      <td>0.0</td>\n",
       "      <td>0.0</td>\n",
       "      <td>Maham Ofracculy</td>\n",
       "    </tr>\n",
       "    <tr>\n",
       "      <th>1</th>\n",
       "      <td>0002_01</td>\n",
       "      <td>Earth</td>\n",
       "      <td>False</td>\n",
       "      <td>F/0/S</td>\n",
       "      <td>TRAPPIST-1e</td>\n",
       "      <td>24.0</td>\n",
       "      <td>False</td>\n",
       "      <td>109.0</td>\n",
       "      <td>9.0</td>\n",
       "      <td>25.0</td>\n",
       "      <td>549.0</td>\n",
       "      <td>44.0</td>\n",
       "      <td>Juanna Vines</td>\n",
       "    </tr>\n",
       "    <tr>\n",
       "      <th>2</th>\n",
       "      <td>0003_01</td>\n",
       "      <td>Europa</td>\n",
       "      <td>False</td>\n",
       "      <td>A/0/S</td>\n",
       "      <td>TRAPPIST-1e</td>\n",
       "      <td>58.0</td>\n",
       "      <td>True</td>\n",
       "      <td>43.0</td>\n",
       "      <td>3576.0</td>\n",
       "      <td>0.0</td>\n",
       "      <td>6715.0</td>\n",
       "      <td>49.0</td>\n",
       "      <td>Altark Susent</td>\n",
       "    </tr>\n",
       "    <tr>\n",
       "      <th>3</th>\n",
       "      <td>0003_02</td>\n",
       "      <td>Europa</td>\n",
       "      <td>False</td>\n",
       "      <td>A/0/S</td>\n",
       "      <td>TRAPPIST-1e</td>\n",
       "      <td>33.0</td>\n",
       "      <td>False</td>\n",
       "      <td>0.0</td>\n",
       "      <td>1283.0</td>\n",
       "      <td>371.0</td>\n",
       "      <td>3329.0</td>\n",
       "      <td>193.0</td>\n",
       "      <td>Solam Susent</td>\n",
       "    </tr>\n",
       "    <tr>\n",
       "      <th>4</th>\n",
       "      <td>0004_01</td>\n",
       "      <td>Earth</td>\n",
       "      <td>False</td>\n",
       "      <td>F/1/S</td>\n",
       "      <td>TRAPPIST-1e</td>\n",
       "      <td>16.0</td>\n",
       "      <td>False</td>\n",
       "      <td>303.0</td>\n",
       "      <td>70.0</td>\n",
       "      <td>151.0</td>\n",
       "      <td>565.0</td>\n",
       "      <td>2.0</td>\n",
       "      <td>Willy Santantines</td>\n",
       "    </tr>\n",
       "  </tbody>\n",
       "</table>\n",
       "</div>"
      ],
      "text/plain": [
       "  PassengerId HomePlanet CryoSleep  Cabin  Destination   Age    VIP  \\\n",
       "0     0001_01     Europa     False  B/0/P  TRAPPIST-1e  39.0  False   \n",
       "1     0002_01      Earth     False  F/0/S  TRAPPIST-1e  24.0  False   \n",
       "2     0003_01     Europa     False  A/0/S  TRAPPIST-1e  58.0   True   \n",
       "3     0003_02     Europa     False  A/0/S  TRAPPIST-1e  33.0  False   \n",
       "4     0004_01      Earth     False  F/1/S  TRAPPIST-1e  16.0  False   \n",
       "\n",
       "   RoomService  FoodCourt  ShoppingMall     Spa  VRDeck               Name  \n",
       "0          0.0        0.0           0.0     0.0     0.0    Maham Ofracculy  \n",
       "1        109.0        9.0          25.0   549.0    44.0       Juanna Vines  \n",
       "2         43.0     3576.0           0.0  6715.0    49.0      Altark Susent  \n",
       "3          0.0     1283.0         371.0  3329.0   193.0       Solam Susent  \n",
       "4        303.0       70.0         151.0   565.0     2.0  Willy Santantines  "
      ]
     },
     "execution_count": 6,
     "metadata": {},
     "output_type": "execute_result"
    }
   ],
   "source": [
    "df = df_train.append(df_test)\n",
    "df.drop(columns='Transported', inplace=True)\n",
    "print(df.shape)\n",
    "df.head()"
   ]
  },
  {
   "cell_type": "markdown",
   "id": "60b7d0dd",
   "metadata": {
    "papermill": {
     "duration": 0.008598,
     "end_time": "2022-08-22T13:42:25.734922",
     "exception": false,
     "start_time": "2022-08-22T13:42:25.726324",
     "status": "completed"
    },
    "tags": []
   },
   "source": [
    "## EDA"
   ]
  },
  {
   "cell_type": "code",
   "execution_count": 7,
   "id": "de371a68",
   "metadata": {
    "_cell_guid": "19537744-9e01-439b-8a6b-78648c4bed2b",
    "_uuid": "11cf2c67-2f29-43c5-ac69-3afd61bebaa5",
    "execution": {
     "iopub.execute_input": "2022-08-22T13:42:25.755041Z",
     "iopub.status.busy": "2022-08-22T13:42:25.754231Z",
     "iopub.status.idle": "2022-08-22T13:42:25.777631Z",
     "shell.execute_reply": "2022-08-22T13:42:25.776649Z"
    },
    "jupyter": {
     "outputs_hidden": false
    },
    "papermill": {
     "duration": 0.035901,
     "end_time": "2022-08-22T13:42:25.779931",
     "exception": false,
     "start_time": "2022-08-22T13:42:25.744030",
     "status": "completed"
    },
    "tags": []
   },
   "outputs": [
    {
     "data": {
      "text/plain": [
       "PassengerId     12970\n",
       "HomePlanet          3\n",
       "CryoSleep           2\n",
       "Cabin            9825\n",
       "Destination         3\n",
       "Age                80\n",
       "VIP                 2\n",
       "RoomService      1578\n",
       "FoodCourt        1953\n",
       "ShoppingMall     1367\n",
       "Spa              1679\n",
       "VRDeck           1642\n",
       "Name            12629\n",
       "dtype: int64"
      ]
     },
     "execution_count": 7,
     "metadata": {},
     "output_type": "execute_result"
    }
   ],
   "source": [
    "df.nunique()"
   ]
  },
  {
   "cell_type": "code",
   "execution_count": 8,
   "id": "7d8c2d07",
   "metadata": {
    "execution": {
     "iopub.execute_input": "2022-08-22T13:42:25.799945Z",
     "iopub.status.busy": "2022-08-22T13:42:25.799488Z",
     "iopub.status.idle": "2022-08-22T13:42:25.821734Z",
     "shell.execute_reply": "2022-08-22T13:42:25.819696Z"
    },
    "papermill": {
     "duration": 0.035676,
     "end_time": "2022-08-22T13:42:25.824742",
     "exception": false,
     "start_time": "2022-08-22T13:42:25.789066",
     "status": "completed"
    },
    "tags": []
   },
   "outputs": [
    {
     "name": "stdout",
     "output_type": "stream",
     "text": [
      "<class 'pandas.core.frame.DataFrame'>\n",
      "Int64Index: 12970 entries, 0 to 4276\n",
      "Data columns (total 13 columns):\n",
      " #   Column        Non-Null Count  Dtype  \n",
      "---  ------        --------------  -----  \n",
      " 0   PassengerId   12970 non-null  object \n",
      " 1   HomePlanet    12682 non-null  object \n",
      " 2   CryoSleep     12660 non-null  object \n",
      " 3   Cabin         12671 non-null  object \n",
      " 4   Destination   12696 non-null  object \n",
      " 5   Age           12700 non-null  float64\n",
      " 6   VIP           12674 non-null  object \n",
      " 7   RoomService   12707 non-null  float64\n",
      " 8   FoodCourt     12681 non-null  float64\n",
      " 9   ShoppingMall  12664 non-null  float64\n",
      " 10  Spa           12686 non-null  float64\n",
      " 11  VRDeck        12702 non-null  float64\n",
      " 12  Name          12676 non-null  object \n",
      "dtypes: float64(6), object(7)\n",
      "memory usage: 1.4+ MB\n"
     ]
    }
   ],
   "source": [
    "df.info()"
   ]
  },
  {
   "cell_type": "code",
   "execution_count": 9,
   "id": "e5c37bce",
   "metadata": {
    "execution": {
     "iopub.execute_input": "2022-08-22T13:42:25.846346Z",
     "iopub.status.busy": "2022-08-22T13:42:25.845212Z",
     "iopub.status.idle": "2022-08-22T13:42:25.858936Z",
     "shell.execute_reply": "2022-08-22T13:42:25.857975Z"
    },
    "papermill": {
     "duration": 0.02668,
     "end_time": "2022-08-22T13:42:25.861404",
     "exception": false,
     "start_time": "2022-08-22T13:42:25.834724",
     "status": "completed"
    },
    "tags": []
   },
   "outputs": [
    {
     "data": {
      "text/plain": [
       "PassengerId     0.000000\n",
       "HomePlanet      0.022205\n",
       "CryoSleep       0.023901\n",
       "Cabin           0.023053\n",
       "Destination     0.021126\n",
       "Age             0.020817\n",
       "VIP             0.022822\n",
       "RoomService     0.020278\n",
       "FoodCourt       0.022282\n",
       "ShoppingMall    0.023593\n",
       "Spa             0.021897\n",
       "VRDeck          0.020663\n",
       "Name            0.022668\n",
       "dtype: float64"
      ]
     },
     "execution_count": 9,
     "metadata": {},
     "output_type": "execute_result"
    }
   ],
   "source": [
    "df.isnull().mean()"
   ]
  },
  {
   "cell_type": "markdown",
   "id": "976e5864",
   "metadata": {
    "papermill": {
     "duration": 0.009244,
     "end_time": "2022-08-22T13:42:25.880047",
     "exception": false,
     "start_time": "2022-08-22T13:42:25.870803",
     "status": "completed"
    },
    "tags": []
   },
   "source": [
    "## Data Visualization"
   ]
  },
  {
   "cell_type": "code",
   "execution_count": 10,
   "id": "f3f88e58",
   "metadata": {
    "execution": {
     "iopub.execute_input": "2022-08-22T13:42:25.900711Z",
     "iopub.status.busy": "2022-08-22T13:42:25.899978Z",
     "iopub.status.idle": "2022-08-22T13:42:26.330782Z",
     "shell.execute_reply": "2022-08-22T13:42:26.329151Z"
    },
    "papermill": {
     "duration": 0.444034,
     "end_time": "2022-08-22T13:42:26.333331",
     "exception": false,
     "start_time": "2022-08-22T13:42:25.889297",
     "status": "completed"
    },
    "tags": []
   },
   "outputs": [
    {
     "data": {
      "text/plain": [
       "<AxesSubplot:>"
      ]
     },
     "execution_count": 10,
     "metadata": {},
     "output_type": "execute_result"
    },
    {
     "data": {
      "image/png": "[encoded data removed]",
      "text/plain": [
       "<Figure size 504x504 with 2 Axes>"
      ]
     },
     "metadata": {
      "needs_background": "light"
     },
     "output_type": "display_data"
    }
   ],
   "source": [
    "plt.subplots(figsize=(7,7))\n",
    "sns.heatmap(df.corr(), square=True, annot=True)"
   ]
  },
  {
   "cell_type": "markdown",
   "id": "13498a65",
   "metadata": {
    "papermill": {
     "duration": 0.009993,
     "end_time": "2022-08-22T13:42:26.353526",
     "exception": false,
     "start_time": "2022-08-22T13:42:26.343533",
     "status": "completed"
    },
    "tags": []
   },
   "source": [
    "## Feature Enginnering"
   ]
  },
  {
   "cell_type": "markdown",
   "id": "88d9cfeb",
   "metadata": {
    "papermill": {
     "duration": 0.009754,
     "end_time": "2022-08-22T13:42:26.373521",
     "exception": false,
     "start_time": "2022-08-22T13:42:26.363767",
     "status": "completed"
    },
    "tags": []
   },
   "source": [
    "### PassengerId"
   ]
  },
  {
   "cell_type": "code",
   "execution_count": 11,
   "id": "6c033060",
   "metadata": {
    "execution": {
     "iopub.execute_input": "2022-08-22T13:42:26.395338Z",
     "iopub.status.busy": "2022-08-22T13:42:26.394910Z",
     "iopub.status.idle": "2022-08-22T13:42:41.247620Z",
     "shell.execute_reply": "2022-08-22T13:42:41.246465Z"
    },
    "papermill": {
     "duration": 14.866869,
     "end_time": "2022-08-22T13:42:41.250436",
     "exception": false,
     "start_time": "2022-08-22T13:42:26.383567",
     "status": "completed"
    },
    "tags": []
   },
   "outputs": [],
   "source": [
    "df['GroupId']=df.PassengerId.str[:4].astype(int) # PassengerId nin ilk 4 rakami GroupId dir\n",
    "df['GroupSize']=df.GroupId.map(lambda x: df.GroupId.value_counts()[x])"
   ]
  },
  {
   "cell_type": "code",
   "execution_count": 12,
   "id": "7e9e67e1",
   "metadata": {
    "execution": {
     "iopub.execute_input": "2022-08-22T13:42:41.272640Z",
     "iopub.status.busy": "2022-08-22T13:42:41.271997Z",
     "iopub.status.idle": "2022-08-22T13:42:41.280863Z",
     "shell.execute_reply": "2022-08-22T13:42:41.279663Z"
    },
    "papermill": {
     "duration": 0.022744,
     "end_time": "2022-08-22T13:42:41.283262",
     "exception": false,
     "start_time": "2022-08-22T13:42:41.260518",
     "status": "completed"
    },
    "tags": []
   },
   "outputs": [
    {
     "data": {
      "text/plain": [
       "2"
      ]
     },
     "execution_count": 12,
     "metadata": {},
     "output_type": "execute_result"
    }
   ],
   "source": [
    "df.GroupId.value_counts()[3] # 3 numarali grupta kac kisi var"
   ]
  },
  {
   "cell_type": "code",
   "execution_count": 13,
   "id": "3bcc662c",
   "metadata": {
    "execution": {
     "iopub.execute_input": "2022-08-22T13:42:41.305331Z",
     "iopub.status.busy": "2022-08-22T13:42:41.304936Z",
     "iopub.status.idle": "2022-08-22T13:42:42.601468Z",
     "shell.execute_reply": "2022-08-22T13:42:42.600546Z"
    },
    "papermill": {
     "duration": 1.310599,
     "end_time": "2022-08-22T13:42:42.604044",
     "exception": false,
     "start_time": "2022-08-22T13:42:41.293445",
     "status": "completed"
    },
    "tags": []
   },
   "outputs": [
    {
     "data": {
      "text/html": [
       "<div>\n",
       "<style scoped>\n",
       "    .dataframe tbody tr th:only-of-type {\n",
       "        vertical-align: middle;\n",
       "    }\n",
       "\n",
       "    .dataframe tbody tr th {\n",
       "        vertical-align: top;\n",
       "    }\n",
       "\n",
       "    .dataframe thead th {\n",
       "        text-align: right;\n",
       "    }\n",
       "</style>\n",
       "<table border=\"1\" class=\"dataframe\">\n",
       "  <thead>\n",
       "    <tr style=\"text-align: right;\">\n",
       "      <th></th>\n",
       "      <th>mode</th>\n",
       "      <th>size</th>\n",
       "    </tr>\n",
       "    <tr>\n",
       "      <th>GroupId</th>\n",
       "      <th></th>\n",
       "      <th></th>\n",
       "    </tr>\n",
       "  </thead>\n",
       "  <tbody>\n",
       "    <tr>\n",
       "      <th>1</th>\n",
       "      <td>Europa</td>\n",
       "      <td>1</td>\n",
       "    </tr>\n",
       "    <tr>\n",
       "      <th>2</th>\n",
       "      <td>Earth</td>\n",
       "      <td>1</td>\n",
       "    </tr>\n",
       "    <tr>\n",
       "      <th>3</th>\n",
       "      <td>Europa</td>\n",
       "      <td>2</td>\n",
       "    </tr>\n",
       "    <tr>\n",
       "      <th>4</th>\n",
       "      <td>Earth</td>\n",
       "      <td>1</td>\n",
       "    </tr>\n",
       "    <tr>\n",
       "      <th>5</th>\n",
       "      <td>Earth</td>\n",
       "      <td>1</td>\n",
       "    </tr>\n",
       "    <tr>\n",
       "      <th>...</th>\n",
       "      <td>...</td>\n",
       "      <td>...</td>\n",
       "    </tr>\n",
       "    <tr>\n",
       "      <th>9276</th>\n",
       "      <td>Europa</td>\n",
       "      <td>1</td>\n",
       "    </tr>\n",
       "    <tr>\n",
       "      <th>9277</th>\n",
       "      <td>Earth</td>\n",
       "      <td>1</td>\n",
       "    </tr>\n",
       "    <tr>\n",
       "      <th>9278</th>\n",
       "      <td>Earth</td>\n",
       "      <td>1</td>\n",
       "    </tr>\n",
       "    <tr>\n",
       "      <th>9279</th>\n",
       "      <td>Earth</td>\n",
       "      <td>1</td>\n",
       "    </tr>\n",
       "    <tr>\n",
       "      <th>9280</th>\n",
       "      <td>Europa</td>\n",
       "      <td>2</td>\n",
       "    </tr>\n",
       "  </tbody>\n",
       "</table>\n",
       "<p>9280 rows × 2 columns</p>\n",
       "</div>"
      ],
      "text/plain": [
       "           mode  size\n",
       "GroupId              \n",
       "1        Europa     1\n",
       "2         Earth     1\n",
       "3        Europa     2\n",
       "4         Earth     1\n",
       "5         Earth     1\n",
       "...         ...   ...\n",
       "9276     Europa     1\n",
       "9277      Earth     1\n",
       "9278      Earth     1\n",
       "9279      Earth     1\n",
       "9280     Europa     2\n",
       "\n",
       "[9280 rows x 2 columns]"
      ]
     },
     "execution_count": 13,
     "metadata": {},
     "output_type": "execute_result"
    }
   ],
   "source": [
    "group_id_home = df.groupby('GroupId')['HomePlanet'].agg([pd.Series.mode, np.size])\n",
    "group_id_home"
   ]
  },
  {
   "cell_type": "markdown",
   "id": "515fcbbe",
   "metadata": {
    "papermill": {
     "duration": 0.010087,
     "end_time": "2022-08-22T13:42:42.624814",
     "exception": false,
     "start_time": "2022-08-22T13:42:42.614727",
     "status": "completed"
    },
    "tags": []
   },
   "source": [
    "### Cabin"
   ]
  },
  {
   "cell_type": "code",
   "execution_count": 14,
   "id": "79ee0eb6",
   "metadata": {
    "execution": {
     "iopub.execute_input": "2022-08-22T13:42:42.647932Z",
     "iopub.status.busy": "2022-08-22T13:42:42.646987Z",
     "iopub.status.idle": "2022-08-22T13:42:42.670907Z",
     "shell.execute_reply": "2022-08-22T13:42:42.669707Z"
    },
    "papermill": {
     "duration": 0.03822,
     "end_time": "2022-08-22T13:42:42.673505",
     "exception": false,
     "start_time": "2022-08-22T13:42:42.635285",
     "status": "completed"
    },
    "tags": []
   },
   "outputs": [],
   "source": [
    "df['Deck']=df.Cabin.str[0]\n",
    "df['Side']=df.Cabin.str[-1]"
   ]
  },
  {
   "cell_type": "markdown",
   "id": "cf4d2bfb",
   "metadata": {
    "papermill": {
     "duration": 0.009986,
     "end_time": "2022-08-22T13:42:42.694079",
     "exception": false,
     "start_time": "2022-08-22T13:42:42.684093",
     "status": "completed"
    },
    "tags": []
   },
   "source": [
    "## Prediction"
   ]
  },
  {
   "cell_type": "code",
   "execution_count": 15,
   "id": "3ef3fd5e",
   "metadata": {
    "execution": {
     "iopub.execute_input": "2022-08-22T13:42:42.717121Z",
     "iopub.status.busy": "2022-08-22T13:42:42.715947Z",
     "iopub.status.idle": "2022-08-22T13:42:42.743912Z",
     "shell.execute_reply": "2022-08-22T13:42:42.742807Z"
    },
    "papermill": {
     "duration": 0.042298,
     "end_time": "2022-08-22T13:42:42.746781",
     "exception": false,
     "start_time": "2022-08-22T13:42:42.704483",
     "status": "completed"
    },
    "tags": []
   },
   "outputs": [],
   "source": [
    "df_dummies = pd.get_dummies(df.drop(columns=['PassengerId', 'GroupId', 'Cabin', 'Name']), drop_first=True)"
   ]
  },
  {
   "cell_type": "code",
   "execution_count": 16,
   "id": "5cce8f9b",
   "metadata": {
    "execution": {
     "iopub.execute_input": "2022-08-22T13:42:42.770299Z",
     "iopub.status.busy": "2022-08-22T13:42:42.769535Z",
     "iopub.status.idle": "2022-08-22T13:42:42.790598Z",
     "shell.execute_reply": "2022-08-22T13:42:42.789608Z"
    },
    "papermill": {
     "duration": 0.035423,
     "end_time": "2022-08-22T13:42:42.792945",
     "exception": false,
     "start_time": "2022-08-22T13:42:42.757522",
     "status": "completed"
    },
    "tags": []
   },
   "outputs": [
    {
     "data": {
      "text/html": [
       "<div>\n",
       "<style scoped>\n",
       "    .dataframe tbody tr th:only-of-type {\n",
       "        vertical-align: middle;\n",
       "    }\n",
       "\n",
       "    .dataframe tbody tr th {\n",
       "        vertical-align: top;\n",
       "    }\n",
       "\n",
       "    .dataframe thead th {\n",
       "        text-align: right;\n",
       "    }\n",
       "</style>\n",
       "<table border=\"1\" class=\"dataframe\">\n",
       "  <thead>\n",
       "    <tr style=\"text-align: right;\">\n",
       "      <th></th>\n",
       "      <th>Age</th>\n",
       "      <th>RoomService</th>\n",
       "      <th>FoodCourt</th>\n",
       "      <th>ShoppingMall</th>\n",
       "      <th>Spa</th>\n",
       "      <th>VRDeck</th>\n",
       "      <th>GroupSize</th>\n",
       "      <th>HomePlanet_Europa</th>\n",
       "      <th>HomePlanet_Mars</th>\n",
       "      <th>CryoSleep_True</th>\n",
       "      <th>Destination_PSO J318.5-22</th>\n",
       "      <th>Destination_TRAPPIST-1e</th>\n",
       "      <th>VIP_True</th>\n",
       "      <th>Deck_B</th>\n",
       "      <th>Deck_C</th>\n",
       "      <th>Deck_D</th>\n",
       "      <th>Deck_E</th>\n",
       "      <th>Deck_F</th>\n",
       "      <th>Deck_G</th>\n",
       "      <th>Deck_T</th>\n",
       "      <th>Side_S</th>\n",
       "    </tr>\n",
       "  </thead>\n",
       "  <tbody>\n",
       "    <tr>\n",
       "      <th>0</th>\n",
       "      <td>39.0</td>\n",
       "      <td>0.0</td>\n",
       "      <td>0.0</td>\n",
       "      <td>0.0</td>\n",
       "      <td>0.0</td>\n",
       "      <td>0.0</td>\n",
       "      <td>1</td>\n",
       "      <td>1</td>\n",
       "      <td>0</td>\n",
       "      <td>0</td>\n",
       "      <td>0</td>\n",
       "      <td>1</td>\n",
       "      <td>0</td>\n",
       "      <td>1</td>\n",
       "      <td>0</td>\n",
       "      <td>0</td>\n",
       "      <td>0</td>\n",
       "      <td>0</td>\n",
       "      <td>0</td>\n",
       "      <td>0</td>\n",
       "      <td>0</td>\n",
       "    </tr>\n",
       "    <tr>\n",
       "      <th>1</th>\n",
       "      <td>24.0</td>\n",
       "      <td>109.0</td>\n",
       "      <td>9.0</td>\n",
       "      <td>25.0</td>\n",
       "      <td>549.0</td>\n",
       "      <td>44.0</td>\n",
       "      <td>1</td>\n",
       "      <td>0</td>\n",
       "      <td>0</td>\n",
       "      <td>0</td>\n",
       "      <td>0</td>\n",
       "      <td>1</td>\n",
       "      <td>0</td>\n",
       "      <td>0</td>\n",
       "      <td>0</td>\n",
       "      <td>0</td>\n",
       "      <td>0</td>\n",
       "      <td>1</td>\n",
       "      <td>0</td>\n",
       "      <td>0</td>\n",
       "      <td>1</td>\n",
       "    </tr>\n",
       "    <tr>\n",
       "      <th>2</th>\n",
       "      <td>58.0</td>\n",
       "      <td>43.0</td>\n",
       "      <td>3576.0</td>\n",
       "      <td>0.0</td>\n",
       "      <td>6715.0</td>\n",
       "      <td>49.0</td>\n",
       "      <td>2</td>\n",
       "      <td>1</td>\n",
       "      <td>0</td>\n",
       "      <td>0</td>\n",
       "      <td>0</td>\n",
       "      <td>1</td>\n",
       "      <td>1</td>\n",
       "      <td>0</td>\n",
       "      <td>0</td>\n",
       "      <td>0</td>\n",
       "      <td>0</td>\n",
       "      <td>0</td>\n",
       "      <td>0</td>\n",
       "      <td>0</td>\n",
       "      <td>1</td>\n",
       "    </tr>\n",
       "    <tr>\n",
       "      <th>3</th>\n",
       "      <td>33.0</td>\n",
       "      <td>0.0</td>\n",
       "      <td>1283.0</td>\n",
       "      <td>371.0</td>\n",
       "      <td>3329.0</td>\n",
       "      <td>193.0</td>\n",
       "      <td>2</td>\n",
       "      <td>1</td>\n",
       "      <td>0</td>\n",
       "      <td>0</td>\n",
       "      <td>0</td>\n",
       "      <td>1</td>\n",
       "      <td>0</td>\n",
       "      <td>0</td>\n",
       "      <td>0</td>\n",
       "      <td>0</td>\n",
       "      <td>0</td>\n",
       "      <td>0</td>\n",
       "      <td>0</td>\n",
       "      <td>0</td>\n",
       "      <td>1</td>\n",
       "    </tr>\n",
       "    <tr>\n",
       "      <th>4</th>\n",
       "      <td>16.0</td>\n",
       "      <td>303.0</td>\n",
       "      <td>70.0</td>\n",
       "      <td>151.0</td>\n",
       "      <td>565.0</td>\n",
       "      <td>2.0</td>\n",
       "      <td>1</td>\n",
       "      <td>0</td>\n",
       "      <td>0</td>\n",
       "      <td>0</td>\n",
       "      <td>0</td>\n",
       "      <td>1</td>\n",
       "      <td>0</td>\n",
       "      <td>0</td>\n",
       "      <td>0</td>\n",
       "      <td>0</td>\n",
       "      <td>0</td>\n",
       "      <td>1</td>\n",
       "      <td>0</td>\n",
       "      <td>0</td>\n",
       "      <td>1</td>\n",
       "    </tr>\n",
       "  </tbody>\n",
       "</table>\n",
       "</div>"
      ],
      "text/plain": [
       "    Age  RoomService  FoodCourt  ShoppingMall     Spa  VRDeck  GroupSize  \\\n",
       "0  39.0          0.0        0.0           0.0     0.0     0.0          1   \n",
       "1  24.0        109.0        9.0          25.0   549.0    44.0          1   \n",
       "2  58.0         43.0     3576.0           0.0  6715.0    49.0          2   \n",
       "3  33.0          0.0     1283.0         371.0  3329.0   193.0          2   \n",
       "4  16.0        303.0       70.0         151.0   565.0     2.0          1   \n",
       "\n",
       "   HomePlanet_Europa  HomePlanet_Mars  CryoSleep_True  \\\n",
       "0                  1                0               0   \n",
       "1                  0                0               0   \n",
       "2                  1                0               0   \n",
       "3                  1                0               0   \n",
       "4                  0                0               0   \n",
       "\n",
       "   Destination_PSO J318.5-22  Destination_TRAPPIST-1e  VIP_True  Deck_B  \\\n",
       "0                          0                        1         0       1   \n",
       "1                          0                        1         0       0   \n",
       "2                          0                        1         1       0   \n",
       "3                          0                        1         0       0   \n",
       "4                          0                        1         0       0   \n",
       "\n",
       "   Deck_C  Deck_D  Deck_E  Deck_F  Deck_G  Deck_T  Side_S  \n",
       "0       0       0       0       0       0       0       0  \n",
       "1       0       0       0       1       0       0       1  \n",
       "2       0       0       0       0       0       0       1  \n",
       "3       0       0       0       0       0       0       1  \n",
       "4       0       0       0       1       0       0       1  "
      ]
     },
     "execution_count": 16,
     "metadata": {},
     "output_type": "execute_result"
    }
   ],
   "source": [
    "df_dummies.head()"
   ]
  },
  {
   "cell_type": "code",
   "execution_count": 17,
   "id": "9ed097f7",
   "metadata": {
    "execution": {
     "iopub.execute_input": "2022-08-22T13:42:42.816852Z",
     "iopub.status.busy": "2022-08-22T13:42:42.816086Z",
     "iopub.status.idle": "2022-08-22T13:42:42.820859Z",
     "shell.execute_reply": "2022-08-22T13:42:42.820036Z"
    },
    "papermill": {
     "duration": 0.01903,
     "end_time": "2022-08-22T13:42:42.822911",
     "exception": false,
     "start_time": "2022-08-22T13:42:42.803881",
     "status": "completed"
    },
    "tags": []
   },
   "outputs": [],
   "source": [
    "df_train_dm = df_dummies[:df_train.shape[0]] \n",
    "df_test_dm = df_dummies[df_train.shape[0]:]"
   ]
  },
  {
   "cell_type": "code",
   "execution_count": 18,
   "id": "b0dd8cb8",
   "metadata": {
    "execution": {
     "iopub.execute_input": "2022-08-22T13:42:42.847550Z",
     "iopub.status.busy": "2022-08-22T13:42:42.846767Z",
     "iopub.status.idle": "2022-08-22T13:42:42.872623Z",
     "shell.execute_reply": "2022-08-22T13:42:42.871498Z"
    },
    "papermill": {
     "duration": 0.041106,
     "end_time": "2022-08-22T13:42:42.875409",
     "exception": false,
     "start_time": "2022-08-22T13:42:42.834303",
     "status": "completed"
    },
    "tags": []
   },
   "outputs": [],
   "source": [
    "from sklearn.impute import SimpleImputer\n",
    "my_imputer = SimpleImputer() # default olarak mean ile doldurur\n",
    "df_train_imputed = my_imputer.fit_transform(df_train_dm)\n",
    "df_test_imputed = my_imputer.transform(df_test_dm)"
   ]
  },
  {
   "cell_type": "markdown",
   "id": "3b044dcf",
   "metadata": {
    "papermill": {
     "duration": 0.010588,
     "end_time": "2022-08-22T13:42:42.897483",
     "exception": false,
     "start_time": "2022-08-22T13:42:42.886895",
     "status": "completed"
    },
    "tags": []
   },
   "source": [
    "## Prediction"
   ]
  },
  {
   "cell_type": "code",
   "execution_count": 19,
   "id": "9c2adbb3",
   "metadata": {
    "execution": {
     "iopub.execute_input": "2022-08-22T13:42:42.920506Z",
     "iopub.status.busy": "2022-08-22T13:42:42.920057Z",
     "iopub.status.idle": "2022-08-22T13:42:49.326508Z",
     "shell.execute_reply": "2022-08-22T13:42:49.325156Z"
    },
    "papermill": {
     "duration": 6.421374,
     "end_time": "2022-08-22T13:42:49.329410",
     "exception": false,
     "start_time": "2022-08-22T13:42:42.908036",
     "status": "completed"
    },
    "tags": []
   },
   "outputs": [
    {
     "data": {
      "text/html": [
       "<div>\n",
       "<style scoped>\n",
       "    .dataframe tbody tr th:only-of-type {\n",
       "        vertical-align: middle;\n",
       "    }\n",
       "\n",
       "    .dataframe tbody tr th {\n",
       "        vertical-align: top;\n",
       "    }\n",
       "\n",
       "    .dataframe thead th {\n",
       "        text-align: right;\n",
       "    }\n",
       "</style>\n",
       "<table border=\"1\" class=\"dataframe\">\n",
       "  <thead>\n",
       "    <tr style=\"text-align: right;\">\n",
       "      <th></th>\n",
       "      <th>AccuracyScore</th>\n",
       "      <th>PrecisionScore</th>\n",
       "      <th>RecallScore</th>\n",
       "      <th>f1_Score</th>\n",
       "    </tr>\n",
       "  </thead>\n",
       "  <tbody>\n",
       "    <tr>\n",
       "      <th>GradientBoosting</th>\n",
       "      <td>0.806210</td>\n",
       "      <td>0.779553</td>\n",
       "      <td>0.849188</td>\n",
       "      <td>0.812882</td>\n",
       "    </tr>\n",
       "    <tr>\n",
       "      <th>LGBMClassifier</th>\n",
       "      <td>0.803335</td>\n",
       "      <td>0.786344</td>\n",
       "      <td>0.828306</td>\n",
       "      <td>0.806780</td>\n",
       "    </tr>\n",
       "    <tr>\n",
       "      <th>AdaBoost</th>\n",
       "      <td>0.801035</td>\n",
       "      <td>0.783516</td>\n",
       "      <td>0.827146</td>\n",
       "      <td>0.804740</td>\n",
       "    </tr>\n",
       "    <tr>\n",
       "      <th>XGBClassifier</th>\n",
       "      <td>0.795285</td>\n",
       "      <td>0.784910</td>\n",
       "      <td>0.808585</td>\n",
       "      <td>0.796571</td>\n",
       "    </tr>\n",
       "    <tr>\n",
       "      <th>RandomForest</th>\n",
       "      <td>0.795285</td>\n",
       "      <td>0.812346</td>\n",
       "      <td>0.763341</td>\n",
       "      <td>0.787081</td>\n",
       "    </tr>\n",
       "    <tr>\n",
       "      <th>LogisticReg</th>\n",
       "      <td>0.793560</td>\n",
       "      <td>0.777288</td>\n",
       "      <td>0.817865</td>\n",
       "      <td>0.797060</td>\n",
       "    </tr>\n",
       "    <tr>\n",
       "      <th>SVC</th>\n",
       "      <td>0.787809</td>\n",
       "      <td>0.740019</td>\n",
       "      <td>0.881671</td>\n",
       "      <td>0.804659</td>\n",
       "    </tr>\n",
       "    <tr>\n",
       "      <th>KNeighbors</th>\n",
       "      <td>0.757907</td>\n",
       "      <td>0.743646</td>\n",
       "      <td>0.780742</td>\n",
       "      <td>0.761743</td>\n",
       "    </tr>\n",
       "    <tr>\n",
       "      <th>MultinominalNB</th>\n",
       "      <td>0.756757</td>\n",
       "      <td>0.705717</td>\n",
       "      <td>0.873550</td>\n",
       "      <td>0.780715</td>\n",
       "    </tr>\n",
       "    <tr>\n",
       "      <th>Bernoulli</th>\n",
       "      <td>0.748706</td>\n",
       "      <td>0.779974</td>\n",
       "      <td>0.686775</td>\n",
       "      <td>0.730413</td>\n",
       "    </tr>\n",
       "    <tr>\n",
       "      <th>DecisionTree</th>\n",
       "      <td>0.736055</td>\n",
       "      <td>0.727684</td>\n",
       "      <td>0.747100</td>\n",
       "      <td>0.737264</td>\n",
       "    </tr>\n",
       "    <tr>\n",
       "      <th>Gaussian</th>\n",
       "      <td>0.717079</td>\n",
       "      <td>0.657581</td>\n",
       "      <td>0.895592</td>\n",
       "      <td>0.758350</td>\n",
       "    </tr>\n",
       "  </tbody>\n",
       "</table>\n",
       "</div>"
      ],
      "text/plain": [
       "                  AccuracyScore  PrecisionScore  RecallScore  f1_Score\n",
       "GradientBoosting       0.806210        0.779553     0.849188  0.812882\n",
       "LGBMClassifier         0.803335        0.786344     0.828306  0.806780\n",
       "AdaBoost               0.801035        0.783516     0.827146  0.804740\n",
       "XGBClassifier          0.795285        0.784910     0.808585  0.796571\n",
       "RandomForest           0.795285        0.812346     0.763341  0.787081\n",
       "LogisticReg            0.793560        0.777288     0.817865  0.797060\n",
       "SVC                    0.787809        0.740019     0.881671  0.804659\n",
       "KNeighbors             0.757907        0.743646     0.780742  0.761743\n",
       "MultinominalNB         0.756757        0.705717     0.873550  0.780715\n",
       "Bernoulli              0.748706        0.779974     0.686775  0.730413\n",
       "DecisionTree           0.736055        0.727684     0.747100  0.737264\n",
       "Gaussian               0.717079        0.657581     0.895592  0.758350"
      ]
     },
     "execution_count": 19,
     "metadata": {},
     "output_type": "execute_result"
    }
   ],
   "source": [
    "classification_(df_train_imputed, train_labels)"
   ]
  },
  {
   "cell_type": "code",
   "execution_count": 20,
   "id": "762fe91b",
   "metadata": {
    "execution": {
     "iopub.execute_input": "2022-08-22T13:42:49.353101Z",
     "iopub.status.busy": "2022-08-22T13:42:49.352642Z",
     "iopub.status.idle": "2022-08-22T13:42:50.448114Z",
     "shell.execute_reply": "2022-08-22T13:42:50.447019Z"
    },
    "papermill": {
     "duration": 1.110294,
     "end_time": "2022-08-22T13:42:50.450782",
     "exception": false,
     "start_time": "2022-08-22T13:42:49.340488",
     "status": "completed"
    },
    "tags": []
   },
   "outputs": [
    {
     "data": {
      "text/plain": [
       "array([ True, False,  True, ...,  True,  True,  True])"
      ]
     },
     "execution_count": 20,
     "metadata": {},
     "output_type": "execute_result"
    }
   ],
   "source": [
    "gbc=GradientBoostingClassifier()\n",
    "model = gbc.fit(df_train_imputed, train_labels)\n",
    "pred = model.predict(df_test_imputed)\n",
    "pred"
   ]
  },
  {
   "cell_type": "markdown",
   "id": "03455bbb",
   "metadata": {
    "papermill": {
     "duration": 0.010611,
     "end_time": "2022-08-22T13:42:50.472656",
     "exception": false,
     "start_time": "2022-08-22T13:42:50.462045",
     "status": "completed"
    },
    "tags": []
   },
   "source": [
    "#### Feature Importance"
   ]
  },
  {
   "cell_type": "code",
   "execution_count": 21,
   "id": "38255f75",
   "metadata": {
    "execution": {
     "iopub.execute_input": "2022-08-22T13:42:50.496473Z",
     "iopub.status.busy": "2022-08-22T13:42:50.495674Z",
     "iopub.status.idle": "2022-08-22T13:42:50.844209Z",
     "shell.execute_reply": "2022-08-22T13:42:50.843329Z"
    },
    "papermill": {
     "duration": 0.362969,
     "end_time": "2022-08-22T13:42:50.846542",
     "exception": false,
     "start_time": "2022-08-22T13:42:50.483573",
     "status": "completed"
    },
    "tags": []
   },
   "outputs": [
    {
     "data": {
      "text/plain": [
       "<AxesSubplot:xlabel='Importance', ylabel='Feature'>"
      ]
     },
     "execution_count": 21,
     "metadata": {},
     "output_type": "execute_result"
    },
    {
     "data": {
      "image/png": "[encoded data removed]",
      "text/plain": [
       "<Figure size 720x720 with 1 Axes>"
      ]
     },
     "metadata": {
      "needs_background": "light"
     },
     "output_type": "display_data"
    }
   ],
   "source": [
    "feature_imp = pd.DataFrame(sorted(zip(model.feature_importances_, df_train_dm.columns)), columns=['Importance', 'Feature'])\n",
    "plt.figure(figsize=(10,10))\n",
    "sns.barplot(x='Importance', y='Feature', data=feature_imp.sort_values(by='Importance', ascending=False))"
   ]
  },
  {
   "cell_type": "markdown",
   "id": "0433954b",
   "metadata": {
    "papermill": {
     "duration": 0.01123,
     "end_time": "2022-08-22T13:42:50.869458",
     "exception": false,
     "start_time": "2022-08-22T13:42:50.858228",
     "status": "completed"
    },
    "tags": []
   },
   "source": [
    "## Submission"
   ]
  },
  {
   "cell_type": "code",
   "execution_count": 22,
   "id": "acbb82da",
   "metadata": {
    "execution": {
     "iopub.execute_input": "2022-08-22T13:42:50.895434Z",
     "iopub.status.busy": "2022-08-22T13:42:50.894309Z",
     "iopub.status.idle": "2022-08-22T13:42:50.917930Z",
     "shell.execute_reply": "2022-08-22T13:42:50.916858Z"
    },
    "papermill": {
     "duration": 0.039448,
     "end_time": "2022-08-22T13:42:50.920581",
     "exception": false,
     "start_time": "2022-08-22T13:42:50.881133",
     "status": "completed"
    },
    "tags": []
   },
   "outputs": [
    {
     "data": {
      "text/html": [
       "<div>\n",
       "<style scoped>\n",
       "    .dataframe tbody tr th:only-of-type {\n",
       "        vertical-align: middle;\n",
       "    }\n",
       "\n",
       "    .dataframe tbody tr th {\n",
       "        vertical-align: top;\n",
       "    }\n",
       "\n",
       "    .dataframe thead th {\n",
       "        text-align: right;\n",
       "    }\n",
       "</style>\n",
       "<table border=\"1\" class=\"dataframe\">\n",
       "  <thead>\n",
       "    <tr style=\"text-align: right;\">\n",
       "      <th></th>\n",
       "      <th>PassengerId</th>\n",
       "      <th>Transported</th>\n",
       "    </tr>\n",
       "  </thead>\n",
       "  <tbody>\n",
       "    <tr>\n",
       "      <th>0</th>\n",
       "      <td>0013_01</td>\n",
       "      <td>True</td>\n",
       "    </tr>\n",
       "    <tr>\n",
       "      <th>1</th>\n",
       "      <td>0018_01</td>\n",
       "      <td>False</td>\n",
       "    </tr>\n",
       "    <tr>\n",
       "      <th>2</th>\n",
       "      <td>0019_01</td>\n",
       "      <td>True</td>\n",
       "    </tr>\n",
       "    <tr>\n",
       "      <th>3</th>\n",
       "      <td>0021_01</td>\n",
       "      <td>True</td>\n",
       "    </tr>\n",
       "    <tr>\n",
       "      <th>4</th>\n",
       "      <td>0023_01</td>\n",
       "      <td>True</td>\n",
       "    </tr>\n",
       "    <tr>\n",
       "      <th>...</th>\n",
       "      <td>...</td>\n",
       "      <td>...</td>\n",
       "    </tr>\n",
       "    <tr>\n",
       "      <th>4272</th>\n",
       "      <td>9266_02</td>\n",
       "      <td>True</td>\n",
       "    </tr>\n",
       "    <tr>\n",
       "      <th>4273</th>\n",
       "      <td>9269_01</td>\n",
       "      <td>False</td>\n",
       "    </tr>\n",
       "    <tr>\n",
       "      <th>4274</th>\n",
       "      <td>9271_01</td>\n",
       "      <td>True</td>\n",
       "    </tr>\n",
       "    <tr>\n",
       "      <th>4275</th>\n",
       "      <td>9273_01</td>\n",
       "      <td>True</td>\n",
       "    </tr>\n",
       "    <tr>\n",
       "      <th>4276</th>\n",
       "      <td>9277_01</td>\n",
       "      <td>True</td>\n",
       "    </tr>\n",
       "  </tbody>\n",
       "</table>\n",
       "<p>4277 rows × 2 columns</p>\n",
       "</div>"
      ],
      "text/plain": [
       "     PassengerId  Transported\n",
       "0        0013_01         True\n",
       "1        0018_01        False\n",
       "2        0019_01         True\n",
       "3        0021_01         True\n",
       "4        0023_01         True\n",
       "...          ...          ...\n",
       "4272     9266_02         True\n",
       "4273     9269_01        False\n",
       "4274     9271_01         True\n",
       "4275     9273_01         True\n",
       "4276     9277_01         True\n",
       "\n",
       "[4277 rows x 2 columns]"
      ]
     },
     "execution_count": 22,
     "metadata": {},
     "output_type": "execute_result"
    }
   ],
   "source": [
    "submission['PassengerId']=df[df_train.shape[0]:].PassengerId\n",
    "submission['Transported']=pred\n",
    "submission.replace({1:'True', 0:'False'}, inplace=True)\n",
    "submission.to_csv('submission.csv', index=False)\n",
    "submission"
   ]
  },
  {
   "cell_type": "code",
   "execution_count": null,
   "id": "db733990",
   "metadata": {
    "papermill": {
     "duration": 0.01142,
     "end_time": "2022-08-22T13:42:50.981920",
     "exception": false,
     "start_time": "2022-08-22T13:42:50.970500",
     "status": "completed"
    },
    "tags": []
   },
   "outputs": [],
   "source": []
  }
 ],
 "metadata": {
  "kernelspec": {
   "display_name": "Python 3 (ipykernel)",
   "language": "python",
   "name": "python3"
  },
  "language_info": {
   "codemirror_mode": {
    "name": "ipython",
    "version": 3
   },
   "file_extension": ".py",
   "mimetype": "text/x-python",
   "name": "python",
   "nbconvert_exporter": "python",
   "pygments_lexer": "ipython3",
   "version": "3.9.12"
  },
  "papermill": {
   "default_parameters": {},
   "duration": 38.621669,
   "end_time": "2022-08-22T13:42:51.815393",
   "environment_variables": {},
   "exception": null,
   "input_path": "__notebook__.ipynb",
   "output_path": "__notebook__.ipynb",
   "parameters": {},
   "start_time": "2022-08-22T13:42:13.193724",
   "version": "2.3.4"
  },
  "toc": {
   "base_numbering": 1,
   "nav_menu": {},
   "number_sections": true,
   "sideBar": true,
   "skip_h1_title": false,
   "title_cell": "Table of Contents",
   "title_sidebar": "Contents",
   "toc_cell": false,
   "toc_position": {},
   "toc_section_display": true,
   "toc_window_display": false
  },
  "varInspector": {
   "cols": {
    "lenName": 16,
    "lenType": 16,
    "lenVar": 40
   },
   "kernels_config": {
    "python": {
     "delete_cmd_postfix": "",
     "delete_cmd_prefix": "del ",
     "library": "var_list.py",
     "varRefreshCmd": "print(var_dic_list())"
    },
    "r": {
     "delete_cmd_postfix": ") ",
     "delete_cmd_prefix": "rm(",
     "library": "var_list.r",
     "varRefreshCmd": "cat(var_dic_list()) "
    }
   },
   "types_to_exclude": [
    "module",
    "function",
    "builtin_function_or_method",
    "instance",
    "_Feature"
   ],
   "window_display": false
  }
 },
 "nbformat": 4,
 "nbformat_minor": 5
}
