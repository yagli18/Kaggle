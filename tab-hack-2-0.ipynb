{
 "cells": [
  {
   "cell_type": "code",
   "execution_count": 1,
   "id": "c65800c2",
   "metadata": {
    "_cell_guid": "b1076dfc-b9ad-4769-8c92-a6c4dae69d19",
    "_uuid": "8f2839f25d086af736a60e9eeb907d3b93b6e0e5",
    "execution": {
     "iopub.execute_input": "2022-08-30T13:15:31.955148Z",
     "iopub.status.busy": "2022-08-30T13:15:31.954227Z",
     "iopub.status.idle": "2022-08-30T13:15:31.971243Z",
     "shell.execute_reply": "2022-08-30T13:15:31.969774Z"
    },
    "papermill": {
     "duration": 0.030824,
     "end_time": "2022-08-30T13:15:31.974228",
     "exception": false,
     "start_time": "2022-08-30T13:15:31.943404",
     "status": "completed"
    },
    "tags": []
   },
   "outputs": [
    {
     "name": "stdout",
     "output_type": "stream",
     "text": [
      "/kaggle/input/tab-hack-20/Week8_test.csv\n",
      "/kaggle/input/tab-hack-20/Week8_train.csv\n"
     ]
    }
   ],
   "source": [
    "# This Python 3 environment comes with many helpful analytics libraries installed\n",
    "# It is defined by the kaggle/python Docker image: https://github.com/kaggle/docker-python\n",
    "# For example, here's several helpful packages to load\n",
    "\n",
    "import numpy as np # linear algebra\n",
    "import pandas as pd # data processing, CSV file I/O (e.g. pd.read_csv)\n",
    "\n",
    "# Input data files are available in the read-only \"../input/\" directory\n",
    "# For example, running this (by clicking run or pressing Shift+Enter) will list all files under the input directory\n",
    "\n",
    "import os\n",
    "for dirname, _, filenames in os.walk('/kaggle/input'):\n",
    "    for filename in filenames:\n",
    "        print(os.path.join(dirname, filename))\n",
    "\n",
    "# You can write up to 20GB to the current directory (/kaggle/working/) that gets preserved as output when you create a version using \"Save & Run All\" \n",
    "# You can also write temporary files to /kaggle/temp/, but they won't be saved outside of the current session"
   ]
  },
  {
   "cell_type": "code",
   "execution_count": 2,
   "id": "bc7e4c09",
   "metadata": {
    "execution": {
     "iopub.execute_input": "2022-08-30T13:15:31.991080Z",
     "iopub.status.busy": "2022-08-30T13:15:31.990183Z",
     "iopub.status.idle": "2022-08-30T13:15:35.426919Z",
     "shell.execute_reply": "2022-08-30T13:15:35.425140Z"
    },
    "papermill": {
     "duration": 3.448978,
     "end_time": "2022-08-30T13:15:35.430429",
     "exception": false,
     "start_time": "2022-08-30T13:15:31.981451",
     "status": "completed"
    },
    "tags": []
   },
   "outputs": [
    {
     "data": {
      "text/html": [
       "<style type='text/css'>\n",
       ".datatable table.frame { margin-bottom: 0; }\n",
       ".datatable table.frame thead { border-bottom: none; }\n",
       ".datatable table.frame tr.coltypes td {  color: #FFFFFF;  line-height: 6px;  padding: 0 0.5em;}\n",
       ".datatable .bool    { background: #DDDD99; }\n",
       ".datatable .object  { background: #565656; }\n",
       ".datatable .int     { background: #5D9E5D; }\n",
       ".datatable .float   { background: #4040CC; }\n",
       ".datatable .str     { background: #CC4040; }\n",
       ".datatable .time    { background: #40CC40; }\n",
       ".datatable .row_index {  background: var(--jp-border-color3);  border-right: 1px solid var(--jp-border-color0);  color: var(--jp-ui-font-color3);  font-size: 9px;}\n",
       ".datatable .frame tbody td { text-align: left; }\n",
       ".datatable .frame tr.coltypes .row_index {  background: var(--jp-border-color0);}\n",
       ".datatable th:nth-child(2) { padding-left: 12px; }\n",
       ".datatable .hellipsis {  color: var(--jp-cell-editor-border-color);}\n",
       ".datatable .vellipsis {  background: var(--jp-layout-color0);  color: var(--jp-cell-editor-border-color);}\n",
       ".datatable .na {  color: var(--jp-cell-editor-border-color);  font-size: 80%;}\n",
       ".datatable .sp {  opacity: 0.25;}\n",
       ".datatable .footer { font-size: 9px; }\n",
       ".datatable .frame_dimensions {  background: var(--jp-border-color3);  border-top: 1px solid var(--jp-border-color0);  color: var(--jp-ui-font-color3);  display: inline-block;  opacity: 0.6;  padding: 1px 10px 1px 5px;}\n",
       "</style>\n"
      ],
      "text/plain": [
       "<IPython.core.display.HTML object>"
      ]
     },
     "metadata": {},
     "output_type": "display_data"
    }
   ],
   "source": [
    "import pandas as pd\n",
    "import numpy as np\n",
    "import matplotlib.pyplot as plt\n",
    "%matplotlib inline\n",
    "import seaborn as sns\n",
    "import plotly.express as px\n",
    "import plotly.graph_objs as go\n",
    "from plotly.subplots import make_subplots\n",
    "\n",
    "import warnings\n",
    "warnings.filterwarnings(\"ignore\")\n",
    "pd.set_option(\"display.max_columns\",100)\n",
    "\n",
    "#Classification\n",
    "from sklearn.naive_bayes import MultinomialNB, GaussianNB, BernoulliNB\n",
    "from sklearn.neighbors import KNeighborsClassifier\n",
    "from sklearn.svm import SVC\n",
    "from sklearn.tree import DecisionTreeClassifier\n",
    "from sklearn.linear_model import LogisticRegression\n",
    "from sklearn.ensemble import GradientBoostingClassifier, AdaBoostClassifier, RandomForestClassifier\n",
    "from xgboost import XGBClassifier\n",
    "from lightgbm import LGBMClassifier\n",
    "from sklearn.metrics import classification_report,accuracy_score,confusion_matrix,precision_score,recall_score,f1_score\n",
    "\n",
    "from sklearn.model_selection import train_test_split\n",
    "from sklearn.metrics import mean_squared_error,r2_score,mean_absolute_error\n",
    "from sklearn.preprocessing import normalize,scale"
   ]
  },
  {
   "cell_type": "code",
   "execution_count": 3,
   "id": "543d156e",
   "metadata": {
    "execution": {
     "iopub.execute_input": "2022-08-30T13:15:35.447783Z",
     "iopub.status.busy": "2022-08-30T13:15:35.447224Z",
     "iopub.status.idle": "2022-08-30T13:15:50.402384Z",
     "shell.execute_reply": "2022-08-30T13:15:50.400942Z"
    },
    "papermill": {
     "duration": 14.967841,
     "end_time": "2022-08-30T13:15:50.405970",
     "exception": false,
     "start_time": "2022-08-30T13:15:35.438129",
     "status": "completed"
    },
    "tags": []
   },
   "outputs": [],
   "source": [
    "train = pd.read_csv('../input/tab-hack-20/Week8_train.csv')\n",
    "train_labels=train['TARGET']\n",
    "train.drop(columns=['PARTY_ID','TARGET'], inplace=True)\n",
    "\n",
    "test = pd.read_csv('../input/tab-hack-20/Week8_test.csv')\n",
    "test.drop(columns=['PARTY_ID'], inplace=True)\n",
    "\n",
    "df=train.append(test)"
   ]
  },
  {
   "cell_type": "code",
   "execution_count": 4,
   "id": "fc1f723f",
   "metadata": {
    "execution": {
     "iopub.execute_input": "2022-08-30T13:15:50.424506Z",
     "iopub.status.busy": "2022-08-30T13:15:50.423532Z",
     "iopub.status.idle": "2022-08-30T13:15:50.432600Z",
     "shell.execute_reply": "2022-08-30T13:15:50.431203Z"
    },
    "papermill": {
     "duration": 0.021397,
     "end_time": "2022-08-30T13:15:50.435031",
     "exception": false,
     "start_time": "2022-08-30T13:15:50.413634",
     "status": "completed"
    },
    "tags": []
   },
   "outputs": [
    {
     "data": {
      "text/plain": [
       "set()"
      ]
     },
     "execution_count": 4,
     "metadata": {},
     "output_type": "execute_result"
    }
   ],
   "source": [
    "set(train.columns)-set(test.columns)"
   ]
  },
  {
   "cell_type": "markdown",
   "id": "eaf22acf",
   "metadata": {
    "papermill": {
     "duration": 0.006711,
     "end_time": "2022-08-30T13:15:50.449011",
     "exception": false,
     "start_time": "2022-08-30T13:15:50.442300",
     "status": "completed"
    },
    "tags": []
   },
   "source": [
    "## EDA"
   ]
  },
  {
   "cell_type": "code",
   "execution_count": 5,
   "id": "17d514b3",
   "metadata": {
    "execution": {
     "iopub.execute_input": "2022-08-30T13:15:50.465469Z",
     "iopub.status.busy": "2022-08-30T13:15:50.464508Z",
     "iopub.status.idle": "2022-08-30T13:15:50.472499Z",
     "shell.execute_reply": "2022-08-30T13:15:50.471596Z"
    },
    "papermill": {
     "duration": 0.019167,
     "end_time": "2022-08-30T13:15:50.475120",
     "exception": false,
     "start_time": "2022-08-30T13:15:50.455953",
     "status": "completed"
    },
    "tags": []
   },
   "outputs": [
    {
     "data": {
      "text/plain": [
       "(221798, 481)"
      ]
     },
     "execution_count": 5,
     "metadata": {},
     "output_type": "execute_result"
    }
   ],
   "source": [
    "df.shape"
   ]
  },
  {
   "cell_type": "code",
   "execution_count": 6,
   "id": "22deaa78",
   "metadata": {
    "execution": {
     "iopub.execute_input": "2022-08-30T13:15:50.491816Z",
     "iopub.status.busy": "2022-08-30T13:15:50.491290Z",
     "iopub.status.idle": "2022-08-30T13:15:50.568008Z",
     "shell.execute_reply": "2022-08-30T13:15:50.566603Z"
    },
    "papermill": {
     "duration": 0.088636,
     "end_time": "2022-08-30T13:15:50.571051",
     "exception": false,
     "start_time": "2022-08-30T13:15:50.482415",
     "status": "completed"
    },
    "tags": []
   },
   "outputs": [
    {
     "data": {
      "text/html": [
       "<div>\n",
       "<style scoped>\n",
       "    .dataframe tbody tr th:only-of-type {\n",
       "        vertical-align: middle;\n",
       "    }\n",
       "\n",
       "    .dataframe tbody tr th {\n",
       "        vertical-align: top;\n",
       "    }\n",
       "\n",
       "    .dataframe thead th {\n",
       "        text-align: right;\n",
       "    }\n",
       "</style>\n",
       "<table border=\"1\" class=\"dataframe\">\n",
       "  <thead>\n",
       "    <tr style=\"text-align: right;\">\n",
       "      <th></th>\n",
       "      <th>id</th>\n",
       "      <th>V_1</th>\n",
       "      <th>V_2</th>\n",
       "      <th>V_3</th>\n",
       "      <th>V_4</th>\n",
       "      <th>V_5</th>\n",
       "      <th>V_6</th>\n",
       "      <th>V_7</th>\n",
       "      <th>V_8</th>\n",
       "      <th>V_9</th>\n",
       "      <th>V_10</th>\n",
       "      <th>V_11</th>\n",
       "      <th>V_12</th>\n",
       "      <th>V_13</th>\n",
       "      <th>V_14</th>\n",
       "      <th>V_15</th>\n",
       "      <th>V_16</th>\n",
       "      <th>V_17</th>\n",
       "      <th>V_18</th>\n",
       "      <th>V_19</th>\n",
       "      <th>V_20</th>\n",
       "      <th>V_21</th>\n",
       "      <th>V_22</th>\n",
       "      <th>V_23</th>\n",
       "      <th>V_24</th>\n",
       "      <th>V_25</th>\n",
       "      <th>V_26</th>\n",
       "      <th>V_27</th>\n",
       "      <th>V_28</th>\n",
       "      <th>V_29</th>\n",
       "      <th>V_30</th>\n",
       "      <th>V_31</th>\n",
       "      <th>V_32</th>\n",
       "      <th>V_33</th>\n",
       "      <th>V_34</th>\n",
       "      <th>V_35</th>\n",
       "      <th>V_36</th>\n",
       "      <th>V_37</th>\n",
       "      <th>V_38</th>\n",
       "      <th>V_39</th>\n",
       "      <th>V_40</th>\n",
       "      <th>V_41</th>\n",
       "      <th>V_42</th>\n",
       "      <th>V_43</th>\n",
       "      <th>V_44</th>\n",
       "      <th>V_45</th>\n",
       "      <th>V_46</th>\n",
       "      <th>V_47</th>\n",
       "      <th>V_48</th>\n",
       "      <th>V_49</th>\n",
       "      <th>...</th>\n",
       "      <th>V_433</th>\n",
       "      <th>V_434</th>\n",
       "      <th>V_435</th>\n",
       "      <th>V_436</th>\n",
       "      <th>V_437</th>\n",
       "      <th>V_438</th>\n",
       "      <th>V_439</th>\n",
       "      <th>V_440</th>\n",
       "      <th>V_441</th>\n",
       "      <th>V_442</th>\n",
       "      <th>V_443</th>\n",
       "      <th>V_444</th>\n",
       "      <th>V_445</th>\n",
       "      <th>V_446</th>\n",
       "      <th>V_447</th>\n",
       "      <th>V_448</th>\n",
       "      <th>V_449</th>\n",
       "      <th>V_450</th>\n",
       "      <th>V_451</th>\n",
       "      <th>V_452</th>\n",
       "      <th>V_453</th>\n",
       "      <th>V_454</th>\n",
       "      <th>V_455</th>\n",
       "      <th>V_456</th>\n",
       "      <th>V_457</th>\n",
       "      <th>V_458</th>\n",
       "      <th>V_459</th>\n",
       "      <th>V_460</th>\n",
       "      <th>V_461</th>\n",
       "      <th>V_462</th>\n",
       "      <th>V_463</th>\n",
       "      <th>V_464</th>\n",
       "      <th>V_465</th>\n",
       "      <th>V_466</th>\n",
       "      <th>V_467</th>\n",
       "      <th>V_468</th>\n",
       "      <th>V_469</th>\n",
       "      <th>V_470</th>\n",
       "      <th>V_471</th>\n",
       "      <th>V_472</th>\n",
       "      <th>V_473</th>\n",
       "      <th>V_474</th>\n",
       "      <th>V_475</th>\n",
       "      <th>V_476</th>\n",
       "      <th>V_477</th>\n",
       "      <th>V_478</th>\n",
       "      <th>V_479</th>\n",
       "      <th>V_480</th>\n",
       "      <th>V_481</th>\n",
       "      <th>V_482</th>\n",
       "    </tr>\n",
       "  </thead>\n",
       "  <tbody>\n",
       "    <tr>\n",
       "      <th>0</th>\n",
       "      <td>0</td>\n",
       "      <td>0</td>\n",
       "      <td>0</td>\n",
       "      <td>0</td>\n",
       "      <td>0</td>\n",
       "      <td>0</td>\n",
       "      <td>0</td>\n",
       "      <td>0</td>\n",
       "      <td>0</td>\n",
       "      <td>0</td>\n",
       "      <td>0.000000</td>\n",
       "      <td>0</td>\n",
       "      <td>0</td>\n",
       "      <td>0</td>\n",
       "      <td>1</td>\n",
       "      <td>0</td>\n",
       "      <td>0</td>\n",
       "      <td>111139.07210</td>\n",
       "      <td>0</td>\n",
       "      <td>520.927066</td>\n",
       "      <td>822.838929</td>\n",
       "      <td>1</td>\n",
       "      <td>0</td>\n",
       "      <td>110.906416</td>\n",
       "      <td>0</td>\n",
       "      <td>0</td>\n",
       "      <td>0</td>\n",
       "      <td>0</td>\n",
       "      <td>0.0</td>\n",
       "      <td>3</td>\n",
       "      <td>0</td>\n",
       "      <td>0.0</td>\n",
       "      <td>1</td>\n",
       "      <td>640</td>\n",
       "      <td>0</td>\n",
       "      <td>0</td>\n",
       "      <td>128.140948</td>\n",
       "      <td>0</td>\n",
       "      <td>0</td>\n",
       "      <td>151.719648</td>\n",
       "      <td>0.0</td>\n",
       "      <td>0</td>\n",
       "      <td>0</td>\n",
       "      <td>0</td>\n",
       "      <td>0.0</td>\n",
       "      <td>0</td>\n",
       "      <td>0</td>\n",
       "      <td>0</td>\n",
       "      <td>0</td>\n",
       "      <td>0</td>\n",
       "      <td>...</td>\n",
       "      <td>0</td>\n",
       "      <td>Aerospace &amp; Defense</td>\n",
       "      <td>0</td>\n",
       "      <td>0</td>\n",
       "      <td>0</td>\n",
       "      <td>0.000000</td>\n",
       "      <td>2</td>\n",
       "      <td>5</td>\n",
       "      <td>0</td>\n",
       "      <td>0.0</td>\n",
       "      <td>0</td>\n",
       "      <td>0</td>\n",
       "      <td>0</td>\n",
       "      <td>0</td>\n",
       "      <td>0</td>\n",
       "      <td>0</td>\n",
       "      <td>0</td>\n",
       "      <td>384.761680</td>\n",
       "      <td>0</td>\n",
       "      <td>0.0</td>\n",
       "      <td>0</td>\n",
       "      <td>0</td>\n",
       "      <td>0</td>\n",
       "      <td>0.0</td>\n",
       "      <td>0.0</td>\n",
       "      <td>0.0</td>\n",
       "      <td>0</td>\n",
       "      <td>0</td>\n",
       "      <td>0</td>\n",
       "      <td>0.0</td>\n",
       "      <td>0</td>\n",
       "      <td>0</td>\n",
       "      <td>5</td>\n",
       "      <td>0</td>\n",
       "      <td>0</td>\n",
       "      <td>0</td>\n",
       "      <td>0.0</td>\n",
       "      <td>0</td>\n",
       "      <td>0</td>\n",
       "      <td>0</td>\n",
       "      <td>0</td>\n",
       "      <td>0</td>\n",
       "      <td>0</td>\n",
       "      <td>0</td>\n",
       "      <td>0</td>\n",
       "      <td>1</td>\n",
       "      <td>0</td>\n",
       "      <td>0.000000</td>\n",
       "      <td>0.0</td>\n",
       "      <td>0.0</td>\n",
       "    </tr>\n",
       "    <tr>\n",
       "      <th>1</th>\n",
       "      <td>1</td>\n",
       "      <td>0</td>\n",
       "      <td>0</td>\n",
       "      <td>0</td>\n",
       "      <td>0</td>\n",
       "      <td>0</td>\n",
       "      <td>0</td>\n",
       "      <td>0</td>\n",
       "      <td>0</td>\n",
       "      <td>0</td>\n",
       "      <td>110.038907</td>\n",
       "      <td>0</td>\n",
       "      <td>5</td>\n",
       "      <td>0</td>\n",
       "      <td>0</td>\n",
       "      <td>0</td>\n",
       "      <td>0</td>\n",
       "      <td>33404.59288</td>\n",
       "      <td>0</td>\n",
       "      <td>1260.420076</td>\n",
       "      <td>1914.446743</td>\n",
       "      <td>0</td>\n",
       "      <td>0</td>\n",
       "      <td>8.334129</td>\n",
       "      <td>0</td>\n",
       "      <td>0</td>\n",
       "      <td>0</td>\n",
       "      <td>0</td>\n",
       "      <td>0.0</td>\n",
       "      <td>1</td>\n",
       "      <td>0</td>\n",
       "      <td>0.0</td>\n",
       "      <td>0</td>\n",
       "      <td>13</td>\n",
       "      <td>0</td>\n",
       "      <td>0</td>\n",
       "      <td>43.323947</td>\n",
       "      <td>0</td>\n",
       "      <td>0</td>\n",
       "      <td>0.000000</td>\n",
       "      <td>0.0</td>\n",
       "      <td>0</td>\n",
       "      <td>0</td>\n",
       "      <td>0</td>\n",
       "      <td>0.0</td>\n",
       "      <td>0</td>\n",
       "      <td>0</td>\n",
       "      <td>0</td>\n",
       "      <td>0</td>\n",
       "      <td>0</td>\n",
       "      <td>...</td>\n",
       "      <td>0</td>\n",
       "      <td>Food &amp; Staples Retailing</td>\n",
       "      <td>0</td>\n",
       "      <td>1</td>\n",
       "      <td>0</td>\n",
       "      <td>42.335315</td>\n",
       "      <td>5</td>\n",
       "      <td>3</td>\n",
       "      <td>0</td>\n",
       "      <td>0.0</td>\n",
       "      <td>0</td>\n",
       "      <td>0</td>\n",
       "      <td>0</td>\n",
       "      <td>0</td>\n",
       "      <td>0</td>\n",
       "      <td>0</td>\n",
       "      <td>0</td>\n",
       "      <td>0.000000</td>\n",
       "      <td>0</td>\n",
       "      <td>0.0</td>\n",
       "      <td>0</td>\n",
       "      <td>0</td>\n",
       "      <td>0</td>\n",
       "      <td>0.0</td>\n",
       "      <td>0.0</td>\n",
       "      <td>0.0</td>\n",
       "      <td>0</td>\n",
       "      <td>0</td>\n",
       "      <td>0</td>\n",
       "      <td>0.0</td>\n",
       "      <td>0</td>\n",
       "      <td>0</td>\n",
       "      <td>0</td>\n",
       "      <td>0</td>\n",
       "      <td>0</td>\n",
       "      <td>0</td>\n",
       "      <td>0.0</td>\n",
       "      <td>0</td>\n",
       "      <td>0</td>\n",
       "      <td>0</td>\n",
       "      <td>0</td>\n",
       "      <td>0</td>\n",
       "      <td>0</td>\n",
       "      <td>0</td>\n",
       "      <td>0</td>\n",
       "      <td>0</td>\n",
       "      <td>2</td>\n",
       "      <td>26.010373</td>\n",
       "      <td>0.0</td>\n",
       "      <td>0.0</td>\n",
       "    </tr>\n",
       "    <tr>\n",
       "      <th>2</th>\n",
       "      <td>2</td>\n",
       "      <td>0</td>\n",
       "      <td>0</td>\n",
       "      <td>0</td>\n",
       "      <td>0</td>\n",
       "      <td>0</td>\n",
       "      <td>0</td>\n",
       "      <td>0</td>\n",
       "      <td>0</td>\n",
       "      <td>0</td>\n",
       "      <td>0.000000</td>\n",
       "      <td>0</td>\n",
       "      <td>0</td>\n",
       "      <td>0</td>\n",
       "      <td>0</td>\n",
       "      <td>0</td>\n",
       "      <td>0</td>\n",
       "      <td>93638.46286</td>\n",
       "      <td>0</td>\n",
       "      <td>0.000000</td>\n",
       "      <td>264.225940</td>\n",
       "      <td>1</td>\n",
       "      <td>0</td>\n",
       "      <td>0.000000</td>\n",
       "      <td>0</td>\n",
       "      <td>0</td>\n",
       "      <td>0</td>\n",
       "      <td>0</td>\n",
       "      <td>0.0</td>\n",
       "      <td>1</td>\n",
       "      <td>0</td>\n",
       "      <td>0.0</td>\n",
       "      <td>0</td>\n",
       "      <td>21</td>\n",
       "      <td>0</td>\n",
       "      <td>0</td>\n",
       "      <td>108.580345</td>\n",
       "      <td>0</td>\n",
       "      <td>0</td>\n",
       "      <td>0.000000</td>\n",
       "      <td>0.0</td>\n",
       "      <td>0</td>\n",
       "      <td>0</td>\n",
       "      <td>0</td>\n",
       "      <td>0.0</td>\n",
       "      <td>0</td>\n",
       "      <td>0</td>\n",
       "      <td>0</td>\n",
       "      <td>0</td>\n",
       "      <td>0</td>\n",
       "      <td>...</td>\n",
       "      <td>0</td>\n",
       "      <td>Hotels, Restaurants &amp; Leisure</td>\n",
       "      <td>0</td>\n",
       "      <td>0</td>\n",
       "      <td>0</td>\n",
       "      <td>0.000000</td>\n",
       "      <td>0</td>\n",
       "      <td>4</td>\n",
       "      <td>0</td>\n",
       "      <td>0.0</td>\n",
       "      <td>0</td>\n",
       "      <td>0</td>\n",
       "      <td>0</td>\n",
       "      <td>0</td>\n",
       "      <td>0</td>\n",
       "      <td>0</td>\n",
       "      <td>0</td>\n",
       "      <td>0.000000</td>\n",
       "      <td>0</td>\n",
       "      <td>0.0</td>\n",
       "      <td>0</td>\n",
       "      <td>0</td>\n",
       "      <td>0</td>\n",
       "      <td>0.0</td>\n",
       "      <td>0.0</td>\n",
       "      <td>0.0</td>\n",
       "      <td>0</td>\n",
       "      <td>0</td>\n",
       "      <td>0</td>\n",
       "      <td>0.0</td>\n",
       "      <td>0</td>\n",
       "      <td>0</td>\n",
       "      <td>0</td>\n",
       "      <td>0</td>\n",
       "      <td>0</td>\n",
       "      <td>0</td>\n",
       "      <td>0.0</td>\n",
       "      <td>0</td>\n",
       "      <td>0</td>\n",
       "      <td>0</td>\n",
       "      <td>0</td>\n",
       "      <td>0</td>\n",
       "      <td>0</td>\n",
       "      <td>0</td>\n",
       "      <td>0</td>\n",
       "      <td>1</td>\n",
       "      <td>0</td>\n",
       "      <td>2248.357090</td>\n",
       "      <td>0.0</td>\n",
       "      <td>0.0</td>\n",
       "    </tr>\n",
       "    <tr>\n",
       "      <th>3</th>\n",
       "      <td>3</td>\n",
       "      <td>0</td>\n",
       "      <td>0</td>\n",
       "      <td>0</td>\n",
       "      <td>0</td>\n",
       "      <td>2</td>\n",
       "      <td>0</td>\n",
       "      <td>0</td>\n",
       "      <td>0</td>\n",
       "      <td>0</td>\n",
       "      <td>103.288586</td>\n",
       "      <td>0</td>\n",
       "      <td>4</td>\n",
       "      <td>0</td>\n",
       "      <td>0</td>\n",
       "      <td>0</td>\n",
       "      <td>3</td>\n",
       "      <td>487231.87770</td>\n",
       "      <td>0</td>\n",
       "      <td>4542.194026</td>\n",
       "      <td>376.922314</td>\n",
       "      <td>0</td>\n",
       "      <td>0</td>\n",
       "      <td>0.000000</td>\n",
       "      <td>0</td>\n",
       "      <td>0</td>\n",
       "      <td>0</td>\n",
       "      <td>0</td>\n",
       "      <td>0.0</td>\n",
       "      <td>0</td>\n",
       "      <td>0</td>\n",
       "      <td>0.0</td>\n",
       "      <td>0</td>\n",
       "      <td>91</td>\n",
       "      <td>0</td>\n",
       "      <td>0</td>\n",
       "      <td>0.000000</td>\n",
       "      <td>0</td>\n",
       "      <td>0</td>\n",
       "      <td>53.680217</td>\n",
       "      <td>0.0</td>\n",
       "      <td>0</td>\n",
       "      <td>0</td>\n",
       "      <td>0</td>\n",
       "      <td>0.0</td>\n",
       "      <td>0</td>\n",
       "      <td>0</td>\n",
       "      <td>0</td>\n",
       "      <td>0</td>\n",
       "      <td>0</td>\n",
       "      <td>...</td>\n",
       "      <td>0</td>\n",
       "      <td>NaN</td>\n",
       "      <td>0</td>\n",
       "      <td>0</td>\n",
       "      <td>0</td>\n",
       "      <td>742.138216</td>\n",
       "      <td>251</td>\n",
       "      <td>0</td>\n",
       "      <td>0</td>\n",
       "      <td>0.0</td>\n",
       "      <td>0</td>\n",
       "      <td>0</td>\n",
       "      <td>0</td>\n",
       "      <td>0</td>\n",
       "      <td>0</td>\n",
       "      <td>0</td>\n",
       "      <td>0</td>\n",
       "      <td>181.278645</td>\n",
       "      <td>0</td>\n",
       "      <td>0.0</td>\n",
       "      <td>0</td>\n",
       "      <td>1</td>\n",
       "      <td>0</td>\n",
       "      <td>0.0</td>\n",
       "      <td>0.0</td>\n",
       "      <td>0.0</td>\n",
       "      <td>0</td>\n",
       "      <td>0</td>\n",
       "      <td>0</td>\n",
       "      <td>0.0</td>\n",
       "      <td>0</td>\n",
       "      <td>0</td>\n",
       "      <td>0</td>\n",
       "      <td>0</td>\n",
       "      <td>0</td>\n",
       "      <td>0</td>\n",
       "      <td>0.0</td>\n",
       "      <td>0</td>\n",
       "      <td>0</td>\n",
       "      <td>0</td>\n",
       "      <td>0</td>\n",
       "      <td>0</td>\n",
       "      <td>0</td>\n",
       "      <td>0</td>\n",
       "      <td>0</td>\n",
       "      <td>0</td>\n",
       "      <td>0</td>\n",
       "      <td>2285.146561</td>\n",
       "      <td>0.0</td>\n",
       "      <td>0.0</td>\n",
       "    </tr>\n",
       "    <tr>\n",
       "      <th>4</th>\n",
       "      <td>4</td>\n",
       "      <td>0</td>\n",
       "      <td>0</td>\n",
       "      <td>0</td>\n",
       "      <td>0</td>\n",
       "      <td>0</td>\n",
       "      <td>0</td>\n",
       "      <td>0</td>\n",
       "      <td>0</td>\n",
       "      <td>0</td>\n",
       "      <td>0.000000</td>\n",
       "      <td>0</td>\n",
       "      <td>0</td>\n",
       "      <td>0</td>\n",
       "      <td>0</td>\n",
       "      <td>1</td>\n",
       "      <td>0</td>\n",
       "      <td>239895.66040</td>\n",
       "      <td>0</td>\n",
       "      <td>8339.656991</td>\n",
       "      <td>0.000000</td>\n",
       "      <td>1</td>\n",
       "      <td>0</td>\n",
       "      <td>31.790216</td>\n",
       "      <td>0</td>\n",
       "      <td>0</td>\n",
       "      <td>0</td>\n",
       "      <td>0</td>\n",
       "      <td>0.0</td>\n",
       "      <td>0</td>\n",
       "      <td>0</td>\n",
       "      <td>0.0</td>\n",
       "      <td>2</td>\n",
       "      <td>14</td>\n",
       "      <td>0</td>\n",
       "      <td>0</td>\n",
       "      <td>0.000000</td>\n",
       "      <td>0</td>\n",
       "      <td>0</td>\n",
       "      <td>1450.723509</td>\n",
       "      <td>0.0</td>\n",
       "      <td>0</td>\n",
       "      <td>0</td>\n",
       "      <td>0</td>\n",
       "      <td>0.0</td>\n",
       "      <td>1</td>\n",
       "      <td>0</td>\n",
       "      <td>2</td>\n",
       "      <td>0</td>\n",
       "      <td>0</td>\n",
       "      <td>...</td>\n",
       "      <td>1</td>\n",
       "      <td>Industrial Conglomerates</td>\n",
       "      <td>0</td>\n",
       "      <td>0</td>\n",
       "      <td>1</td>\n",
       "      <td>0.000000</td>\n",
       "      <td>11</td>\n",
       "      <td>0</td>\n",
       "      <td>0</td>\n",
       "      <td>0.0</td>\n",
       "      <td>0</td>\n",
       "      <td>0</td>\n",
       "      <td>0</td>\n",
       "      <td>3</td>\n",
       "      <td>0</td>\n",
       "      <td>0</td>\n",
       "      <td>0</td>\n",
       "      <td>0.000000</td>\n",
       "      <td>0</td>\n",
       "      <td>0.0</td>\n",
       "      <td>0</td>\n",
       "      <td>1</td>\n",
       "      <td>0</td>\n",
       "      <td>0.0</td>\n",
       "      <td>0.0</td>\n",
       "      <td>0.0</td>\n",
       "      <td>0</td>\n",
       "      <td>2</td>\n",
       "      <td>0</td>\n",
       "      <td>0.0</td>\n",
       "      <td>0</td>\n",
       "      <td>0</td>\n",
       "      <td>0</td>\n",
       "      <td>0</td>\n",
       "      <td>0</td>\n",
       "      <td>0</td>\n",
       "      <td>0.0</td>\n",
       "      <td>0</td>\n",
       "      <td>0</td>\n",
       "      <td>0</td>\n",
       "      <td>0</td>\n",
       "      <td>0</td>\n",
       "      <td>0</td>\n",
       "      <td>0</td>\n",
       "      <td>0</td>\n",
       "      <td>0</td>\n",
       "      <td>0</td>\n",
       "      <td>98.395599</td>\n",
       "      <td>0.0</td>\n",
       "      <td>0.0</td>\n",
       "    </tr>\n",
       "  </tbody>\n",
       "</table>\n",
       "<p>5 rows × 481 columns</p>\n",
       "</div>"
      ],
      "text/plain": [
       "   id  V_1  V_2  V_3  V_4  V_5  V_6  V_7  V_8  V_9        V_10  V_11  V_12  \\\n",
       "0   0    0    0    0    0    0    0    0    0    0    0.000000     0     0   \n",
       "1   1    0    0    0    0    0    0    0    0    0  110.038907     0     5   \n",
       "2   2    0    0    0    0    0    0    0    0    0    0.000000     0     0   \n",
       "3   3    0    0    0    0    2    0    0    0    0  103.288586     0     4   \n",
       "4   4    0    0    0    0    0    0    0    0    0    0.000000     0     0   \n",
       "\n",
       "   V_13  V_14  V_15  V_16          V_17  V_18         V_19         V_20  V_21  \\\n",
       "0     0     1     0     0  111139.07210     0   520.927066   822.838929     1   \n",
       "1     0     0     0     0   33404.59288     0  1260.420076  1914.446743     0   \n",
       "2     0     0     0     0   93638.46286     0     0.000000   264.225940     1   \n",
       "3     0     0     0     3  487231.87770     0  4542.194026   376.922314     0   \n",
       "4     0     0     1     0  239895.66040     0  8339.656991     0.000000     1   \n",
       "\n",
       "   V_22        V_23  V_24  V_25  V_26  V_27  V_28  V_29  V_30  V_31  V_32  \\\n",
       "0     0  110.906416     0     0     0     0   0.0     3     0   0.0     1   \n",
       "1     0    8.334129     0     0     0     0   0.0     1     0   0.0     0   \n",
       "2     0    0.000000     0     0     0     0   0.0     1     0   0.0     0   \n",
       "3     0    0.000000     0     0     0     0   0.0     0     0   0.0     0   \n",
       "4     0   31.790216     0     0     0     0   0.0     0     0   0.0     2   \n",
       "\n",
       "   V_33  V_34  V_35        V_36  V_37  V_38         V_39  V_40  V_41  V_42  \\\n",
       "0   640     0     0  128.140948     0     0   151.719648   0.0     0     0   \n",
       "1    13     0     0   43.323947     0     0     0.000000   0.0     0     0   \n",
       "2    21     0     0  108.580345     0     0     0.000000   0.0     0     0   \n",
       "3    91     0     0    0.000000     0     0    53.680217   0.0     0     0   \n",
       "4    14     0     0    0.000000     0     0  1450.723509   0.0     0     0   \n",
       "\n",
       "   V_43  V_44  V_45  V_46  V_47  V_48  V_49  ...  V_433  \\\n",
       "0     0   0.0     0     0     0     0     0  ...      0   \n",
       "1     0   0.0     0     0     0     0     0  ...      0   \n",
       "2     0   0.0     0     0     0     0     0  ...      0   \n",
       "3     0   0.0     0     0     0     0     0  ...      0   \n",
       "4     0   0.0     1     0     2     0     0  ...      1   \n",
       "\n",
       "                           V_434  V_435  V_436  V_437       V_438  V_439  \\\n",
       "0            Aerospace & Defense      0      0      0    0.000000      2   \n",
       "1       Food & Staples Retailing      0      1      0   42.335315      5   \n",
       "2  Hotels, Restaurants & Leisure      0      0      0    0.000000      0   \n",
       "3                            NaN      0      0      0  742.138216    251   \n",
       "4       Industrial Conglomerates      0      0      1    0.000000     11   \n",
       "\n",
       "   V_440  V_441  V_442  V_443  V_444  V_445  V_446  V_447  V_448  V_449  \\\n",
       "0      5      0    0.0      0      0      0      0      0      0      0   \n",
       "1      3      0    0.0      0      0      0      0      0      0      0   \n",
       "2      4      0    0.0      0      0      0      0      0      0      0   \n",
       "3      0      0    0.0      0      0      0      0      0      0      0   \n",
       "4      0      0    0.0      0      0      0      3      0      0      0   \n",
       "\n",
       "        V_450  V_451  V_452  V_453  V_454  V_455  V_456  V_457  V_458  V_459  \\\n",
       "0  384.761680      0    0.0      0      0      0    0.0    0.0    0.0      0   \n",
       "1    0.000000      0    0.0      0      0      0    0.0    0.0    0.0      0   \n",
       "2    0.000000      0    0.0      0      0      0    0.0    0.0    0.0      0   \n",
       "3  181.278645      0    0.0      0      1      0    0.0    0.0    0.0      0   \n",
       "4    0.000000      0    0.0      0      1      0    0.0    0.0    0.0      0   \n",
       "\n",
       "   V_460  V_461  V_462  V_463  V_464  V_465  V_466  V_467  V_468  V_469  \\\n",
       "0      0      0    0.0      0      0      5      0      0      0    0.0   \n",
       "1      0      0    0.0      0      0      0      0      0      0    0.0   \n",
       "2      0      0    0.0      0      0      0      0      0      0    0.0   \n",
       "3      0      0    0.0      0      0      0      0      0      0    0.0   \n",
       "4      2      0    0.0      0      0      0      0      0      0    0.0   \n",
       "\n",
       "   V_470  V_471  V_472  V_473  V_474  V_475  V_476  V_477  V_478  V_479  \\\n",
       "0      0      0      0      0      0      0      0      0      1      0   \n",
       "1      0      0      0      0      0      0      0      0      0      2   \n",
       "2      0      0      0      0      0      0      0      0      1      0   \n",
       "3      0      0      0      0      0      0      0      0      0      0   \n",
       "4      0      0      0      0      0      0      0      0      0      0   \n",
       "\n",
       "         V_480  V_481  V_482  \n",
       "0     0.000000    0.0    0.0  \n",
       "1    26.010373    0.0    0.0  \n",
       "2  2248.357090    0.0    0.0  \n",
       "3  2285.146561    0.0    0.0  \n",
       "4    98.395599    0.0    0.0  \n",
       "\n",
       "[5 rows x 481 columns]"
      ]
     },
     "execution_count": 6,
     "metadata": {},
     "output_type": "execute_result"
    }
   ],
   "source": [
    "df.head()"
   ]
  },
  {
   "cell_type": "code",
   "execution_count": 7,
   "id": "0252f245",
   "metadata": {
    "execution": {
     "iopub.execute_input": "2022-08-30T13:15:50.590322Z",
     "iopub.status.busy": "2022-08-30T13:15:50.589857Z",
     "iopub.status.idle": "2022-08-30T13:15:50.629493Z",
     "shell.execute_reply": "2022-08-30T13:15:50.628193Z"
    },
    "papermill": {
     "duration": 0.053135,
     "end_time": "2022-08-30T13:15:50.632737",
     "exception": false,
     "start_time": "2022-08-30T13:15:50.579602",
     "status": "completed"
    },
    "tags": []
   },
   "outputs": [
    {
     "name": "stdout",
     "output_type": "stream",
     "text": [
      "<class 'pandas.core.frame.DataFrame'>\n",
      "Int64Index: 221798 entries, 0 to 110898\n",
      "Columns: 481 entries, id to V_482\n",
      "dtypes: float64(98), int64(375), object(8)\n",
      "memory usage: 815.6+ MB\n"
     ]
    }
   ],
   "source": [
    "df.info()"
   ]
  },
  {
   "cell_type": "code",
   "execution_count": 8,
   "id": "34978379",
   "metadata": {
    "execution": {
     "iopub.execute_input": "2022-08-30T13:15:50.651919Z",
     "iopub.status.busy": "2022-08-30T13:15:50.651383Z",
     "iopub.status.idle": "2022-08-30T13:15:51.763171Z",
     "shell.execute_reply": "2022-08-30T13:15:51.761848Z"
    },
    "papermill": {
     "duration": 1.124737,
     "end_time": "2022-08-30T13:15:51.765961",
     "exception": false,
     "start_time": "2022-08-30T13:15:50.641224",
     "status": "completed"
    },
    "tags": []
   },
   "outputs": [
    {
     "data": {
      "text/plain": [
       "V_279    221796\n",
       "V_17     221785\n",
       "V_165    221782\n",
       "V_307    221758\n",
       "V_359    210560\n",
       "V_303    210406\n",
       "V_281    208707\n",
       "V_294    208582\n",
       "V_19     206783\n",
       "V_103    206216\n",
       "V_356    201962\n",
       "V_341    201848\n",
       "V_424    193026\n",
       "V_20     192996\n",
       "V_219    138282\n",
       "V_181    121235\n",
       "id       110899\n",
       "V_480    103375\n",
       "V_36     103075\n",
       "V_110    100395\n",
       "dtype: int64"
      ]
     },
     "execution_count": 8,
     "metadata": {},
     "output_type": "execute_result"
    }
   ],
   "source": [
    "df.nunique().sort_values(ascending=False).head(20)"
   ]
  },
  {
   "cell_type": "code",
   "execution_count": 9,
   "id": "51c3e1eb",
   "metadata": {
    "execution": {
     "iopub.execute_input": "2022-08-30T13:15:51.787710Z",
     "iopub.status.busy": "2022-08-30T13:15:51.787186Z",
     "iopub.status.idle": "2022-08-30T13:15:59.604715Z",
     "shell.execute_reply": "2022-08-30T13:15:59.603228Z"
    },
    "papermill": {
     "duration": 7.833323,
     "end_time": "2022-08-30T13:15:59.607916",
     "exception": false,
     "start_time": "2022-08-30T13:15:51.774593",
     "status": "completed"
    },
    "tags": []
   },
   "outputs": [
    {
     "data": {
      "text/plain": [
       "<AxesSubplot:>"
      ]
     },
     "execution_count": 9,
     "metadata": {},
     "output_type": "execute_result"
    },
    {
     "data": {
      "image/png": "[encoded data removed]",
      "text/plain": [
       "<Figure size 7200x720 with 1 Axes>"
      ]
     },
     "metadata": {
      "needs_background": "light"
     },
     "output_type": "display_data"
    }
   ],
   "source": [
    "plt.figure(figsize=(100,10))\n",
    "df.nunique().sort_values(ascending=False).plot.bar()"
   ]
  },
  {
   "cell_type": "code",
   "execution_count": 10,
   "id": "e554bd27",
   "metadata": {
    "execution": {
     "iopub.execute_input": "2022-08-30T13:15:59.632765Z",
     "iopub.status.busy": "2022-08-30T13:15:59.632227Z",
     "iopub.status.idle": "2022-08-30T13:16:00.791163Z",
     "shell.execute_reply": "2022-08-30T13:16:00.789719Z"
    },
    "papermill": {
     "duration": 1.176122,
     "end_time": "2022-08-30T13:16:00.794070",
     "exception": false,
     "start_time": "2022-08-30T13:15:59.617948",
     "status": "completed"
    },
    "tags": []
   },
   "outputs": [
    {
     "data": {
      "text/plain": [
       "131"
      ]
     },
     "execution_count": 10,
     "metadata": {},
     "output_type": "execute_result"
    }
   ],
   "source": [
    "df.nunique()['V_385'] # From graph"
   ]
  },
  {
   "cell_type": "code",
   "execution_count": 11,
   "id": "07ef804f",
   "metadata": {
    "execution": {
     "iopub.execute_input": "2022-08-30T13:16:00.815945Z",
     "iopub.status.busy": "2022-08-30T13:16:00.815377Z",
     "iopub.status.idle": "2022-08-30T13:16:03.094346Z",
     "shell.execute_reply": "2022-08-30T13:16:03.092806Z"
    },
    "papermill": {
     "duration": 2.293839,
     "end_time": "2022-08-30T13:16:03.097784",
     "exception": false,
     "start_time": "2022-08-30T13:16:00.803945",
     "status": "completed"
    },
    "tags": []
   },
   "outputs": [],
   "source": [
    "object_cols = df.nunique()[df.nunique()<25].index"
   ]
  },
  {
   "cell_type": "code",
   "execution_count": 12,
   "id": "599ad20b",
   "metadata": {
    "execution": {
     "iopub.execute_input": "2022-08-30T13:16:03.120513Z",
     "iopub.status.busy": "2022-08-30T13:16:03.120027Z",
     "iopub.status.idle": "2022-08-30T13:16:03.124977Z",
     "shell.execute_reply": "2022-08-30T13:16:03.124048Z"
    },
    "papermill": {
     "duration": 0.019248,
     "end_time": "2022-08-30T13:16:03.127165",
     "exception": false,
     "start_time": "2022-08-30T13:16:03.107917",
     "status": "completed"
    },
    "tags": []
   },
   "outputs": [],
   "source": [
    "#df.loc[:, object_cols] = df[object_cols].astype(object)"
   ]
  },
  {
   "cell_type": "code",
   "execution_count": 13,
   "id": "6a960a85",
   "metadata": {
    "execution": {
     "iopub.execute_input": "2022-08-30T13:16:03.149475Z",
     "iopub.status.busy": "2022-08-30T13:16:03.148972Z",
     "iopub.status.idle": "2022-08-30T13:16:03.167321Z",
     "shell.execute_reply": "2022-08-30T13:16:03.165926Z"
    },
    "papermill": {
     "duration": 0.032781,
     "end_time": "2022-08-30T13:16:03.169995",
     "exception": false,
     "start_time": "2022-08-30T13:16:03.137214",
     "status": "completed"
    },
    "tags": []
   },
   "outputs": [
    {
     "name": "stdout",
     "output_type": "stream",
     "text": [
      "<class 'pandas.core.frame.DataFrame'>\n",
      "Int64Index: 221798 entries, 0 to 110898\n",
      "Columns: 481 entries, id to V_482\n",
      "dtypes: float64(98), int64(375), object(8)\n",
      "memory usage: 815.6+ MB\n"
     ]
    }
   ],
   "source": [
    "df.info()"
   ]
  },
  {
   "cell_type": "code",
   "execution_count": 14,
   "id": "41eef0a6",
   "metadata": {
    "execution": {
     "iopub.execute_input": "2022-08-30T13:16:03.192460Z",
     "iopub.status.busy": "2022-08-30T13:16:03.191166Z",
     "iopub.status.idle": "2022-08-30T13:16:03.821351Z",
     "shell.execute_reply": "2022-08-30T13:16:03.819993Z"
    },
    "papermill": {
     "duration": 0.64402,
     "end_time": "2022-08-30T13:16:03.823934",
     "exception": false,
     "start_time": "2022-08-30T13:16:03.179914",
     "status": "completed"
    },
    "tags": []
   },
   "outputs": [
    {
     "data": {
      "text/plain": [
       "V_301    12536\n",
       "V_304     3015\n",
       "V_434    12670\n",
       "dtype: int64"
      ]
     },
     "execution_count": 14,
     "metadata": {},
     "output_type": "execute_result"
    }
   ],
   "source": [
    "df.isnull().sum()[df.isnull().sum()>0]"
   ]
  },
  {
   "cell_type": "code",
   "execution_count": 15,
   "id": "76288f23",
   "metadata": {
    "execution": {
     "iopub.execute_input": "2022-08-30T13:16:03.847025Z",
     "iopub.status.busy": "2022-08-30T13:16:03.845839Z",
     "iopub.status.idle": "2022-08-30T13:16:04.955092Z",
     "shell.execute_reply": "2022-08-30T13:16:04.953737Z"
    },
    "papermill": {
     "duration": 1.125257,
     "end_time": "2022-08-30T13:16:04.959370",
     "exception": false,
     "start_time": "2022-08-30T13:16:03.834113",
     "status": "completed"
    },
    "tags": []
   },
   "outputs": [
    {
     "name": "stdout",
     "output_type": "stream",
     "text": [
      "<class 'pandas.core.frame.DataFrame'>\n",
      "Int64Index: 221798 entries, 0 to 110898\n",
      "Data columns (total 3 columns):\n",
      " #   Column  Non-Null Count   Dtype \n",
      "---  ------  --------------   ----- \n",
      " 0   V_301   209262 non-null  object\n",
      " 1   V_304   218783 non-null  object\n",
      " 2   V_434   209128 non-null  object\n",
      "dtypes: object(3)\n",
      "memory usage: 6.8+ MB\n"
     ]
    }
   ],
   "source": [
    "df[['V_301', 'V_304', 'V_434']].info() # we can fill with NaN string"
   ]
  },
  {
   "cell_type": "code",
   "execution_count": 16,
   "id": "992d680c",
   "metadata": {
    "execution": {
     "iopub.execute_input": "2022-08-30T13:16:04.984848Z",
     "iopub.status.busy": "2022-08-30T13:16:04.983869Z",
     "iopub.status.idle": "2022-08-30T13:16:04.988843Z",
     "shell.execute_reply": "2022-08-30T13:16:04.987978Z"
    },
    "papermill": {
     "duration": 0.019899,
     "end_time": "2022-08-30T13:16:04.991128",
     "exception": false,
     "start_time": "2022-08-30T13:16:04.971229",
     "status": "completed"
    },
    "tags": []
   },
   "outputs": [],
   "source": [
    "#df.fillna('NaN', inplace=True)"
   ]
  },
  {
   "cell_type": "code",
   "execution_count": 17,
   "id": "a29ece91",
   "metadata": {
    "execution": {
     "iopub.execute_input": "2022-08-30T13:16:05.013916Z",
     "iopub.status.busy": "2022-08-30T13:16:05.013028Z",
     "iopub.status.idle": "2022-08-30T13:16:05.023628Z",
     "shell.execute_reply": "2022-08-30T13:16:05.022330Z"
    },
    "papermill": {
     "duration": 0.02508,
     "end_time": "2022-08-30T13:16:05.026357",
     "exception": false,
     "start_time": "2022-08-30T13:16:05.001277",
     "status": "completed"
    },
    "tags": []
   },
   "outputs": [
    {
     "data": {
      "text/plain": [
       "0    89367\n",
       "1    21532\n",
       "Name: TARGET, dtype: int64"
      ]
     },
     "execution_count": 17,
     "metadata": {},
     "output_type": "execute_result"
    }
   ],
   "source": [
    "train_labels.value_counts()"
   ]
  },
  {
   "cell_type": "markdown",
   "id": "64290e81",
   "metadata": {
    "papermill": {
     "duration": 0.009564,
     "end_time": "2022-08-30T13:16:05.046036",
     "exception": false,
     "start_time": "2022-08-30T13:16:05.036472",
     "status": "completed"
    },
    "tags": []
   },
   "source": [
    "## Training and Prediction"
   ]
  },
  {
   "cell_type": "code",
   "execution_count": 18,
   "id": "f536471d",
   "metadata": {
    "execution": {
     "iopub.execute_input": "2022-08-30T13:16:05.068135Z",
     "iopub.status.busy": "2022-08-30T13:16:05.067588Z",
     "iopub.status.idle": "2022-08-30T13:16:05.101142Z",
     "shell.execute_reply": "2022-08-30T13:16:05.100036Z"
    },
    "papermill": {
     "duration": 0.048357,
     "end_time": "2022-08-30T13:16:05.104185",
     "exception": false,
     "start_time": "2022-08-30T13:16:05.055828",
     "status": "completed"
    },
    "tags": []
   },
   "outputs": [
    {
     "name": "stdout",
     "output_type": "stream",
     "text": [
      "<class 'pandas.core.frame.DataFrame'>\n",
      "Int64Index: 221798 entries, 0 to 110898\n",
      "Columns: 481 entries, id to V_482\n",
      "dtypes: float64(98), int64(375), object(8)\n",
      "memory usage: 815.6+ MB\n"
     ]
    }
   ],
   "source": [
    "df.info()"
   ]
  },
  {
   "cell_type": "code",
   "execution_count": 19,
   "id": "16c19dda",
   "metadata": {
    "execution": {
     "iopub.execute_input": "2022-08-30T13:16:05.127387Z",
     "iopub.status.busy": "2022-08-30T13:16:05.126811Z",
     "iopub.status.idle": "2022-08-30T13:16:07.525532Z",
     "shell.execute_reply": "2022-08-30T13:16:07.524031Z"
    },
    "papermill": {
     "duration": 2.41442,
     "end_time": "2022-08-30T13:16:07.528894",
     "exception": false,
     "start_time": "2022-08-30T13:16:05.114474",
     "status": "completed"
    },
    "tags": []
   },
   "outputs": [],
   "source": [
    "df_dummies = pd.get_dummies(df.drop(columns='id'), drop_first=True)"
   ]
  },
  {
   "cell_type": "code",
   "execution_count": 20,
   "id": "398ad467",
   "metadata": {
    "execution": {
     "iopub.execute_input": "2022-08-30T13:16:07.551765Z",
     "iopub.status.busy": "2022-08-30T13:16:07.551231Z",
     "iopub.status.idle": "2022-08-30T13:16:07.558117Z",
     "shell.execute_reply": "2022-08-30T13:16:07.556917Z"
    },
    "papermill": {
     "duration": 0.021525,
     "end_time": "2022-08-30T13:16:07.560618",
     "exception": false,
     "start_time": "2022-08-30T13:16:07.539093",
     "status": "completed"
    },
    "tags": []
   },
   "outputs": [],
   "source": [
    "df_train = df_dummies[:train.shape[0]]\n",
    "df_test = df_dummies[train.shape[0]:]"
   ]
  },
  {
   "cell_type": "code",
   "execution_count": 21,
   "id": "458c4bde",
   "metadata": {
    "execution": {
     "iopub.execute_input": "2022-08-30T13:16:07.583653Z",
     "iopub.status.busy": "2022-08-30T13:16:07.582584Z",
     "iopub.status.idle": "2022-08-30T13:16:08.728207Z",
     "shell.execute_reply": "2022-08-30T13:16:08.726770Z"
    },
    "papermill": {
     "duration": 1.16072,
     "end_time": "2022-08-30T13:16:08.731471",
     "exception": false,
     "start_time": "2022-08-30T13:16:07.570751",
     "status": "completed"
    },
    "tags": []
   },
   "outputs": [],
   "source": [
    "x_train, x_test, y_train, y_test = train_test_split(df_train, train_labels, train_size=0.2, random_state=4)"
   ]
  },
  {
   "cell_type": "code",
   "execution_count": 22,
   "id": "da73ecb7",
   "metadata": {
    "execution": {
     "iopub.execute_input": "2022-08-30T13:16:08.754143Z",
     "iopub.status.busy": "2022-08-30T13:16:08.753602Z",
     "iopub.status.idle": "2022-08-30T13:16:38.960143Z",
     "shell.execute_reply": "2022-08-30T13:16:38.958864Z"
    },
    "papermill": {
     "duration": 30.231211,
     "end_time": "2022-08-30T13:16:38.972990",
     "exception": false,
     "start_time": "2022-08-30T13:16:08.741779",
     "status": "completed"
    },
    "tags": []
   },
   "outputs": [
    {
     "data": {
      "text/plain": [
       "(0.8264201983769162,\n",
       " 0.6585453242565389,\n",
       " 0.21409435061153173,\n",
       " 0.32313642756680727)"
      ]
     },
     "execution_count": 22,
     "metadata": {},
     "output_type": "execute_result"
    }
   ],
   "source": [
    "xgbc=XGBClassifier()\n",
    "predict = xgbc.fit(x_train, y_train).predict(x_test)\n",
    "accuracy_score(y_test,predict), precision_score(y_test,predict), recall_score(y_test,predict), f1_score(y_test,predict)"
   ]
  },
  {
   "cell_type": "code",
   "execution_count": 23,
   "id": "1e9d0aa3",
   "metadata": {
    "execution": {
     "iopub.execute_input": "2022-08-30T13:16:38.994856Z",
     "iopub.status.busy": "2022-08-30T13:16:38.994340Z",
     "iopub.status.idle": "2022-08-30T13:19:09.871408Z",
     "shell.execute_reply": "2022-08-30T13:19:09.870111Z"
    },
    "papermill": {
     "duration": 150.892042,
     "end_time": "2022-08-30T13:19:09.874930",
     "exception": false,
     "start_time": "2022-08-30T13:16:38.982888",
     "status": "completed"
    },
    "tags": []
   },
   "outputs": [],
   "source": [
    "pred = xgbc.fit(df_train, train_labels).predict(df_test)"
   ]
  },
  {
   "cell_type": "code",
   "execution_count": 24,
   "id": "a1ef928b",
   "metadata": {
    "execution": {
     "iopub.execute_input": "2022-08-30T13:19:09.899734Z",
     "iopub.status.busy": "2022-08-30T13:19:09.899191Z",
     "iopub.status.idle": "2022-08-30T13:19:10.038730Z",
     "shell.execute_reply": "2022-08-30T13:19:10.037541Z"
    },
    "papermill": {
     "duration": 0.154627,
     "end_time": "2022-08-30T13:19:10.041650",
     "exception": false,
     "start_time": "2022-08-30T13:19:09.887023",
     "status": "completed"
    },
    "tags": []
   },
   "outputs": [
    {
     "data": {
      "text/html": [
       "<div>\n",
       "<style scoped>\n",
       "    .dataframe tbody tr th:only-of-type {\n",
       "        vertical-align: middle;\n",
       "    }\n",
       "\n",
       "    .dataframe tbody tr th {\n",
       "        vertical-align: top;\n",
       "    }\n",
       "\n",
       "    .dataframe thead th {\n",
       "        text-align: right;\n",
       "    }\n",
       "</style>\n",
       "<table border=\"1\" class=\"dataframe\">\n",
       "  <thead>\n",
       "    <tr style=\"text-align: right;\">\n",
       "      <th></th>\n",
       "      <th>id</th>\n",
       "      <th>TARGET</th>\n",
       "    </tr>\n",
       "  </thead>\n",
       "  <tbody>\n",
       "    <tr>\n",
       "      <th>0</th>\n",
       "      <td>0</td>\n",
       "      <td>0</td>\n",
       "    </tr>\n",
       "    <tr>\n",
       "      <th>1</th>\n",
       "      <td>1</td>\n",
       "      <td>0</td>\n",
       "    </tr>\n",
       "    <tr>\n",
       "      <th>2</th>\n",
       "      <td>2</td>\n",
       "      <td>0</td>\n",
       "    </tr>\n",
       "    <tr>\n",
       "      <th>3</th>\n",
       "      <td>3</td>\n",
       "      <td>0</td>\n",
       "    </tr>\n",
       "    <tr>\n",
       "      <th>4</th>\n",
       "      <td>4</td>\n",
       "      <td>0</td>\n",
       "    </tr>\n",
       "  </tbody>\n",
       "</table>\n",
       "</div>"
      ],
      "text/plain": [
       "   id  TARGET\n",
       "0   0       0\n",
       "1   1       0\n",
       "2   2       0\n",
       "3   3       0\n",
       "4   4       0"
      ]
     },
     "execution_count": 24,
     "metadata": {},
     "output_type": "execute_result"
    }
   ],
   "source": [
    "submission = pd.DataFrame(train.id)\n",
    "submission['TARGET'] = pred\n",
    "submission.to_csv('submission.csv', index=False)\n",
    "submission.head()"
   ]
  },
  {
   "cell_type": "code",
   "execution_count": null,
   "id": "417bd174",
   "metadata": {
    "papermill": {
     "duration": 0.010123,
     "end_time": "2022-08-30T13:19:10.062552",
     "exception": false,
     "start_time": "2022-08-30T13:19:10.052429",
     "status": "completed"
    },
    "tags": []
   },
   "outputs": [],
   "source": []
  }
 ],
 "metadata": {
  "kernelspec": {
   "display_name": "Python 3 (ipykernel)",
   "language": "python",
   "name": "python3"
  },
  "language_info": {
   "codemirror_mode": {
    "name": "ipython",
    "version": 3
   },
   "file_extension": ".py",
   "mimetype": "text/x-python",
   "name": "python",
   "nbconvert_exporter": "python",
   "pygments_lexer": "ipython3",
   "version": "3.9.12"
  },
  "papermill": {
   "default_parameters": {},
   "duration": 230.606207,
   "end_time": "2022-08-30T13:19:11.603691",
   "environment_variables": {},
   "exception": null,
   "input_path": "__notebook__.ipynb",
   "output_path": "__notebook__.ipynb",
   "parameters": {},
   "start_time": "2022-08-30T13:15:20.997484",
   "version": "2.3.4"
  },
  "toc": {
   "base_numbering": 1,
   "nav_menu": {},
   "number_sections": true,
   "sideBar": true,
   "skip_h1_title": false,
   "title_cell": "Table of Contents",
   "title_sidebar": "Contents",
   "toc_cell": false,
   "toc_position": {},
   "toc_section_display": true,
   "toc_window_display": false
  },
  "varInspector": {
   "cols": {
    "lenName": 16,
    "lenType": 16,
    "lenVar": 40
   },
   "kernels_config": {
    "python": {
     "delete_cmd_postfix": "",
     "delete_cmd_prefix": "del ",
     "library": "var_list.py",
     "varRefreshCmd": "print(var_dic_list())"
    },
    "r": {
     "delete_cmd_postfix": ") ",
     "delete_cmd_prefix": "rm(",
     "library": "var_list.r",
     "varRefreshCmd": "cat(var_dic_list()) "
    }
   },
   "types_to_exclude": [
    "module",
    "function",
    "builtin_function_or_method",
    "instance",
    "_Feature"
   ],
   "window_display": false
  }
 },
 "nbformat": 4,
 "nbformat_minor": 5
}
