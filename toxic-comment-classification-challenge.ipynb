{
 "cells": [
  {
   "cell_type": "code",
   "execution_count": 1,
   "id": "fb67c56c",
   "metadata": {
    "_cell_guid": "b1076dfc-b9ad-4769-8c92-a6c4dae69d19",
    "_uuid": "8f2839f25d086af736a60e9eeb907d3b93b6e0e5",
    "execution": {
     "iopub.execute_input": "2022-08-29T06:55:58.539358Z",
     "iopub.status.busy": "2022-08-29T06:55:58.538307Z",
     "iopub.status.idle": "2022-08-29T06:55:58.556682Z",
     "shell.execute_reply": "2022-08-29T06:55:58.555411Z"
    },
    "papermill": {
     "duration": 0.032773,
     "end_time": "2022-08-29T06:55:58.560632",
     "exception": false,
     "start_time": "2022-08-29T06:55:58.527859",
     "status": "completed"
    },
    "tags": []
   },
   "outputs": [
    {
     "name": "stdout",
     "output_type": "stream",
     "text": [
      "/kaggle/input/jigsaw-toxic-comment-classification-challenge/train.csv.zip\n",
      "/kaggle/input/jigsaw-toxic-comment-classification-challenge/sample_submission.csv.zip\n",
      "/kaggle/input/jigsaw-toxic-comment-classification-challenge/test_labels.csv.zip\n",
      "/kaggle/input/jigsaw-toxic-comment-classification-challenge/test.csv.zip\n"
     ]
    }
   ],
   "source": [
    "# This Python 3 environment comes with many helpful analytics libraries installed\n",
    "# It is defined by the kaggle/python Docker image: https://github.com/kaggle/docker-python\n",
    "# For example, here's several helpful packages to load\n",
    "\n",
    "import numpy as np # linear algebra\n",
    "import pandas as pd # data processing, CSV file I/O (e.g. pd.read_csv)\n",
    "\n",
    "# Input data files are available in the read-only \"../input/\" directory\n",
    "# For example, running this (by clicking run or pressing Shift+Enter) will list all files under the input directory\n",
    "\n",
    "import os\n",
    "for dirname, _, filenames in os.walk('/kaggle/input'):\n",
    "    for filename in filenames:\n",
    "        print(os.path.join(dirname, filename))\n",
    "\n",
    "# You can write up to 20GB to the current directory (/kaggle/working/) that gets preserved as output when you create a version using \"Save & Run All\" \n",
    "# You can also write temporary files to /kaggle/temp/, but they won't be saved outside of the current session"
   ]
  },
  {
   "cell_type": "code",
   "execution_count": 2,
   "id": "44169a31",
   "metadata": {
    "execution": {
     "iopub.execute_input": "2022-08-29T06:55:58.577138Z",
     "iopub.status.busy": "2022-08-29T06:55:58.576724Z",
     "iopub.status.idle": "2022-08-29T06:56:12.173597Z",
     "shell.execute_reply": "2022-08-29T06:56:12.172252Z"
    },
    "papermill": {
     "duration": 13.608358,
     "end_time": "2022-08-29T06:56:12.176809",
     "exception": false,
     "start_time": "2022-08-29T06:55:58.568451",
     "status": "completed"
    },
    "tags": []
   },
   "outputs": [],
   "source": [
    "import pandas as pd\n",
    "pd.set_option('display.max_columns',100)\n",
    "import numpy as np\n",
    "import scipy as sp\n",
    "\n",
    "import warnings\n",
    "warnings.filterwarnings('ignore')\n",
    "\n",
    "# Plotting packs\n",
    "import matplotlib.pyplot as plt\n",
    "%matplotlib inline\n",
    "import seaborn as sns\n",
    "\n",
    "#NLP packs\n",
    "import nltk\n",
    "from nltk.stem.snowball import SnowballStemmer\n",
    "from nltk.corpus import stopwords\n",
    "from stop_words import get_stop_words\n",
    "from textblob import TextBlob , Word\n",
    "import re \n",
    "import string\n",
    "import spacy\n",
    "from tqdm.notebook import tqdm\n",
    "\n",
    "##Wordcloud Modules\n",
    "from wordcloud import WordCloud , STOPWORDS\n",
    "\n",
    "#Machine learning Packs\n",
    "from sklearn.feature_extraction.text import CountVectorizer,TfidfVectorizer\n",
    "from sklearn.model_selection import train_test_split\n",
    "from sklearn.naive_bayes import MultinomialNB, BernoulliNB \n",
    "from sklearn.neighbors import KNeighborsClassifier \n",
    "from xgboost import XGBClassifier\n",
    "from sklearn.linear_model import LogisticRegression \n",
    "from sklearn.ensemble import RandomForestClassifier, AdaBoostClassifier, GradientBoostingClassifier\n",
    "from sklearn.tree import DecisionTreeClassifier\n",
    "from sklearn.metrics import classification_report, accuracy_score, confusion_matrix, precision_score, recall_score, f1_score"
   ]
  },
  {
   "cell_type": "code",
   "execution_count": 3,
   "id": "793a01fb",
   "metadata": {
    "execution": {
     "iopub.execute_input": "2022-08-29T06:56:12.192299Z",
     "iopub.status.busy": "2022-08-29T06:56:12.191518Z",
     "iopub.status.idle": "2022-08-29T06:56:16.335670Z",
     "shell.execute_reply": "2022-08-29T06:56:16.334625Z"
    },
    "papermill": {
     "duration": 4.154837,
     "end_time": "2022-08-29T06:56:16.338419",
     "exception": false,
     "start_time": "2022-08-29T06:56:12.183582",
     "status": "completed"
    },
    "tags": []
   },
   "outputs": [],
   "source": [
    "train = pd.read_csv('../input/jigsaw-toxic-comment-classification-challenge/train.csv.zip',encoding = 'ISO-8859-1')\n",
    "test_labels = pd.read_csv('../input/jigsaw-toxic-comment-classification-challenge/test_labels.csv.zip',encoding = 'ISO-8859-1')\n",
    "test = pd.read_csv('../input/jigsaw-toxic-comment-classification-challenge/test.csv.zip',encoding = 'ISO-8859-1')\n",
    "submission = pd.read_csv('../input/jigsaw-toxic-comment-classification-challenge/sample_submission.csv.zip',encoding = 'ISO-8859-1' )"
   ]
  },
  {
   "cell_type": "code",
   "execution_count": 4,
   "id": "6ad14dd2",
   "metadata": {
    "execution": {
     "iopub.execute_input": "2022-08-29T06:56:16.353923Z",
     "iopub.status.busy": "2022-08-29T06:56:16.352786Z",
     "iopub.status.idle": "2022-08-29T06:56:16.383786Z",
     "shell.execute_reply": "2022-08-29T06:56:16.382631Z"
    },
    "papermill": {
     "duration": 0.041844,
     "end_time": "2022-08-29T06:56:16.387008",
     "exception": false,
     "start_time": "2022-08-29T06:56:16.345164",
     "status": "completed"
    },
    "tags": []
   },
   "outputs": [
    {
     "data": {
      "text/html": [
       "<div>\n",
       "<style scoped>\n",
       "    .dataframe tbody tr th:only-of-type {\n",
       "        vertical-align: middle;\n",
       "    }\n",
       "\n",
       "    .dataframe tbody tr th {\n",
       "        vertical-align: top;\n",
       "    }\n",
       "\n",
       "    .dataframe thead th {\n",
       "        text-align: right;\n",
       "    }\n",
       "</style>\n",
       "<table border=\"1\" class=\"dataframe\">\n",
       "  <thead>\n",
       "    <tr style=\"text-align: right;\">\n",
       "      <th></th>\n",
       "      <th>id</th>\n",
       "      <th>comment_text</th>\n",
       "      <th>toxic</th>\n",
       "      <th>severe_toxic</th>\n",
       "      <th>obscene</th>\n",
       "      <th>threat</th>\n",
       "      <th>insult</th>\n",
       "      <th>identity_hate</th>\n",
       "    </tr>\n",
       "  </thead>\n",
       "  <tbody>\n",
       "    <tr>\n",
       "      <th>49780</th>\n",
       "      <td>851b7d369ae66638</td>\n",
       "      <td>\"\\n\\nNo, I am not Kimes. As I have stated, I a...</td>\n",
       "      <td>0</td>\n",
       "      <td>0</td>\n",
       "      <td>0</td>\n",
       "      <td>0</td>\n",
       "      <td>0</td>\n",
       "      <td>0</td>\n",
       "    </tr>\n",
       "    <tr>\n",
       "      <th>35032</th>\n",
       "      <td>5d8d20eefadd8e14</td>\n",
       "      <td>I am going to shoot you in the head and laugh ...</td>\n",
       "      <td>1</td>\n",
       "      <td>1</td>\n",
       "      <td>0</td>\n",
       "      <td>1</td>\n",
       "      <td>0</td>\n",
       "      <td>0</td>\n",
       "    </tr>\n",
       "    <tr>\n",
       "      <th>122575</th>\n",
       "      <td>8fa3c0425d0cb47c</td>\n",
       "      <td>We aren't going to agree because you don't und...</td>\n",
       "      <td>0</td>\n",
       "      <td>0</td>\n",
       "      <td>0</td>\n",
       "      <td>0</td>\n",
       "      <td>0</td>\n",
       "      <td>0</td>\n",
       "    </tr>\n",
       "    <tr>\n",
       "      <th>145337</th>\n",
       "      <td>1b0eeecf73b04e86</td>\n",
       "      <td>If it wasnt murder than what was it?</td>\n",
       "      <td>0</td>\n",
       "      <td>0</td>\n",
       "      <td>0</td>\n",
       "      <td>0</td>\n",
       "      <td>0</td>\n",
       "      <td>0</td>\n",
       "    </tr>\n",
       "    <tr>\n",
       "      <th>150176</th>\n",
       "      <td>67dea5da48a601ed</td>\n",
       "      <td>do you have a life at all or do you just down ...</td>\n",
       "      <td>1</td>\n",
       "      <td>0</td>\n",
       "      <td>0</td>\n",
       "      <td>0</td>\n",
       "      <td>0</td>\n",
       "      <td>0</td>\n",
       "    </tr>\n",
       "  </tbody>\n",
       "</table>\n",
       "</div>"
      ],
      "text/plain": [
       "                      id                                       comment_text  \\\n",
       "49780   851b7d369ae66638  \"\\n\\nNo, I am not Kimes. As I have stated, I a...   \n",
       "35032   5d8d20eefadd8e14  I am going to shoot you in the head and laugh ...   \n",
       "122575  8fa3c0425d0cb47c  We aren't going to agree because you don't und...   \n",
       "145337  1b0eeecf73b04e86               If it wasnt murder than what was it?   \n",
       "150176  67dea5da48a601ed  do you have a life at all or do you just down ...   \n",
       "\n",
       "        toxic  severe_toxic  obscene  threat  insult  identity_hate  \n",
       "49780       0             0        0       0       0              0  \n",
       "35032       1             1        0       1       0              0  \n",
       "122575      0             0        0       0       0              0  \n",
       "145337      0             0        0       0       0              0  \n",
       "150176      1             0        0       0       0              0  "
      ]
     },
     "execution_count": 4,
     "metadata": {},
     "output_type": "execute_result"
    }
   ],
   "source": [
    "train.sample(5)"
   ]
  },
  {
   "cell_type": "code",
   "execution_count": 5,
   "id": "5c3df7ac",
   "metadata": {
    "execution": {
     "iopub.execute_input": "2022-08-29T06:56:16.402730Z",
     "iopub.status.busy": "2022-08-29T06:56:16.402112Z",
     "iopub.status.idle": "2022-08-29T06:56:16.415752Z",
     "shell.execute_reply": "2022-08-29T06:56:16.414958Z"
    },
    "papermill": {
     "duration": 0.024214,
     "end_time": "2022-08-29T06:56:16.417999",
     "exception": false,
     "start_time": "2022-08-29T06:56:16.393785",
     "status": "completed"
    },
    "tags": []
   },
   "outputs": [
    {
     "data": {
      "text/html": [
       "<div>\n",
       "<style scoped>\n",
       "    .dataframe tbody tr th:only-of-type {\n",
       "        vertical-align: middle;\n",
       "    }\n",
       "\n",
       "    .dataframe tbody tr th {\n",
       "        vertical-align: top;\n",
       "    }\n",
       "\n",
       "    .dataframe thead th {\n",
       "        text-align: right;\n",
       "    }\n",
       "</style>\n",
       "<table border=\"1\" class=\"dataframe\">\n",
       "  <thead>\n",
       "    <tr style=\"text-align: right;\">\n",
       "      <th></th>\n",
       "      <th>id</th>\n",
       "      <th>comment_text</th>\n",
       "    </tr>\n",
       "  </thead>\n",
       "  <tbody>\n",
       "    <tr>\n",
       "      <th>103516</th>\n",
       "      <td>acd155ec05ff40d3</td>\n",
       "      <td>\"::::As for your outspoken liberals, I'm defin...</td>\n",
       "    </tr>\n",
       "    <tr>\n",
       "      <th>124425</th>\n",
       "      <td>cfd7d6e29fc56e19</td>\n",
       "      <td>i mean damm and fuck you</td>\n",
       "    </tr>\n",
       "    <tr>\n",
       "      <th>25033</th>\n",
       "      <td>29b7b4048ee02fbe</td>\n",
       "      <td>\" April 2012 (UTC) \\n ::Yeah, I saw that. I wi...</td>\n",
       "    </tr>\n",
       "    <tr>\n",
       "      <th>36412</th>\n",
       "      <td>3c7b424d2b63f1b9</td>\n",
       "      <td>:::Um. I considered your moves good-faith, if ...</td>\n",
       "    </tr>\n",
       "    <tr>\n",
       "      <th>146069</th>\n",
       "      <td>f4314a4eaebb0a03</td>\n",
       "      <td>== Direct link to user's Talk page. == \\n\\n 30...</td>\n",
       "    </tr>\n",
       "  </tbody>\n",
       "</table>\n",
       "</div>"
      ],
      "text/plain": [
       "                      id                                       comment_text\n",
       "103516  acd155ec05ff40d3  \"::::As for your outspoken liberals, I'm defin...\n",
       "124425  cfd7d6e29fc56e19                           i mean damm and fuck you\n",
       "25033   29b7b4048ee02fbe  \" April 2012 (UTC) \\n ::Yeah, I saw that. I wi...\n",
       "36412   3c7b424d2b63f1b9  :::Um. I considered your moves good-faith, if ...\n",
       "146069  f4314a4eaebb0a03  == Direct link to user's Talk page. == \\n\\n 30..."
      ]
     },
     "execution_count": 5,
     "metadata": {},
     "output_type": "execute_result"
    }
   ],
   "source": [
    "test.sample(5)"
   ]
  },
  {
   "cell_type": "markdown",
   "id": "bc9209c8",
   "metadata": {
    "papermill": {
     "duration": 0.006489,
     "end_time": "2022-08-29T06:56:16.431374",
     "exception": false,
     "start_time": "2022-08-29T06:56:16.424885",
     "status": "completed"
    },
    "tags": []
   },
   "source": [
    "Aslinda test datasinin kullanilmayan kisimlari da var ancak kullanilmayan ksiimlar zaten score a etki etmeyecek bu yuzden cikarmaya greek yok"
   ]
  },
  {
   "cell_type": "code",
   "execution_count": 6,
   "id": "a12ec76b",
   "metadata": {
    "execution": {
     "iopub.execute_input": "2022-08-29T06:56:16.447405Z",
     "iopub.status.busy": "2022-08-29T06:56:16.446298Z",
     "iopub.status.idle": "2022-08-29T06:56:16.482429Z",
     "shell.execute_reply": "2022-08-29T06:56:16.481031Z"
    },
    "papermill": {
     "duration": 0.047205,
     "end_time": "2022-08-29T06:56:16.485472",
     "exception": false,
     "start_time": "2022-08-29T06:56:16.438267",
     "status": "completed"
    },
    "tags": []
   },
   "outputs": [],
   "source": [
    "df = train.append(test)"
   ]
  },
  {
   "cell_type": "code",
   "execution_count": 7,
   "id": "88202fe6",
   "metadata": {
    "execution": {
     "iopub.execute_input": "2022-08-29T06:56:16.501374Z",
     "iopub.status.busy": "2022-08-29T06:56:16.500948Z",
     "iopub.status.idle": "2022-08-29T06:56:16.516561Z",
     "shell.execute_reply": "2022-08-29T06:56:16.515226Z"
    },
    "papermill": {
     "duration": 0.026757,
     "end_time": "2022-08-29T06:56:16.519376",
     "exception": false,
     "start_time": "2022-08-29T06:56:16.492619",
     "status": "completed"
    },
    "tags": []
   },
   "outputs": [
    {
     "data": {
      "text/html": [
       "<div>\n",
       "<style scoped>\n",
       "    .dataframe tbody tr th:only-of-type {\n",
       "        vertical-align: middle;\n",
       "    }\n",
       "\n",
       "    .dataframe tbody tr th {\n",
       "        vertical-align: top;\n",
       "    }\n",
       "\n",
       "    .dataframe thead th {\n",
       "        text-align: right;\n",
       "    }\n",
       "</style>\n",
       "<table border=\"1\" class=\"dataframe\">\n",
       "  <thead>\n",
       "    <tr style=\"text-align: right;\">\n",
       "      <th></th>\n",
       "      <th>id</th>\n",
       "      <th>comment_text</th>\n",
       "      <th>toxic</th>\n",
       "      <th>severe_toxic</th>\n",
       "      <th>obscene</th>\n",
       "      <th>threat</th>\n",
       "      <th>insult</th>\n",
       "      <th>identity_hate</th>\n",
       "    </tr>\n",
       "  </thead>\n",
       "  <tbody>\n",
       "    <tr>\n",
       "      <th>153159</th>\n",
       "      <td>fffcd0960ee309b5</td>\n",
       "      <td>. \\n i totally agree, this stuff is nothing bu...</td>\n",
       "      <td>NaN</td>\n",
       "      <td>NaN</td>\n",
       "      <td>NaN</td>\n",
       "      <td>NaN</td>\n",
       "      <td>NaN</td>\n",
       "      <td>NaN</td>\n",
       "    </tr>\n",
       "    <tr>\n",
       "      <th>153160</th>\n",
       "      <td>fffd7a9a6eb32c16</td>\n",
       "      <td>== Throw from out field to home plate. == \\n\\n...</td>\n",
       "      <td>NaN</td>\n",
       "      <td>NaN</td>\n",
       "      <td>NaN</td>\n",
       "      <td>NaN</td>\n",
       "      <td>NaN</td>\n",
       "      <td>NaN</td>\n",
       "    </tr>\n",
       "    <tr>\n",
       "      <th>153161</th>\n",
       "      <td>fffda9e8d6fafa9e</td>\n",
       "      <td>\" \\n\\n == Okinotorishima categories == \\n\\n I ...</td>\n",
       "      <td>NaN</td>\n",
       "      <td>NaN</td>\n",
       "      <td>NaN</td>\n",
       "      <td>NaN</td>\n",
       "      <td>NaN</td>\n",
       "      <td>NaN</td>\n",
       "    </tr>\n",
       "    <tr>\n",
       "      <th>153162</th>\n",
       "      <td>fffe8f1340a79fc2</td>\n",
       "      <td>\" \\n\\n == \"\"One of the founding nations of the...</td>\n",
       "      <td>NaN</td>\n",
       "      <td>NaN</td>\n",
       "      <td>NaN</td>\n",
       "      <td>NaN</td>\n",
       "      <td>NaN</td>\n",
       "      <td>NaN</td>\n",
       "    </tr>\n",
       "    <tr>\n",
       "      <th>153163</th>\n",
       "      <td>ffffce3fb183ee80</td>\n",
       "      <td>\" \\n :::Stop already. Your bullshit is not wel...</td>\n",
       "      <td>NaN</td>\n",
       "      <td>NaN</td>\n",
       "      <td>NaN</td>\n",
       "      <td>NaN</td>\n",
       "      <td>NaN</td>\n",
       "      <td>NaN</td>\n",
       "    </tr>\n",
       "  </tbody>\n",
       "</table>\n",
       "</div>"
      ],
      "text/plain": [
       "                      id                                       comment_text  \\\n",
       "153159  fffcd0960ee309b5  . \\n i totally agree, this stuff is nothing bu...   \n",
       "153160  fffd7a9a6eb32c16  == Throw from out field to home plate. == \\n\\n...   \n",
       "153161  fffda9e8d6fafa9e  \" \\n\\n == Okinotorishima categories == \\n\\n I ...   \n",
       "153162  fffe8f1340a79fc2  \" \\n\\n == \"\"One of the founding nations of the...   \n",
       "153163  ffffce3fb183ee80  \" \\n :::Stop already. Your bullshit is not wel...   \n",
       "\n",
       "        toxic  severe_toxic  obscene  threat  insult  identity_hate  \n",
       "153159    NaN           NaN      NaN     NaN     NaN            NaN  \n",
       "153160    NaN           NaN      NaN     NaN     NaN            NaN  \n",
       "153161    NaN           NaN      NaN     NaN     NaN            NaN  \n",
       "153162    NaN           NaN      NaN     NaN     NaN            NaN  \n",
       "153163    NaN           NaN      NaN     NaN     NaN            NaN  "
      ]
     },
     "execution_count": 7,
     "metadata": {},
     "output_type": "execute_result"
    }
   ],
   "source": [
    "df.tail()"
   ]
  },
  {
   "cell_type": "markdown",
   "id": "4abc5faf",
   "metadata": {
    "papermill": {
     "duration": 0.007278,
     "end_time": "2022-08-29T06:56:16.534071",
     "exception": false,
     "start_time": "2022-08-29T06:56:16.526793",
     "status": "completed"
    },
    "tags": []
   },
   "source": [
    "## Data Cleaning"
   ]
  },
  {
   "cell_type": "code",
   "execution_count": 8,
   "id": "403b0a0f",
   "metadata": {
    "execution": {
     "iopub.execute_input": "2022-08-29T06:56:16.551947Z",
     "iopub.status.busy": "2022-08-29T06:56:16.550820Z",
     "iopub.status.idle": "2022-08-29T06:56:16.558849Z",
     "shell.execute_reply": "2022-08-29T06:56:16.557708Z"
    },
    "papermill": {
     "duration": 0.019913,
     "end_time": "2022-08-29T06:56:16.561367",
     "exception": false,
     "start_time": "2022-08-29T06:56:16.541454",
     "status": "completed"
    },
    "tags": []
   },
   "outputs": [],
   "source": [
    "def clean_review_text(text):\n",
    "    text = text.lower()  # covert the text to lowercase\n",
    "    text = re.sub('<.*?>','',text).strip() # remove html chars\n",
    "    text = re.sub('\\[|\\(.*\\]|\\)','', text).strip() # remove text in square brackets and parenthesis\n",
    "    text = text.translate(str.maketrans('', '', string.punctuation)) # remove punctuation marks\n",
    "    text = re.sub(\"(\\\\W)\",\" \",text).strip() # remove non-ascii chars\n",
    "    text = re.sub('\\S*\\d\\S*\\s*','', text).strip()  # remove words containing numbers\n",
    "    return text.strip()"
   ]
  },
  {
   "cell_type": "code",
   "execution_count": 9,
   "id": "c7176f5d",
   "metadata": {
    "execution": {
     "iopub.execute_input": "2022-08-29T06:56:16.578135Z",
     "iopub.status.busy": "2022-08-29T06:56:16.577350Z",
     "iopub.status.idle": "2022-08-29T06:56:51.909841Z",
     "shell.execute_reply": "2022-08-29T06:56:51.908464Z"
    },
    "papermill": {
     "duration": 35.344331,
     "end_time": "2022-08-29T06:56:51.913062",
     "exception": false,
     "start_time": "2022-08-29T06:56:16.568731",
     "status": "completed"
    },
    "tags": []
   },
   "outputs": [],
   "source": [
    "df['comment_text']=df['comment_text'].str.lower().str.replace('[^\\w\\s]','').str.replace('\\d+','').str.replace('\\n',' ').replace('\\r','')\n",
    "df['comment_text']=df['comment_text'].apply(clean_review_text)"
   ]
  },
  {
   "cell_type": "code",
   "execution_count": 10,
   "id": "b004f1ec",
   "metadata": {
    "execution": {
     "iopub.execute_input": "2022-08-29T06:56:51.931703Z",
     "iopub.status.busy": "2022-08-29T06:56:51.930368Z",
     "iopub.status.idle": "2022-08-29T07:02:51.483505Z",
     "shell.execute_reply": "2022-08-29T07:02:51.482128Z"
    },
    "papermill": {
     "duration": 359.565559,
     "end_time": "2022-08-29T07:02:51.486724",
     "exception": false,
     "start_time": "2022-08-29T06:56:51.921165",
     "status": "completed"
    },
    "tags": []
   },
   "outputs": [],
   "source": [
    "from nltk.tokenize import word_tokenize\n",
    "snow_stemmer = SnowballStemmer(language='english')\n",
    "nlp = spacy.load('en_core_web_lg')\n",
    "\n",
    "df['comment_text'] = df['comment_text'].apply(lambda x : word_tokenize(x.lower())) # cumle -> words\n",
    "df[\"comment_text\"] = df[\"comment_text\"].apply(lambda x : [word for word in x if word not in set(nlp.Defaults.stop_words)]) # stop words cikarma\n",
    "df[\"comment_text\"] = df[\"comment_text\"].apply(lambda x : [snow_stemmer.stem(word) for word in x]) # kelimelerin kok halleri\n",
    "df[\"comment_text\"] = df[\"comment_text\"].apply(lambda x : \" \".join(x)) # kelimleri birleştirdik"
   ]
  },
  {
   "cell_type": "code",
   "execution_count": 11,
   "id": "6ace5d23",
   "metadata": {
    "execution": {
     "iopub.execute_input": "2022-08-29T07:02:51.504561Z",
     "iopub.status.busy": "2022-08-29T07:02:51.503250Z",
     "iopub.status.idle": "2022-08-29T07:02:51.510057Z",
     "shell.execute_reply": "2022-08-29T07:02:51.508953Z"
    },
    "papermill": {
     "duration": 0.018079,
     "end_time": "2022-08-29T07:02:51.512525",
     "exception": false,
     "start_time": "2022-08-29T07:02:51.494446",
     "status": "completed"
    },
    "tags": []
   },
   "outputs": [
    {
     "data": {
      "text/plain": [
       "\"nlp = spacy.load('en_core_web_lg')\\nwith nlp.disable_pipes():\\n    df_vec = np.array([nlp(text).vector for text in tqdm(df.comment_text)])\""
      ]
     },
     "execution_count": 11,
     "metadata": {},
     "output_type": "execute_result"
    }
   ],
   "source": [
    "'''nlp = spacy.load('en_core_web_lg')\n",
    "with nlp.disable_pipes():\n",
    "    df_vec = np.array([nlp(text).vector for text in tqdm(df.comment_text)])'''"
   ]
  },
  {
   "cell_type": "markdown",
   "id": "99d41ed2",
   "metadata": {
    "papermill": {
     "duration": 0.006878,
     "end_time": "2022-08-29T07:02:51.526848",
     "exception": false,
     "start_time": "2022-08-29T07:02:51.519970",
     "status": "completed"
    },
    "tags": []
   },
   "source": [
    "### Data Visualization"
   ]
  },
  {
   "cell_type": "code",
   "execution_count": 12,
   "id": "457f76f1",
   "metadata": {
    "execution": {
     "iopub.execute_input": "2022-08-29T07:02:51.543204Z",
     "iopub.status.busy": "2022-08-29T07:02:51.542803Z",
     "iopub.status.idle": "2022-08-29T07:02:52.039727Z",
     "shell.execute_reply": "2022-08-29T07:02:52.038448Z"
    },
    "papermill": {
     "duration": 0.508742,
     "end_time": "2022-08-29T07:02:52.042731",
     "exception": false,
     "start_time": "2022-08-29T07:02:51.533989",
     "status": "completed"
    },
    "tags": []
   },
   "outputs": [
    {
     "data": {
      "image/png": "[encoded data removed]",
      "text/plain": [
       "<Figure size 720x720 with 2 Axes>"
      ]
     },
     "metadata": {
      "needs_background": "light"
     },
     "output_type": "display_data"
    }
   ],
   "source": [
    "heatmap_data = train.iloc[:, -6:]\n",
    "plt.figure(figsize=(10, 10))\n",
    "ax = sns.heatmap(heatmap_data.corr(), cmap='coolwarm', annot=True)\n",
    "ax.tick_params(labelsize=10)"
   ]
  },
  {
   "cell_type": "markdown",
   "id": "7bfd8ec2",
   "metadata": {
    "papermill": {
     "duration": 0.008123,
     "end_time": "2022-08-29T07:02:52.060034",
     "exception": false,
     "start_time": "2022-08-29T07:02:52.051911",
     "status": "completed"
    },
    "tags": []
   },
   "source": [
    "### Vectorizer"
   ]
  },
  {
   "cell_type": "code",
   "execution_count": 13,
   "id": "e60f7163",
   "metadata": {
    "execution": {
     "iopub.execute_input": "2022-08-29T07:02:52.078792Z",
     "iopub.status.busy": "2022-08-29T07:02:52.078227Z",
     "iopub.status.idle": "2022-08-29T07:05:15.191312Z",
     "shell.execute_reply": "2022-08-29T07:05:15.189389Z"
    },
    "papermill": {
     "duration": 143.128681,
     "end_time": "2022-08-29T07:05:15.197205",
     "exception": false,
     "start_time": "2022-08-29T07:02:52.068524",
     "status": "completed"
    },
    "tags": []
   },
   "outputs": [],
   "source": [
    "word_vectorizer = TfidfVectorizer(strip_accents='unicode', analyzer='word',token_pattern=r'\\w{1,}',ngram_range=(1, 3), stop_words='english',sublinear_tf=True)\n",
    "df_dtm = word_vectorizer.fit_transform(df[\"comment_text\"])"
   ]
  },
  {
   "cell_type": "code",
   "execution_count": 14,
   "id": "8d3c2497",
   "metadata": {
    "execution": {
     "iopub.execute_input": "2022-08-29T07:05:15.221638Z",
     "iopub.status.busy": "2022-08-29T07:05:15.220324Z",
     "iopub.status.idle": "2022-08-29T07:05:15.677129Z",
     "shell.execute_reply": "2022-08-29T07:05:15.675800Z"
    },
    "papermill": {
     "duration": 0.472082,
     "end_time": "2022-08-29T07:05:15.681165",
     "exception": false,
     "start_time": "2022-08-29T07:05:15.209083",
     "status": "completed"
    },
    "tags": []
   },
   "outputs": [],
   "source": [
    "train_dtm = df_dtm[:train.shape[0]]\n",
    "test_dtm = df_dtm[train.shape[0]:]"
   ]
  },
  {
   "cell_type": "markdown",
   "id": "7fe0ccff",
   "metadata": {
    "papermill": {
     "duration": 0.007914,
     "end_time": "2022-08-29T07:05:15.697738",
     "exception": false,
     "start_time": "2022-08-29T07:05:15.689824",
     "status": "completed"
    },
    "tags": []
   },
   "source": [
    "## Evaluation"
   ]
  },
  {
   "cell_type": "code",
   "execution_count": 15,
   "id": "b1b44d09",
   "metadata": {
    "execution": {
     "iopub.execute_input": "2022-08-29T07:05:15.716477Z",
     "iopub.status.busy": "2022-08-29T07:05:15.716056Z",
     "iopub.status.idle": "2022-08-29T07:05:15.811938Z",
     "shell.execute_reply": "2022-08-29T07:05:15.810418Z"
    },
    "papermill": {
     "duration": 0.110119,
     "end_time": "2022-08-29T07:05:15.816132",
     "exception": false,
     "start_time": "2022-08-29T07:05:15.706013",
     "status": "completed"
    },
    "tags": []
   },
   "outputs": [],
   "source": [
    "X = train_dtm\n",
    "y = train.iloc[:, -6:]\n",
    "x_train, x_test, y_train, y_test = train_test_split(X, y, test_size=0.25, random_state=4)"
   ]
  },
  {
   "cell_type": "code",
   "execution_count": 16,
   "id": "ac8107b8",
   "metadata": {
    "execution": {
     "iopub.execute_input": "2022-08-29T07:05:15.838836Z",
     "iopub.status.busy": "2022-08-29T07:05:15.838000Z",
     "iopub.status.idle": "2022-08-29T07:07:58.341219Z",
     "shell.execute_reply": "2022-08-29T07:07:58.339859Z"
    },
    "papermill": {
     "duration": 162.52439,
     "end_time": "2022-08-29T07:07:58.350554",
     "exception": false,
     "start_time": "2022-08-29T07:05:15.826164",
     "status": "completed"
    },
    "tags": []
   },
   "outputs": [
    {
     "data": {
      "text/plain": [
       "OneVsRestClassifier(estimator=LogisticRegression(C=10, random_state=4,\n",
       "                                                 solver='liblinear'))"
      ]
     },
     "execution_count": 16,
     "metadata": {},
     "output_type": "execute_result"
    }
   ],
   "source": [
    "from sklearn.linear_model import LogisticRegression\n",
    "from sklearn.multiclass import OneVsRestClassifier\n",
    "\n",
    "lr = LogisticRegression(C=10, penalty='l2', solver='liblinear', random_state=4)\n",
    "classifier_ovr = OneVsRestClassifier(lr)\n",
    "classifier_ovr.fit(x_train, y_train)"
   ]
  },
  {
   "cell_type": "code",
   "execution_count": 17,
   "id": "7ea5b2dc",
   "metadata": {
    "execution": {
     "iopub.execute_input": "2022-08-29T07:07:58.369716Z",
     "iopub.status.busy": "2022-08-29T07:07:58.368967Z",
     "iopub.status.idle": "2022-08-29T07:07:58.533432Z",
     "shell.execute_reply": "2022-08-29T07:07:58.531629Z"
    },
    "papermill": {
     "duration": 0.177252,
     "end_time": "2022-08-29T07:07:58.536515",
     "exception": false,
     "start_time": "2022-08-29T07:07:58.359263",
     "status": "completed"
    },
    "tags": []
   },
   "outputs": [],
   "source": [
    "y_test_proba = classifier_ovr.predict_proba(x_test)"
   ]
  },
  {
   "cell_type": "code",
   "execution_count": 18,
   "id": "da8b1496",
   "metadata": {
    "execution": {
     "iopub.execute_input": "2022-08-29T07:07:58.555868Z",
     "iopub.status.busy": "2022-08-29T07:07:58.555059Z",
     "iopub.status.idle": "2022-08-29T07:07:58.571708Z",
     "shell.execute_reply": "2022-08-29T07:07:58.570448Z"
    },
    "papermill": {
     "duration": 0.029253,
     "end_time": "2022-08-29T07:07:58.574366",
     "exception": false,
     "start_time": "2022-08-29T07:07:58.545113",
     "status": "completed"
    },
    "tags": []
   },
   "outputs": [
    {
     "data": {
      "text/plain": [
       "(0.12761398057030027, 0.3560267820049386)"
      ]
     },
     "execution_count": 18,
     "metadata": {},
     "output_type": "execute_result"
    }
   ],
   "source": [
    "from sklearn.metrics import mean_squared_error,r2_score,mean_absolute_error\n",
    "(mean_squared_error(y_test,y_test_proba))**0.5, r2_score(y_test,y_test_proba)"
   ]
  },
  {
   "cell_type": "markdown",
   "id": "c86f9983",
   "metadata": {
    "papermill": {
     "duration": 0.008033,
     "end_time": "2022-08-29T07:07:58.590872",
     "exception": false,
     "start_time": "2022-08-29T07:07:58.582839",
     "status": "completed"
    },
    "tags": []
   },
   "source": [
    "## Training and Prediction"
   ]
  },
  {
   "cell_type": "code",
   "execution_count": 19,
   "id": "e4900f40",
   "metadata": {
    "execution": {
     "iopub.execute_input": "2022-08-29T07:07:58.610722Z",
     "iopub.status.busy": "2022-08-29T07:07:58.609895Z",
     "iopub.status.idle": "2022-08-29T07:11:27.453784Z",
     "shell.execute_reply": "2022-08-29T07:11:27.452344Z"
    },
    "papermill": {
     "duration": 208.866596,
     "end_time": "2022-08-29T07:11:27.466500",
     "exception": false,
     "start_time": "2022-08-29T07:07:58.599904",
     "status": "completed"
    },
    "tags": []
   },
   "outputs": [
    {
     "data": {
      "text/plain": [
       "OneVsRestClassifier(estimator=LogisticRegression(C=10, random_state=4,\n",
       "                                                 solver='liblinear'))"
      ]
     },
     "execution_count": 19,
     "metadata": {},
     "output_type": "execute_result"
    }
   ],
   "source": [
    "from sklearn.linear_model import LogisticRegression\n",
    "from sklearn.multiclass import OneVsRestClassifier\n",
    "\n",
    "lr = LogisticRegression(C=10, penalty='l2', solver='liblinear', random_state=4)\n",
    "classifier_ovr = OneVsRestClassifier(lr)\n",
    "classifier_ovr.fit(X, y)"
   ]
  },
  {
   "cell_type": "code",
   "execution_count": 20,
   "id": "5e685924",
   "metadata": {
    "execution": {
     "iopub.execute_input": "2022-08-29T07:11:27.486351Z",
     "iopub.status.busy": "2022-08-29T07:11:27.485871Z",
     "iopub.status.idle": "2022-08-29T07:11:28.067001Z",
     "shell.execute_reply": "2022-08-29T07:11:28.065727Z"
    },
    "papermill": {
     "duration": 0.594974,
     "end_time": "2022-08-29T07:11:28.070297",
     "exception": false,
     "start_time": "2022-08-29T07:11:27.475323",
     "status": "completed"
    },
    "tags": []
   },
   "outputs": [],
   "source": [
    "pred = classifier_ovr.predict_proba(test_dtm)"
   ]
  },
  {
   "cell_type": "code",
   "execution_count": 21,
   "id": "a4eb844d",
   "metadata": {
    "execution": {
     "iopub.execute_input": "2022-08-29T07:11:28.090363Z",
     "iopub.status.busy": "2022-08-29T07:11:28.089949Z",
     "iopub.status.idle": "2022-08-29T07:11:29.984043Z",
     "shell.execute_reply": "2022-08-29T07:11:29.982861Z"
    },
    "papermill": {
     "duration": 1.907106,
     "end_time": "2022-08-29T07:11:29.986608",
     "exception": false,
     "start_time": "2022-08-29T07:11:28.079502",
     "status": "completed"
    },
    "tags": []
   },
   "outputs": [
    {
     "data": {
      "text/html": [
       "<div>\n",
       "<style scoped>\n",
       "    .dataframe tbody tr th:only-of-type {\n",
       "        vertical-align: middle;\n",
       "    }\n",
       "\n",
       "    .dataframe tbody tr th {\n",
       "        vertical-align: top;\n",
       "    }\n",
       "\n",
       "    .dataframe thead th {\n",
       "        text-align: right;\n",
       "    }\n",
       "</style>\n",
       "<table border=\"1\" class=\"dataframe\">\n",
       "  <thead>\n",
       "    <tr style=\"text-align: right;\">\n",
       "      <th></th>\n",
       "      <th>id</th>\n",
       "      <th>toxic</th>\n",
       "      <th>severe_toxic</th>\n",
       "      <th>obscene</th>\n",
       "      <th>threat</th>\n",
       "      <th>insult</th>\n",
       "      <th>identity_hate</th>\n",
       "    </tr>\n",
       "  </thead>\n",
       "  <tbody>\n",
       "    <tr>\n",
       "      <th>0</th>\n",
       "      <td>00001cee341fdb12</td>\n",
       "      <td>0.992984</td>\n",
       "      <td>0.061572</td>\n",
       "      <td>0.973541</td>\n",
       "      <td>0.009156</td>\n",
       "      <td>0.872076</td>\n",
       "      <td>0.089269</td>\n",
       "    </tr>\n",
       "    <tr>\n",
       "      <th>1</th>\n",
       "      <td>0000247867823ef7</td>\n",
       "      <td>0.005591</td>\n",
       "      <td>0.001875</td>\n",
       "      <td>0.00355</td>\n",
       "      <td>0.001025</td>\n",
       "      <td>0.005427</td>\n",
       "      <td>0.002021</td>\n",
       "    </tr>\n",
       "    <tr>\n",
       "      <th>2</th>\n",
       "      <td>00013b17ad220c46</td>\n",
       "      <td>0.01906</td>\n",
       "      <td>0.002521</td>\n",
       "      <td>0.007678</td>\n",
       "      <td>0.000903</td>\n",
       "      <td>0.009228</td>\n",
       "      <td>0.002081</td>\n",
       "    </tr>\n",
       "    <tr>\n",
       "      <th>3</th>\n",
       "      <td>00017563c3f7919a</td>\n",
       "      <td>0.002032</td>\n",
       "      <td>0.000912</td>\n",
       "      <td>0.001447</td>\n",
       "      <td>0.000526</td>\n",
       "      <td>0.001639</td>\n",
       "      <td>0.000589</td>\n",
       "    </tr>\n",
       "    <tr>\n",
       "      <th>4</th>\n",
       "      <td>00017695ad8997eb</td>\n",
       "      <td>0.018586</td>\n",
       "      <td>0.001227</td>\n",
       "      <td>0.005835</td>\n",
       "      <td>0.000656</td>\n",
       "      <td>0.007812</td>\n",
       "      <td>0.001289</td>\n",
       "    </tr>\n",
       "  </tbody>\n",
       "</table>\n",
       "</div>"
      ],
      "text/plain": [
       "                 id     toxic severe_toxic   obscene    threat    insult  \\\n",
       "0  00001cee341fdb12  0.992984     0.061572  0.973541  0.009156  0.872076   \n",
       "1  0000247867823ef7  0.005591     0.001875   0.00355  0.001025  0.005427   \n",
       "2  00013b17ad220c46   0.01906     0.002521  0.007678  0.000903  0.009228   \n",
       "3  00017563c3f7919a  0.002032     0.000912  0.001447  0.000526  0.001639   \n",
       "4  00017695ad8997eb  0.018586     0.001227  0.005835  0.000656  0.007812   \n",
       "\n",
       "  identity_hate  \n",
       "0      0.089269  \n",
       "1      0.002021  \n",
       "2      0.002081  \n",
       "3      0.000589  \n",
       "4      0.001289  "
      ]
     },
     "execution_count": 21,
     "metadata": {},
     "output_type": "execute_result"
    }
   ],
   "source": [
    "submission = pd.DataFrame(columns = train.columns)\n",
    "submission.drop(columns='comment_text', inplace=True)\n",
    "submission.loc[:, 'id'] = test['id']\n",
    "submission.iloc[:, -6:] = pred\n",
    "submission.to_csv('submission.csv', index = False)\n",
    "submission.head()"
   ]
  },
  {
   "cell_type": "code",
   "execution_count": null,
   "id": "70b9e46b",
   "metadata": {
    "papermill": {
     "duration": 0.008815,
     "end_time": "2022-08-29T07:11:30.004759",
     "exception": false,
     "start_time": "2022-08-29T07:11:29.995944",
     "status": "completed"
    },
    "tags": []
   },
   "outputs": [],
   "source": []
  },
  {
   "cell_type": "code",
   "execution_count": null,
   "id": "383da828",
   "metadata": {
    "papermill": {
     "duration": 0.009264,
     "end_time": "2022-08-29T07:11:30.023572",
     "exception": false,
     "start_time": "2022-08-29T07:11:30.014308",
     "status": "completed"
    },
    "tags": []
   },
   "outputs": [],
   "source": []
  }
 ],
 "metadata": {
  "kernelspec": {
   "display_name": "Python 3 (ipykernel)",
   "language": "python",
   "name": "python3"
  },
  "language_info": {
   "codemirror_mode": {
    "name": "ipython",
    "version": 3
   },
   "file_extension": ".py",
   "mimetype": "text/x-python",
   "name": "python",
   "nbconvert_exporter": "python",
   "pygments_lexer": "ipython3",
   "version": "3.9.12"
  },
  "papermill": {
   "default_parameters": {},
   "duration": 943.935349,
   "end_time": "2022-08-29T07:11:32.759974",
   "environment_variables": {},
   "exception": null,
   "input_path": "__notebook__.ipynb",
   "output_path": "__notebook__.ipynb",
   "parameters": {},
   "start_time": "2022-08-29T06:55:48.824625",
   "version": "2.3.4"
  },
  "toc": {
   "base_numbering": 1,
   "nav_menu": {},
   "number_sections": true,
   "sideBar": true,
   "skip_h1_title": false,
   "title_cell": "Table of Contents",
   "title_sidebar": "Contents",
   "toc_cell": false,
   "toc_position": {},
   "toc_section_display": true,
   "toc_window_display": false
  },
  "varInspector": {
   "cols": {
    "lenName": 16,
    "lenType": 16,
    "lenVar": 40
   },
   "kernels_config": {
    "python": {
     "delete_cmd_postfix": "",
     "delete_cmd_prefix": "del ",
     "library": "var_list.py",
     "varRefreshCmd": "print(var_dic_list())"
    },
    "r": {
     "delete_cmd_postfix": ") ",
     "delete_cmd_prefix": "rm(",
     "library": "var_list.r",
     "varRefreshCmd": "cat(var_dic_list()) "
    }
   },
   "types_to_exclude": [
    "module",
    "function",
    "builtin_function_or_method",
    "instance",
    "_Feature"
   ],
   "window_display": false
  }
 },
 "nbformat": 4,
 "nbformat_minor": 5
}
